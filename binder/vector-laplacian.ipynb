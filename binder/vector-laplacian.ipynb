{
 "cells": [
  {
   "cell_type": "markdown",
   "metadata": {},
   "source": [
    "# Vector Laplacian in curvilinear coordinates\n",
    "\n",
    "The vector Laplacian is\n",
    "\n",
    "$$\n",
    "\\nabla^2 \\vec{u} = \\nabla \\cdot \\nabla \\vec{u}\n",
    "$$\n",
    "\n",
    "A vector identity gives the vector Laplacian as\n",
    "\n",
    "$$\n",
    "\\nabla^2 \\vec{u} = \\nabla \\nabla \\cdot \\vec{u} - \\nabla \\times \\nabla \\times \\vec{u}\n",
    "$$\n",
    "\n",
    "We will check if this identity holds for shenfun using both cylindrical and spherical coordinates.\n",
    "\n",
    "For reference, the vector Laplacian is given [here](https://en.wikipedia.org/wiki/Del_in_cylindrical_and_spherical_coordinates)\n",
    "\n",
    "Cylinder coordinates are mapped to Cartesian through\n",
    "\n",
    "$$\n",
    "\\begin{align*}\n",
    "x &= r \\cos \\theta \\\\\n",
    "y &= r \\sin \\theta \\\\\n",
    "z &= z\n",
    "\\end{align*}\n",
    "$$\n",
    "\n",
    "and we use a domain $(r, \\theta, z) \\in [0, 1] \\times [0, 2 \\pi] \\times [0, 2 \\pi]$.\n",
    "\n",
    "Spherical coordinates are mapped as\n",
    "\n",
    "$$\n",
    "\\begin{align*}\n",
    "x &= r \\sin(\\theta) \\cos(\\phi)\\\\\n",
    "y &= r \\sin(\\theta) \\sin(\\phi)\\\\\n",
    "z &= r \\cos(\\theta)\n",
    "\\end{align*}\n",
    "$$\n",
    "\n",
    "for a domain $(r, \\theta, \\phi) \\in [0, 1] \\times [0, \\pi] \\times [0, 2 \\pi]$.\n",
    "\n",
    "This is all we need to know for using these coordinate systems with shenfun."
   ]
  },
  {
   "cell_type": "markdown",
   "metadata": {},
   "source": [
    "# Cylinder coordinates"
   ]
  },
  {
   "cell_type": "code",
   "execution_count": 1,
   "metadata": {},
   "outputs": [],
   "source": [
    "from shenfun import *\n",
    "from IPython.display import Math\n",
    "import sympy as sp\n",
    "\n",
    "r, theta, z = psi = sp.symbols('x,y,z', real=True, positive=True)\n",
    "rv = (r*sp.cos(theta), r*sp.sin(theta), z)\n",
    "\n",
    "N = 10\n",
    "F0 = FunctionSpace(N, 'F', dtype='d')\n",
    "F1 = FunctionSpace(N, 'F', dtype='D')\n",
    "L = FunctionSpace(N, 'L', domain=(0, 1))\n",
    "T = TensorProductSpace(comm, (L, F1, F0), coordinates=(psi, rv))\n",
    "V = VectorTensorProductSpace(T)\n",
    "u = TrialFunction(V)"
   ]
  },
  {
   "cell_type": "code",
   "execution_count": 2,
   "metadata": {},
   "outputs": [
    {
     "data": {
      "text/latex": [
       "$\\displaystyle \\frac{\\partial  u^{r}}{\\partial r  }+\\frac{1}{r}u^{r}+\\frac{\\partial  u^{\\theta}}{\\partial \\theta  }+\\frac{\\partial  u^{z}}{\\partial z  }$"
      ],
      "text/plain": [
       "<IPython.core.display.Math object>"
      ]
     },
     "execution_count": 2,
     "metadata": {},
     "output_type": "execute_result"
    }
   ],
   "source": [
    "du = div(u)\n",
    "Math(du.tolatex(funcname='u', symbol_names={r: 'r', theta: '\\\\theta', z: 'z'}))"
   ]
  },
  {
   "cell_type": "code",
   "execution_count": 3,
   "metadata": {},
   "outputs": [
    {
     "data": {
      "text/latex": [
       "$\\displaystyle 3 \\cos{\\left(y \\right)} + 1$"
      ],
      "text/plain": [
       "3*cos(y) + 1"
      ]
     },
     "execution_count": 3,
     "metadata": {},
     "output_type": "execute_result"
    }
   ],
   "source": [
    "du.tosympy(basis=(r*sp.cos(theta), sp.sin(theta), z), psi=psi)"
   ]
  },
  {
   "cell_type": "markdown",
   "metadata": {},
   "source": [
    "The vector Laplacian can now be found as"
   ]
  },
  {
   "cell_type": "code",
   "execution_count": 4,
   "metadata": {},
   "outputs": [],
   "source": [
    "du = div(grad(u))"
   ]
  },
  {
   "cell_type": "markdown",
   "metadata": {},
   "source": [
    "We can look at `du` using the following"
   ]
  },
  {
   "cell_type": "code",
   "execution_count": 5,
   "metadata": {},
   "outputs": [
    {
     "data": {
      "text/latex": [
       "$\\displaystyle \\left( \\frac{\\partial^2 u^{r}}{\\partial r^2 }+\\frac{1}{r}\\frac{\\partial  u^{r}}{\\partial r  }+\\frac{1}{r^{2}}\\frac{\\partial^2 u^{r}}{\\partial \\theta^2 }- \\frac{2}{r}\\frac{\\partial  u^{\\theta}}{\\partial \\theta  }- \\frac{1}{r^{2}}u^{r}+\\frac{\\partial^2 u^{r}}{\\partial z^2 }\\right) \\mathbf{b}_{r} \\\\+\\left( \\frac{\\partial^2 u^{\\theta}}{\\partial r^2 }+\\frac{3}{r}\\frac{\\partial  u^{\\theta}}{\\partial r  }+\\frac{1}{r^{2}}\\frac{\\partial^2 u^{\\theta}}{\\partial \\theta^2 }+\\frac{2}{r^{3}}\\frac{\\partial  u^{r}}{\\partial \\theta  }+\\frac{\\partial^2 u^{\\theta}}{\\partial z^2 }\\right) \\mathbf{b}_{\\theta} \\\\+\\left( \\frac{\\partial^2 u^{z}}{\\partial r^2 }+\\frac{1}{r}\\frac{\\partial  u^{z}}{\\partial r  }+\\frac{1}{r^{2}}\\frac{\\partial^2 u^{z}}{\\partial \\theta^2 }+\\frac{\\partial^2 u^{z}}{\\partial z^2 }\\right) \\mathbf{b}_{z} \\\\$"
      ],
      "text/plain": [
       "<IPython.core.display.Math object>"
      ]
     },
     "execution_count": 5,
     "metadata": {},
     "output_type": "execute_result"
    }
   ],
   "source": [
    "Math((du).tolatex(funcname='u', symbol_names={r: 'r', theta: '\\\\theta', z: 'z'}))"
   ]
  },
  {
   "cell_type": "markdown",
   "metadata": {},
   "source": [
    "Note that the basis vectors $\\mathbf{b}_i$ are not unit vectors (i.e., of length 1). For this reason the equation does not look exactly like the one [here](https://en.wikipedia.org/wiki/Del_in_cylindrical_and_spherical_coordinates). The basis vectors are"
   ]
  },
  {
   "cell_type": "code",
   "execution_count": 6,
   "metadata": {},
   "outputs": [
    {
     "data": {
      "text/latex": [
       "$\\displaystyle  \\mathbf{b}_{r} =\\cos{\\left(\\theta \\right)}\\,\\mathbf{i}+\\sin{\\left(\\theta \\right)}\\,\\mathbf{j} \\\\ \\mathbf{b}_{\\theta} =- r \\sin{\\left(\\theta \\right)}\\,\\mathbf{i}+r \\cos{\\left(\\theta \\right)}\\,\\mathbf{j} \\\\ \\mathbf{b}_{z} =\\mathbf{k} \\\\  $"
      ],
      "text/plain": [
       "<IPython.core.display.Math object>"
      ]
     },
     "execution_count": 6,
     "metadata": {},
     "output_type": "execute_result"
    }
   ],
   "source": [
    "Math(T.coors.latex_basis_vectors(covariant=True, symbol_names={r: 'r', theta: '\\\\theta', z: 'z'}))"
   ]
  },
  {
   "cell_type": "markdown",
   "metadata": {},
   "source": [
    "Notice that $|\\mathbf{b}_{\\theta}|=r$. Shenfun uses non-normalized covariant basis vectors for describing all vectors and higher order tensors. The vector components are contraviariant and as such use a superscript $u^{\\theta}$ and not subscript $u_{\\theta}$. Note that for orthogonal coordinates the scaled unit vectors are the same for either contra- or covariant basis vectors and as such this distinction is not necessary here. The distinction is only required for non-orthogonal coordinate systems. Shenfun can handle both orthogonal and non-orthogonal coordinates, but requires that equations to be solved are separable.  \n",
    "\n",
    "Now check the vector identity\n",
    "\n",
    "$$\n",
    "\\nabla^2 \\vec{u} = \\nabla \\nabla \\cdot \\vec{u} - \\nabla \\times \\nabla \\times \\vec{u}\n",
    "$$"
   ]
  },
  {
   "cell_type": "code",
   "execution_count": 7,
   "metadata": {},
   "outputs": [
    {
     "data": {
      "text/latex": [
       "$\\displaystyle \\left( \\frac{\\partial^2 u^{r}}{\\partial r^2 }+\\frac{1}{r}\\frac{\\partial  u^{r}}{\\partial r  }- \\frac{1}{r^{2}}u^{r}+\\frac{\\partial^2 u^{r}}{\\partial z^2 }+\\frac{1}{r^{2}}\\frac{\\partial^2 u^{r}}{\\partial \\theta^2 }- \\frac{2}{r}\\frac{\\partial  u^{\\theta}}{\\partial \\theta  }\\right) \\mathbf{b}_{r} \\\\+\\left( \\frac{2}{r^{3}}\\frac{\\partial  u^{r}}{\\partial \\theta  }+\\frac{1}{r^{2}}\\frac{\\partial^2 u^{\\theta}}{\\partial \\theta^2 }+\\frac{\\partial^2 u^{\\theta}}{\\partial z^2 }+\\frac{\\partial^2 u^{\\theta}}{\\partial r^2 }+\\frac{3}{r}\\frac{\\partial  u^{\\theta}}{\\partial r  }\\right) \\mathbf{b}_{\\theta} \\\\+\\left( \\frac{\\partial^2 u^{z}}{\\partial z^2 }+\\frac{1}{r^{2}}\\frac{\\partial^2 u^{z}}{\\partial \\theta^2 }+\\frac{\\partial^2 u^{z}}{\\partial r^2 }+\\frac{1}{r}\\frac{\\partial  u^{z}}{\\partial r  }\\right) \\mathbf{b}_{z} \\\\$"
      ],
      "text/plain": [
       "<IPython.core.display.Math object>"
      ]
     },
     "execution_count": 7,
     "metadata": {},
     "output_type": "execute_result"
    }
   ],
   "source": [
    "dv = grad(div(u)) - curl(curl(u))\n",
    "dv.simplify()\n",
    "Math((dv).tolatex(funcname='u', symbol_names={r: 'r', theta: '\\\\theta', z: 'z'}))"
   ]
  },
  {
   "cell_type": "markdown",
   "metadata": {},
   "source": [
    "We see that the order is different, but the vector is actually identical to the previous one (du). To show that they are equal we can subtract one from the other and simplify."
   ]
  },
  {
   "cell_type": "code",
   "execution_count": 8,
   "metadata": {},
   "outputs": [
    {
     "data": {
      "text/latex": [
       "$\\displaystyle 0 \\mathbf{b}_{r} \\\\ +0 \\mathbf{b}_{\\theta} \\\\ +0 \\mathbf{b}_{z} \\\\ $"
      ],
      "text/plain": [
       "<IPython.core.display.Math object>"
      ]
     },
     "execution_count": 8,
     "metadata": {},
     "output_type": "execute_result"
    }
   ],
   "source": [
    "dw = du-dv\n",
    "dw.simplify()\n",
    "Math(dw.tolatex(funcname='u', symbol_names={r: 'r', theta: '\\\\theta', z: 'z'}))"
   ]
  },
  {
   "cell_type": "markdown",
   "metadata": {},
   "source": [
    "If you are not convinced we can assemble some matrices and check that `du` and `dv` behave the same way."
   ]
  },
  {
   "cell_type": "code",
   "execution_count": 9,
   "metadata": {},
   "outputs": [],
   "source": [
    "v = TestFunction(V)\n",
    "A0 = inner(v, du)\n",
    "A1 = inner(v, dv)"
   ]
  },
  {
   "cell_type": "markdown",
   "metadata": {},
   "source": [
    "`A0` and `A1` now contains lists of tensor product matrices, because the vector identities contain a lot of different terms (as we have seen above). To check that `A0` and `A1` are identical, we test the vector product of the matrices with a random vector. Since we are working with vectors we use a `BlockMatrix` for the combined tensor product matrices."
   ]
  },
  {
   "cell_type": "code",
   "execution_count": 10,
   "metadata": {},
   "outputs": [
    {
     "name": "stdout",
     "output_type": "stream",
     "text": [
      "Error  9.158660572399797e-13\n"
     ]
    }
   ],
   "source": [
    "u_hat = Function(V)\n",
    "u_hat[:] = np.random.random(u_hat.shape) + np.random.random(u_hat.shape)*1j\n",
    "a0 = BlockMatrix(A0)\n",
    "a1 = BlockMatrix(A1)\n",
    "b0 = Function(V)\n",
    "b1 = Function(V)\n",
    "b0 = a0.matvec(u_hat, b0)\n",
    "b1 = a1.matvec(u_hat, b1)\n",
    "print('Error ', np.linalg.norm(b0-b1))"
   ]
  },
  {
   "cell_type": "markdown",
   "metadata": {},
   "source": [
    "# Spherical coordinates\n",
    "\n",
    "We now turn to spherical coordinates and run the same test."
   ]
  },
  {
   "cell_type": "code",
   "execution_count": 11,
   "metadata": {},
   "outputs": [],
   "source": [
    "r, theta, phi = psi = sp.symbols('x,y,z', real=True, positive=True)\n",
    "rv = (r*sp.sin(theta)*sp.cos(phi), r*sp.sin(theta)*sp.sin(phi), r*sp.cos(theta))\n",
    "N = 6\n",
    "F = FunctionSpace(N, 'F', dtype='d')\n",
    "L0 = FunctionSpace(N, 'L', domain=(0, 1))\n",
    "L1 = FunctionSpace(N, 'L', domain=(0, np.pi))\n",
    "T = TensorProductSpace(comm, (L0, L1, F), coordinates=(psi, rv, sp.Q.positive(sp.sin(theta))))\n",
    "V = VectorTensorProductSpace(T)\n",
    "u = TrialFunction(V)\n",
    "du = div(grad(u))\n",
    "dv = grad(div(u)) - curl(curl(u))\n",
    "dv.simplify()\n",
    "dw = du-dv\n",
    "dw.simplify()"
   ]
  },
  {
   "cell_type": "code",
   "execution_count": 12,
   "metadata": {},
   "outputs": [
    {
     "data": {
      "text/latex": [
       "$\\displaystyle 0 \\mathbf{b}_{r} \\\\ +0 \\mathbf{b}_{\\theta} \\\\ +0 \\mathbf{b}_{\\phi} \\\\ $"
      ],
      "text/plain": [
       "<IPython.core.display.Math object>"
      ]
     },
     "execution_count": 12,
     "metadata": {},
     "output_type": "execute_result"
    }
   ],
   "source": [
    "Math(dw.tolatex(funcname='u', symbol_names={r: 'r', theta: '\\\\theta', phi: '\\\\phi'}))"
   ]
  },
  {
   "cell_type": "markdown",
   "metadata": {},
   "source": [
    "This proves that for shenfun the vector identity $\\nabla^2 \\vec{u} = \\nabla \\nabla \\cdot \\vec{u} - \\nabla \\times \\nabla \\times \\vec{u}$ holds true also for spherical coordinates."
   ]
  },
  {
   "cell_type": "code",
   "execution_count": null,
   "metadata": {},
   "outputs": [],
   "source": []
  }
 ],
 "metadata": {
  "kernelspec": {
   "display_name": "Python 3",
   "language": "python",
   "name": "python3"
  },
  "language_info": {
   "codemirror_mode": {
    "name": "ipython",
    "version": 3
   },
   "file_extension": ".py",
   "mimetype": "text/x-python",
   "name": "python",
   "nbconvert_exporter": "python",
   "pygments_lexer": "ipython3",
   "version": "3.7.6"
  },
  "toc": {
   "base_numbering": 1,
   "nav_menu": {},
   "number_sections": false,
   "sideBar": true,
   "skip_h1_title": false,
   "title_cell": "Table of Contents",
   "title_sidebar": "Contents",
   "toc_cell": false,
   "toc_position": {},
   "toc_section_display": true,
   "toc_window_display": false
  }
 },
 "nbformat": 4,
 "nbformat_minor": 4
}
