{
 "cells": [
  {
   "cell_type": "markdown",
   "metadata": {},
   "source": [
    "# The Helmholtz equation on the Torus\n",
    "\n",
    "Helmholtz equation is given as\n",
    "\n",
    "$$\n",
    "\\nabla^2 u + \\alpha u = f.\n",
    "$$\n",
    "\n",
    "In this notebook we will solve this equation (without boundary conditions) on the surface of a torus, using curvilinear coordinates. The surface of the torus is parametrized by    \n",
    "\n",
    "$$\n",
    "\\begin{align}\n",
    "x(\\theta, \\phi) &= (R + r \\cos \\theta) \\cos \\phi \\\\\n",
    "y(\\theta, \\phi) &= (R + r \\cos \\theta) \\sin \\phi \\\\\n",
    "z(\\theta, \\phi) &= r \\sin \\theta\n",
    "\\end{align}\n",
    "$$\n",
    "\n",
    "where $\\theta, \\phi$ are angles which make a full circle, so that their values start and end at the same point, $R$ is the distance from the center of the tube to the center of the torus,\n",
    "$r$ is the radius of the tube. Note that $\\theta$ is the angle in the small circle (around its center), whereas $\\phi$ is the angle of the large circle, around origo.\n",
    "\n",
    "We start the implementation by importing necessary functionality from shenfun and sympy and then defining the coordinates of the surface of the torus. Note that `rv` represents the position vector spanning the surface."
   ]
  },
  {
   "cell_type": "code",
   "execution_count": 1,
   "metadata": {},
   "outputs": [],
   "source": [
    "from shenfun import *\n",
    "from shenfun.la import SolverGeneric1ND\n",
    "import sympy as sp\n",
    "from IPython.display import Math\n",
    "\n",
    "N = 80\n",
    "R = 3\n",
    "r = 1\n",
    "theta, phi = psi = sp.symbols('x,y', real=True, positive=True)\n",
    "rv = ((R + r*sp.cos(theta))*sp.cos(phi), (R + r*sp.cos(theta))*sp.sin(phi), phi+r*sp.sin(theta)) "
   ]
  },
  {
   "cell_type": "markdown",
   "metadata": {},
   "source": [
    "Now create necessary bases and function spaces. Due to the geometry of the problem, the solution will be periodic in both $\\theta$ and $\\phi$ directions, and we choose Fourier basis functions. The basis for the $\\phi$-direction can be either real to complex or complex to complex, depending on the type of the solution. Here we assume a real solution"
   ]
  },
  {
   "cell_type": "code",
   "execution_count": 2,
   "metadata": {},
   "outputs": [
    {
     "data": {
      "text/latex": [
       "$\\displaystyle \\sqrt{6 \\cos{\\left(x \\right)} + 10}$"
      ],
      "text/plain": [
       "sqrt(6*cos(x) + 10)"
      ]
     },
     "execution_count": 2,
     "metadata": {},
     "output_type": "execute_result"
    }
   ],
   "source": [
    "B1 = FunctionSpace(N, 'F', dtype='D', domain=(0, 2*np.pi))\n",
    "B2 = FunctionSpace(N, 'F', dtype='d', domain=(0, 8*np.pi))\n",
    "T = TensorProductSpace(comm, (B1, B2), coordinates=(psi, rv, sp.Q.positive(r*sp.cos(theta)+R)))\n",
    "V = VectorTensorProductSpace(T)\n",
    "u = TrialFunction(T)\n",
    "v = TestFunction(T)\n",
    "T.coors.sg"
   ]
  },
  {
   "cell_type": "markdown",
   "metadata": {},
   "source": [
    "Note the assumption `sp.Q.positive(r*sp.cos(theta)+R))`, which is there to help sympy when computing basis vectors and scaling factors. It is not completely necessary, but try to omit it and look at what happens to the expanded Helmholtz equation below."
   ]
  },
  {
   "cell_type": "code",
   "execution_count": 3,
   "metadata": {},
   "outputs": [
    {
     "data": {
      "text/latex": [
       "$$\\frac{\\cos^{2}{\\left(\\theta \\right)} + 6 \\cos{\\left(\\theta \\right)} + 10}{g}\\frac{\\partial^2 u}{\\partial \\theta^2 }- \\frac{2 \\cos{\\left(\\theta \\right)}}{g}\\frac{\\partial^2 u}{\\partial \\theta  \\partial \\phi  }- \\frac{\\left(9 \\cos^{2}{\\left(\\theta \\right)} + 38 \\cos{\\left(\\theta \\right)} + 30\\right) \\sin{\\left(\\theta \\right)}}{g^{2}}\\frac{\\partial  u}{\\partial \\theta  }+\\frac{\\left(3 \\cos{\\left(\\theta \\right)} + 10\\right) \\sin{\\left(\\theta \\right)}}{g^{2}}\\frac{\\partial  u}{\\partial \\phi  }+\\frac{1}{g}\\frac{\\partial^2 u}{\\partial \\phi^2 }+u$$"
      ],
      "text/plain": [
       "<IPython.core.display.Math object>"
      ]
     },
     "execution_count": 3,
     "metadata": {},
     "output_type": "execute_result"
    }
   ],
   "source": [
    "alpha = 1\n",
    "du = div(grad(u))+alpha*u\n",
    "g = sp.Symbol('g', real=True, positive=True) # The Jacobian**2 (T.coors.sg**2)\n",
    "replace = [(3*sp.cos(theta)+5, g/2)] # to simplify the look\n",
    "Math(du.tolatex(symbol_names={r: 'r', theta: '\\\\theta', phi: '\\\\phi'}, replace=replace))"
   ]
  },
  {
   "cell_type": "markdown",
   "metadata": {},
   "source": [
    "We now create a manufactured solution that satisfies periodicity and compute the right hand side $f$."
   ]
  },
  {
   "cell_type": "code",
   "execution_count": 4,
   "metadata": {},
   "outputs": [],
   "source": [
    "ue = sp.sin(theta*2)*sp.cos(4*phi)\n",
    "f = (div(grad(u))+alpha*u).tosympy(basis=ue, psi=psi)\n",
    "fj = Array(T, buffer=f)\n",
    "f_hat = Function(T)\n",
    "f_hat = inner(v, fj, output_array=f_hat)"
   ]
  },
  {
   "cell_type": "markdown",
   "metadata": {},
   "source": [
    "Assemble coefficient matrix and solve problem. Note that the tensorproduct matrices along axis 0 can be non-diagonal due to the measure $\\cos \\theta + 3$. The matrices along the second axis will all be diagonal, so we can choose to use `SolverGeneric1ND`"
   ]
  },
  {
   "cell_type": "code",
   "execution_count": 5,
   "metadata": {},
   "outputs": [
    {
     "name": "stderr",
     "output_type": "stream",
     "text": [
      "/Users/mikaelmortensen/MySoftware/shenfun/shenfun/matrixbase.py:501: ComplexWarning: Casting complex values to real discards the imaginary part\n",
      "  u.real[:] = self._lu.solve(b.real)\n",
      "/Users/mikaelmortensen/MySoftware/shenfun/shenfun/matrixbase.py:502: ComplexWarning: Casting complex values to real discards the imaginary part\n",
      "  u.imag[:] = self._lu.solve(b.imag)\n"
     ]
    },
    {
     "name": "stdout",
     "output_type": "stream",
     "text": [
      "Error = 6.557253972028063e-13\n"
     ]
    }
   ],
   "source": [
    "mats = inner(v, (div(grad(u))+alpha*u))\n",
    "#mats = inner(grad(v), -grad(u)) + inner(v, alpha*u)\n",
    "u_hat = Function(T)\n",
    "sol = SolverGeneric1ND(mats)\n",
    "u_hat = sol(f_hat, u_hat)\n",
    "uj = u_hat.backward()\n",
    "uq = Array(T, buffer=ue)\n",
    "print('Error =', np.linalg.norm(uj-uq))"
   ]
  },
  {
   "cell_type": "markdown",
   "metadata": {},
   "source": [
    "Finally, just plot the solution using mayavi. Wrap the periodic directions around and refine to get a nicer plot."
   ]
  },
  {
   "cell_type": "code",
   "execution_count": 6,
   "metadata": {
    "scrolled": true
   },
   "outputs": [
    {
     "data": {
      "text/plain": [
       "<matplotlib.lines.Line2D at 0x7ff27e6a0f98>"
      ]
     },
     "execution_count": 6,
     "metadata": {},
     "output_type": "execute_result"
    },
    {
     "data": {
      "image/png": "[encoded data removed]",
      "text/plain": [
       "<Figure size 432x288 with 1 Axes>"
      ]
     },
     "metadata": {
      "needs_background": "light"
     },
     "output_type": "display_data"
    }
   ],
   "source": [
    "import matplotlib.pyplot as plt\n",
    "% matplotlib inline\n",
    "#B = sol.diags(4, 'csr')\n",
    "#print(np.linalg.cond(B.toarray()))\n",
    "#len(sol.MM)\n",
    "plt.spy(sol.MM[4].diags(), markersize=0.1)"
   ]
  },
  {
   "cell_type": "code",
   "execution_count": 7,
   "metadata": {},
   "outputs": [],
   "source": [
    "from mayavi import mlab\n",
    "u_hat2 = u_hat.refine([N*2, N*2])\n",
    "ur = u_hat2.backward()\n",
    "xx, yy, zz = u_hat2.function_space().local_curvilinear_mesh()\n",
    "#xx = np.hstack([xx, xx[:, 0][:, None]])\n",
    "#yy = np.hstack([yy, yy[:, 0][:, None]])\n",
    "#zz = np.hstack([zz, zz[:, 0][:, None]])\n",
    "#ur = np.hstack([ur, ur[:, 0][:, None]])\n",
    "xx = np.vstack([xx, xx[0]])\n",
    "yy = np.vstack([yy, yy[0]])\n",
    "zz = np.vstack([zz, zz[0]])\n",
    "ur = np.vstack([ur, ur[0]])\n",
    "mlab.figure(bgcolor=(1, 1, 1))\n",
    "mlab.mesh(xx, yy, zz, scalars=ur.real, colormap='jet')\n",
    "mlab.savefig('torus.png')\n",
    "mlab.show()"
   ]
  }
 ],
 "metadata": {
  "kernelspec": {
   "display_name": "shenfun",
   "language": "python",
   "name": "shenfun"
  },
  "language_info": {
   "codemirror_mode": {
    "name": "ipython",
    "version": 3
   },
   "file_extension": ".py",
   "mimetype": "text/x-python",
   "name": "python",
   "nbconvert_exporter": "python",
   "pygments_lexer": "ipython3",
   "version": "3.6.11"
  },
  "toc": {
   "base_numbering": 1,
   "nav_menu": {},
   "number_sections": false,
   "sideBar": true,
   "skip_h1_title": false,
   "title_cell": "Table of Contents",
   "title_sidebar": "Contents",
   "toc_cell": false,
   "toc_position": {},
   "toc_section_display": true,
   "toc_window_display": false
  }
 },
 "nbformat": 4,
 "nbformat_minor": 4
}
