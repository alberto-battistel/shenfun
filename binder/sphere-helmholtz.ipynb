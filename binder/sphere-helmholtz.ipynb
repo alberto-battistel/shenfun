{
 "cells": [
  {
   "cell_type": "markdown",
   "metadata": {},
   "source": [
    "# Spherical coordinates in shenfun\n",
    "\n",
    "The Helmholtz equation is given as\n",
    "\n",
    "$$\n",
    "-\\nabla^2 u + \\alpha u = f.\n",
    "$$\n",
    "\n",
    "In this notebook we will solve this equation on a unitsphere, using spherical coordinates. To verify the implementation we use a spherical harmonics function as manufactured solution. \n",
    "\n",
    "We start the implementation by importing necessary functionality from shenfun and sympy:"
   ]
  },
  {
   "cell_type": "code",
   "execution_count": 1,
   "metadata": {},
   "outputs": [],
   "source": [
    "from shenfun import *\n",
    "from shenfun.la import SolverGeneric1ND\n",
    "import sympy as sp"
   ]
  },
  {
   "cell_type": "markdown",
   "metadata": {},
   "source": [
    "Define spherical coordinates $(r, \\theta, \\phi)$\n",
    "\n",
    "$$\n",
    "\\begin{align}\n",
    "x &= r \\sin \\theta \\cos \\phi \\\\\n",
    "y &= r \\sin \\theta \\sin \\phi \\\\\n",
    "z &= r \\cos \\theta\n",
    "\\end{align}\n",
    "$$\n",
    "\n",
    "using sympy. The radius `r` will be constant `r=1`. We create the three-dimensional position vector `rv` as a function of the two new coordinates $(\\theta, \\phi)$."
   ]
  },
  {
   "cell_type": "code",
   "execution_count": 2,
   "metadata": {},
   "outputs": [],
   "source": [
    "r = 1\n",
    "theta, phi = psi = sp.symbols('x,y', real=True, positive=True)\n",
    "rv = (r*sp.sin(theta)*sp.cos(phi), r*sp.sin(theta)*sp.sin(phi), r*sp.cos(theta))"
   ]
  },
  {
   "cell_type": "markdown",
   "metadata": {},
   "source": [
    "We define bases with the domains $\\theta \\in [0, \\pi]$ and $\\phi \\in [0, 2\\pi]$. Also define a tensorproductspace, test- and trialfunction. Note that the new coordinates and the position vector are fed to the `TensorProductSpace` and not the individual spaces:  "
   ]
  },
  {
   "cell_type": "code",
   "execution_count": 3,
   "metadata": {},
   "outputs": [],
   "source": [
    "N, M = 64, 64\n",
    "L0 = FunctionSpace(N, 'L', domain=(0, np.pi))\n",
    "F1 = FunctionSpace(M, 'F', dtype='D')\n",
    "T = TensorProductSpace(comm, (L0, F1), coordinates=(psi, rv, sp.Q.positive(sp.sin(theta))))\n",
    "v = TestFunction(T)\n",
    "u = TrialFunction(T)"
   ]
  },
  {
   "cell_type": "markdown",
   "metadata": {},
   "source": [
    "Use one spherical harmonic function as a manufactured solution"
   ]
  },
  {
   "cell_type": "code",
   "execution_count": 4,
   "metadata": {},
   "outputs": [],
   "source": [
    "#sph = sp.functions.special.spherical_harmonics.Ynm\n",
    "#ue = sph(6, 3, theta, phi)\n",
    "ue = sp.cos(8*(sp.sin(theta)*sp.cos(phi) + sp.sin(theta)*sp.sin(phi) + sp.cos(theta)))"
   ]
  },
  {
   "cell_type": "markdown",
   "metadata": {},
   "source": [
    "Compute the right hand side on the quadrature mesh and take the scalar product"
   ]
  },
  {
   "cell_type": "code",
   "execution_count": 5,
   "metadata": {},
   "outputs": [],
   "source": [
    "alpha = 1000\n",
    "g = (-div(grad(u))+alpha*u).tosympy(basis=ue, psi=psi)\n",
    "gj = Array(T, buffer=g*T.coors.sg)\n",
    "g_hat = Function(T)\n",
    "g_hat = inner(v, gj, output_array=g_hat)"
   ]
  },
  {
   "cell_type": "markdown",
   "metadata": {},
   "source": [
    "Note that we can use the `shenfun` operators `div` and `grad` on a trialfunction `u`, and then switch the trialfunction for a sympy function `ue`. The operators will then make use of sympy's [derivative method](https://docs.sympy.org/latest/tutorial/calculus.html#derivatives) on the function `ue`. Here `(-div(grad(u))+alpha*u)` corresponds to the equation we are trying to solve:"
   ]
  },
  {
   "cell_type": "code",
   "execution_count": 6,
   "metadata": {},
   "outputs": [
    {
     "data": {
      "text/latex": [
       "$\\displaystyle -1\\frac{\\partial^2 u}{\\partial \\theta^2 }- \\frac{1}{\\tan{\\left(\\theta \\right)}}\\frac{\\partial  u}{\\partial \\theta  }- \\frac{1}{\\sin^{2}{\\left(\\theta \\right)}}\\frac{\\partial^2 u}{\\partial \\phi^2 }+1000u$"
      ],
      "text/plain": [
       "<IPython.core.display.Math object>"
      ]
     },
     "execution_count": 6,
     "metadata": {},
     "output_type": "execute_result"
    }
   ],
   "source": [
    "from IPython.display import Math\n",
    "Math((-div(grad(u))+alpha*u).tolatex(funcname='u', symbol_names={theta: '\\\\theta', phi: '\\\\phi'}))\n",
    "#Math((grad(u)).tolatex(funcname='u', symbol_names={theta: '\\\\theta', phi: '\\\\phi'}))"
   ]
  },
  {
   "cell_type": "markdown",
   "metadata": {},
   "source": [
    "Evaluated with `u=ue` and you get the exact right hand side `f`.\n",
    "\n",
    "Tensor product matrices that make up the Helmholtz equation are then assembled as "
   ]
  },
  {
   "cell_type": "code",
   "execution_count": 27,
   "metadata": {},
   "outputs": [],
   "source": [
    "mats = inner(v, (-div(grad(u))+alpha*u)*T.coors.sg**2)"
   ]
  },
  {
   "cell_type": "code",
   "execution_count": 28,
   "metadata": {},
   "outputs": [
    {
     "data": {
      "text/plain": [
       "{0: array([  0.        ,   0.        ,  -0.89368458,  -1.10122571,\n",
       "         -1.46538411,  -1.80805871,  -2.14980084,  -2.49008026,\n",
       "         -2.82940131,  -3.16804407,  -3.50619201,  -3.8439688 ,\n",
       "         -4.18146048,  -4.51872861,  -4.85581836,  -5.19276356,\n",
       "         -5.52959001,  -5.86631778,  -6.20296263,  -6.53953719,\n",
       "         -6.87605161,  -7.21251422,  -7.54893186,  -7.88531023,\n",
       "         -8.22165409,  -8.55796749,  -8.89425384,  -9.23051609,\n",
       "         -9.56675675,  -9.90297802, -10.23918178, -10.57536971,\n",
       "        -10.91154324, -11.24770368, -11.58385215, -11.91998967,\n",
       "        -12.25611712, -12.59223532, -12.92834498, -13.26444674,\n",
       "        -13.6005412 , -13.93662888, -14.27271025, -14.60878575,\n",
       "        -14.94485578, -15.28092069, -15.61698082, -15.95303646,\n",
       "        -16.2890879 , -16.62513538, -16.96117915, -17.29721941,\n",
       "        -17.63325637, -17.96929022, -18.30532112, -18.64134923,\n",
       "        -18.97737467, -19.31339934, -19.64934909, -19.98757772,\n",
       "        -20.27495137, -21.30584273, -16.0379596 , -36.31874551]),\n",
       " 2: array([ 2.54647909,  1.2651832 ,  1.69289396,  1.86694232,  2.08392867,\n",
       "         2.30691025,  2.53448966,  2.76493078,  2.99729403,  3.23100757,\n",
       "         3.46570502,  3.70114108,  3.93714548,  4.17359644,  4.41040457,\n",
       "         4.6475028 ,  4.88483982,  5.12237576,  5.36007912,  5.59792472,\n",
       "         5.83589218,  6.07396483,  6.31212892,  6.55037296,  6.78868735,\n",
       "         7.02706394,  7.26549579,  7.50397696,  7.74250234,  7.98106749,\n",
       "         8.21966855,  8.45830215,  8.69696531,  8.93565542,  9.17437017,\n",
       "         9.41310748,  9.65186554,  9.8906427 , 10.12943748, 10.36824855,\n",
       "        10.60707473, 10.84591493, 11.08476817, 11.32363355, 11.56251028,\n",
       "        11.80139759, 12.04029483, 12.27920136, 12.51811661, 12.75704007,\n",
       "        12.99597124, 13.23490968, 13.47385498, 13.71280676, 13.95176465,\n",
       "        14.19072838, 14.4296958 , 14.66874352, 14.90543606, 15.1947172 ,\n",
       "        14.71559632, 20.74261348]),\n",
       " 4: array([-1.93805651, -1.08263499, -1.0730081 , -1.08662271, -1.12920956,\n",
       "        -1.18474019, -1.2476597 , -1.31517126, -1.38573485, -1.4584311 ,\n",
       "        -1.5326769 , -1.60808435, -1.68438526, -1.76138824, -1.83895299,\n",
       "        -1.91697432, -1.99537179, -2.07408283, -2.15305804, -2.23225787,\n",
       "        -2.31165033, -2.3912092 , -2.47091284, -2.5507432 , -2.63068512,\n",
       "        -2.71072576, -2.79085417, -2.87106099, -2.95133811, -3.03167854,\n",
       "        -3.11207616, -3.19252563, -3.27302224, -3.35356184, -3.43414077,\n",
       "        -3.51475574, -3.59540386, -3.6760825 , -3.75678932, -3.83752223,\n",
       "        -3.9182793 , -3.99905883, -4.07985925, -4.16067913, -4.24151719,\n",
       "        -4.32237224, -4.40324319, -4.48412907, -4.56502895, -4.64594199,\n",
       "        -4.72686744, -4.80780456, -4.8887527 , -4.96971126, -5.05067962,\n",
       "        -5.13165915, -5.21256979, -5.29592998, -5.32493889, -6.1478741 ]),\n",
       " 6: array([0.41435267, 0.23144093, 0.21101901, 0.20488386, 0.20573058,\n",
       "        0.20992215, 0.21600903, 0.22327621, 0.23132986, 0.2399346 ,\n",
       "        0.24894087, 0.25824897, 0.26778979, 0.27751392, 0.28738505,\n",
       "        0.29737589, 0.30746553, 0.31763769, 0.32787947, 0.33818054,\n",
       "        0.34853253, 0.35892857, 0.36936297, 0.37983099, 0.39032864,\n",
       "        0.40085253, 0.41139978, 0.42196791, 0.43255479, 0.44315855,\n",
       "        0.45377758, 0.46441046, 0.47505595, 0.48571294, 0.49638046,\n",
       "        0.50705763, 0.51774368, 0.52843792, 0.53913972, 0.54984852,\n",
       "        0.56056381, 0.57128514, 0.58201207, 0.59274424, 0.6034813 ,\n",
       "        0.61422294, 0.62496885, 0.63571878, 0.64647249, 0.65722974,\n",
       "        0.66799033, 0.67875408, 0.68952079, 0.70029035, 0.71106065,\n",
       "        0.72191388, 0.73024514, 0.794759  ]),\n",
       " 8: array([-0.04292669, -0.02373024, -0.02073537, -0.01960641, -0.019258  ,\n",
       "        -0.01928849, -0.01953392, -0.01991359, -0.02038297, -0.02091539,\n",
       "        -0.02149387, -0.02210707, -0.02274709, -0.02340829, -0.0240865 ,\n",
       "        -0.0247786 , -0.02548217, -0.02619535, -0.02691663, -0.02764484,\n",
       "        -0.02837899, -0.0291183 , -0.02986209, -0.03060983, -0.03136105,\n",
       "        -0.03211534, -0.03287239, -0.03363189, -0.03439359, -0.03515729,\n",
       "        -0.03592278, -0.03668991, -0.03745853, -0.03822851, -0.03899973,\n",
       "        -0.03977209, -0.04054551, -0.04131989, -0.04209517, -0.04287128,\n",
       "        -0.04364815, -0.04442575, -0.04520401, -0.04598289, -0.04676235,\n",
       "        -0.04754235, -0.04832286, -0.04910385, -0.04988529, -0.05066715,\n",
       "        -0.05144941, -0.05223204, -0.05301499, -0.05380026, -0.05450266,\n",
       "        -0.0578151 ]),\n",
       " 10: array([0.00266486, 0.00145798, 0.00124048, 0.00115148, 0.00111336,\n",
       "        0.00110007, 0.00110088, 0.00111053, 0.0011261 , 0.00114584,\n",
       "        0.00116863, 0.00119373, 0.00122062, 0.00124892, 0.00127836,\n",
       "        0.00130873, 0.00133986, 0.00137164, 0.00140397, 0.00143676,\n",
       "        0.00146995, 0.00150349, 0.00153733, 0.00157144, 0.00160579,\n",
       "        0.00164034, 0.00167508, 0.00170998, 0.00174504, 0.00178023,\n",
       "        0.00181554, 0.00185097, 0.00188649, 0.00192211, 0.00195781,\n",
       "        0.00199359, 0.00202944, 0.00206536, 0.00210134, 0.00213737,\n",
       "        0.00217346, 0.0022096 , 0.00224578, 0.00228201, 0.00231827,\n",
       "        0.00235457, 0.00239091, 0.00242728, 0.00246368, 0.00250011,\n",
       "        0.00253656, 0.00257308, 0.00260757, 0.00272811]),\n",
       " 12: array([-1.10962024e-04, -6.01676614e-05, -5.02532579e-05, -4.60136882e-05,\n",
       "        -4.39653764e-05, -4.29885890e-05, -4.26222025e-05, -4.26389340e-05,\n",
       "        -4.29129654e-05, -4.33686625e-05, -4.39576656e-05, -4.46475341e-05,\n",
       "        -4.54156535e-05, -4.62457545e-05, -4.71258201e-05, -4.80467738e-05,\n",
       "        -4.90016271e-05, -4.99849086e-05, -5.09922713e-05, -5.20202169e-05,\n",
       "        -5.30658970e-05, -5.41269683e-05, -5.52014851e-05, -5.62878176e-05,\n",
       "        -5.73845908e-05, -5.84906356e-05, -5.96049522e-05, -6.07266798e-05,\n",
       "        -6.18550737e-05, -6.29894860e-05, -6.41293504e-05, -6.52741696e-05,\n",
       "        -6.64235055e-05, -6.75769702e-05, -6.87342189e-05, -6.98949443e-05,\n",
       "        -7.10588718e-05, -7.22257550e-05, -7.33953720e-05, -7.45675229e-05,\n",
       "        -7.57420266e-05, -7.69187190e-05, -7.80974511e-05, -7.92780869e-05,\n",
       "        -8.04605025e-05, -8.16445843e-05, -8.28302283e-05, -8.40173391e-05,\n",
       "        -8.52058216e-05, -8.63961839e-05, -8.75484835e-05, -9.08230167e-05]),\n",
       " 14: array([3.32529159e-06, 1.78954469e-06, 1.47436700e-06, 1.33578445e-06,\n",
       "        1.26448690e-06, 1.22615348e-06, 1.20663342e-06, 1.19894504e-06,\n",
       "        1.19921815e-06, 1.20512269e-06, 1.21516664e-06, 1.22834768e-06,\n",
       "        1.24396611e-06, 1.26151782e-06, 1.28063004e-06, 1.30102082e-06,\n",
       "        1.32247282e-06, 1.34481574e-06, 1.36791412e-06, 1.39165877e-06,\n",
       "        1.41596079e-06, 1.44074688e-06, 1.46595627e-06, 1.49153788e-06,\n",
       "        1.51744861e-06, 1.54365181e-06, 1.57011616e-06, 1.59681460e-06,\n",
       "        1.62372370e-06, 1.65082304e-06, 1.67809494e-06, 1.70552377e-06,\n",
       "        1.73309557e-06, 1.76079809e-06, 1.78862065e-06, 1.81655348e-06,\n",
       "        1.84458790e-06, 1.87271609e-06, 1.90093105e-06, 1.92922650e-06,\n",
       "        1.95759675e-06, 1.98603659e-06, 2.01454119e-06, 2.04310634e-06,\n",
       "        2.07172816e-06, 2.10040296e-06, 2.12912747e-06, 2.15790594e-06,\n",
       "        2.18612581e-06, 2.25504563e-06]),\n",
       " 16: array([-7.52908371e-08, -4.02619760e-08, -3.28229569e-08, -2.94883213e-08,\n",
       "        -2.77053938e-08, -2.66838381e-08, -2.60975538e-08, -2.57854629e-08,\n",
       "        -2.56581467e-08, -2.56617628e-08, -2.57617743e-08, -2.59349306e-08,\n",
       "        -2.61649885e-08, -2.64402188e-08, -2.67519612e-08, -2.70936697e-08,\n",
       "        -2.74602817e-08, -2.78477816e-08, -2.82530221e-08, -2.86734363e-08,\n",
       "        -2.91070189e-08, -2.95519922e-08, -3.00069059e-08, -3.04705960e-08,\n",
       "        -3.09421021e-08, -3.14204969e-08, -3.19050139e-08, -3.23950671e-08,\n",
       "        -3.28901470e-08, -3.33897956e-08, -3.38934240e-08, -3.44007090e-08,\n",
       "        -3.49114919e-08, -3.54253939e-08, -3.59421132e-08, -3.64613773e-08,\n",
       "        -3.69830961e-08, -3.75070570e-08, -3.80331131e-08, -3.85610679e-08,\n",
       "        -3.90907241e-08, -3.96220085e-08, -4.01549583e-08, -4.06893037e-08,\n",
       "        -4.12250241e-08, -4.17620377e-08, -4.22926601e-08, -4.34482715e-08]),\n",
       " 18: array([1.33481307e-09, 7.09962445e-10, 5.73926135e-10, 5.12089365e-10,\n",
       "        4.78167291e-10, 4.57954721e-10, 4.45564977e-10, 4.38132380e-10,\n",
       "        4.34065476e-10, 4.32380236e-10, 4.32411059e-10, 4.33751810e-10,\n",
       "        4.36160178e-10, 4.39395717e-10, 4.43295333e-10, 4.47722463e-10,\n",
       "        4.52593168e-10, 4.57860261e-10, 4.63480768e-10, 4.69359531e-10,\n",
       "        4.75458265e-10, 4.81759357e-10, 4.88295067e-10, 4.94967118e-10,\n",
       "        5.01746859e-10, 5.08683174e-10, 5.15733675e-10, 5.22948972e-10,\n",
       "        5.30151944e-10, 5.37406344e-10, 5.44851311e-10, 5.52376204e-10,\n",
       "        5.59918408e-10, 5.67434005e-10, 5.75079919e-10, 5.82787325e-10,\n",
       "        5.90564391e-10, 5.98327103e-10, 6.06091985e-10, 6.13867821e-10,\n",
       "        6.21831902e-10, 6.29784924e-10, 6.37738870e-10, 6.45652840e-10,\n",
       "        6.53531277e-10, 6.69315698e-10]),\n",
       " -2: array([ 0.        ,  0.        ,  0.28483444,  0.49357016,  0.71948108,\n",
       "         0.94824687,  1.17947578,  1.41237402,  1.64646825,  1.88144632,\n",
       "         2.11709523,  2.35326495,  2.58984688,  2.82676053,  3.06394504,\n",
       "         3.30135352,  3.5389493 ,  3.77670327,  4.01459207,  4.25259668,\n",
       "         4.49070153,  4.7288937 ,  4.96716238,  5.2054985 ,  5.44389436,\n",
       "         5.68234338,  5.92083991,  6.15937909,  6.39795668,  6.63656899,\n",
       "         6.8752128 ,  7.11388526,  7.35258386,  7.59130638,  7.83005083,\n",
       "         8.06881545,  8.30759865,  8.54639902,  8.78521527,  9.02404625,\n",
       "         9.26289091,  9.50174831,  9.74061757,  9.97949791, 10.21838861,\n",
       "        10.45728902, 10.69619852, 10.93511657, 11.17404266, 11.4129763 ,\n",
       "        11.65191708, 11.89086458, 12.12981844, 12.36877831, 12.60774386,\n",
       "        12.84671484, 13.08568926, 13.32473859, 13.56158841, 13.84760714,\n",
       "        13.41439182, 19.07755778]),\n",
       " -4: array([ 0.        ,  0.        , -0.05638631, -0.11609283, -0.18200769,\n",
       "        -0.25151805, -0.32349136, -0.39721801, -0.47223945, -0.5482452 ,\n",
       "        -0.62501721, -0.7023977 , -0.78026959, -0.85854414, -0.93715282,\n",
       "        -1.01604186, -1.09516845, -1.17449812, -1.25400276, -1.33365922,\n",
       "        -1.41344828, -1.49335384, -1.57336229, -1.65346208, -1.73364332,\n",
       "        -1.81389751, -1.89421728, -1.97459623, -2.05502877, -2.13550998,\n",
       "        -2.21603553, -2.29660161, -2.3772048 , -2.45784208, -2.53851073,\n",
       "        -2.61920833, -2.6999327 , -2.78068186, -2.86145404, -2.94224761,\n",
       "        -3.02306112, -3.10389322, -3.1847427 , -3.26560844, -3.34648942,\n",
       "        -3.42738471, -3.50829343, -3.58921481, -3.67014809, -3.75109262,\n",
       "        -3.83204775, -3.91301292, -3.99398757, -4.07497122, -4.15596335,\n",
       "        -4.23696518, -4.31790707, -4.40098528, -4.43655283, -5.16766975]),\n",
       " -6: array([0.        , 0.        , 0.00580321, 0.01279698, 0.02072167,\n",
       "        0.02925451, 0.0382181 , 0.04749947, 0.05702283, 0.06673513,\n",
       "        0.07659801, 0.08658295, 0.09666829, 0.10683723, 0.11707658,\n",
       "        0.12737578, 0.13772631, 0.1481212 , 0.15855468, 0.16902197,\n",
       "        0.17951901, 0.19004241, 0.20058925, 0.21115705, 0.22174364,\n",
       "        0.23234716, 0.24296599, 0.2535987 , 0.26424404, 0.27490091,\n",
       "        0.28556831, 0.29624539, 0.30693136, 0.31762553, 0.32832726,\n",
       "        0.33903601, 0.34975125, 0.36047253, 0.37119942, 0.38193156,\n",
       "        0.39266859, 0.40341019, 0.41415608, 0.42490599, 0.43565968,\n",
       "        0.44641691, 0.45717749, 0.46794122, 0.47870792, 0.48947743,\n",
       "        0.5002496 , 0.51102429, 0.52180136, 0.53258072, 0.54336068,\n",
       "        0.55420793, 0.56300133, 0.6177074 ]),\n",
       " -8: array([ 0.        ,  0.        , -0.00036003, -0.00082185, -0.00135462,\n",
       "        -0.00193597, -0.00255274, -0.00319637, -0.00386093, -0.00454217,\n",
       "        -0.00523697, -0.00594292, -0.0066582 , -0.00738134, -0.00811119,\n",
       "        -0.00884679, -0.00958739, -0.01033234, -0.01108111, -0.01183325,\n",
       "        -0.01258837, -0.01334617, -0.01410635, -0.01486867, -0.01563293,\n",
       "        -0.01639893, -0.01716653, -0.01793558, -0.01870596, -0.01947754,\n",
       "        -0.02025024, -0.02102397, -0.02179864, -0.02257418, -0.02335054,\n",
       "        -0.02412765, -0.02490546, -0.02568392, -0.02646299, -0.02724263,\n",
       "        -0.02802279, -0.02880346, -0.0295846 , -0.03036618, -0.03114817,\n",
       "        -0.03193055, -0.0327133 , -0.03349639, -0.03427982, -0.03506356,\n",
       "        -0.03584759, -0.0366319 , -0.03741644, -0.03820274, -0.03892632,\n",
       "        -0.04163449]),\n",
       " -10: array([0.00000000e+00, 0.00000000e+00, 1.49905138e-05, 3.49236029e-05,\n",
       "        5.82118726e-05, 8.38638047e-05, 1.11279313e-04, 1.40059017e-04,\n",
       "        1.69922112e-04, 2.00663272e-04, 2.32127839e-04, 2.64196565e-04,\n",
       "        2.96775718e-04, 3.29790432e-04, 3.63180085e-04, 3.96894993e-04,\n",
       "        4.30894011e-04, 4.65142749e-04, 4.99612214e-04, 5.34277785e-04,\n",
       "        5.69118407e-04, 6.04115961e-04, 6.39254766e-04, 6.74521180e-04,\n",
       "        7.09903272e-04, 7.45390566e-04, 7.80973819e-04, 8.16644847e-04,\n",
       "        8.52396376e-04, 8.88221917e-04, 9.24115663e-04, 9.60072404e-04,\n",
       "        9.96087448e-04, 1.03215656e-03, 1.06827590e-03, 1.10444200e-03,\n",
       "        1.14065169e-03, 1.17690209e-03, 1.21319056e-03, 1.24951470e-03,\n",
       "        1.28587228e-03, 1.32226129e-03, 1.35867985e-03, 1.39512624e-03,\n",
       "        1.43159886e-03, 1.46809625e-03, 1.50461703e-03, 1.54115995e-03,\n",
       "        1.57772382e-03, 1.61430755e-03, 1.65090974e-03, 1.68755627e-03,\n",
       "        1.72278212e-03, 1.81871791e-03]),\n",
       " -12: array([ 0.00000000e+00,  0.00000000e+00, -4.49230318e-07, -1.06059874e-06,\n",
       "        -1.78153006e-06, -2.58124994e-06, -3.44081305e-06, -4.34742573e-06,\n",
       "        -5.29195630e-06, -6.26762957e-06, -7.26927151e-06, -8.29284072e-06,\n",
       "        -9.33512212e-06, -1.03935187e-05, -1.14659054e-05, -1.25505236e-05,\n",
       "        -1.36459035e-05, -1.47508062e-05, -1.58641789e-05, -1.69851207e-05,\n",
       "        -1.81128560e-05, -1.92467128e-05, -2.03861060e-05, -2.15305233e-05,\n",
       "        -2.26795147e-05, -2.38326824e-05, -2.49896742e-05, -2.61501766e-05,\n",
       "        -2.73139094e-05, -2.84806222e-05, -2.96500895e-05, -3.08221083e-05,\n",
       "        -3.19964953e-05, -3.31730841e-05, -3.43517241e-05, -3.55322778e-05,\n",
       "        -3.67146198e-05, -3.78986357e-05, -3.90842205e-05, -4.02712780e-05,\n",
       "        -4.14597194e-05, -4.26494632e-05, -4.38404343e-05, -4.50325631e-05,\n",
       "        -4.62257850e-05, -4.74200406e-05, -4.86152743e-05, -4.98114347e-05,\n",
       "        -5.10084693e-05, -5.22067119e-05, -5.33802972e-05, -5.59393653e-05]),\n",
       " -14: array([0.00000000e+00, 0.00000000e+00, 1.01714102e-08, 2.42383012e-08,\n",
       "        4.09438199e-08, 5.95770648e-08, 7.96955765e-08, 1.00997257e-07,\n",
       "        1.23263962e-07, 1.46331980e-07, 1.70074902e-07, 1.94392958e-07,\n",
       "        2.19205990e-07, 2.44448641e-07, 2.70066967e-07, 2.96015958e-07,\n",
       "        3.22257704e-07, 3.48760017e-07, 3.75495358e-07, 4.02440007e-07,\n",
       "        4.29573426e-07, 4.56877703e-07, 4.84337176e-07, 5.11938052e-07,\n",
       "        5.39668145e-07, 5.67516649e-07, 5.95473951e-07, 6.23531468e-07,\n",
       "        6.51681463e-07, 6.79917016e-07, 7.08231899e-07, 7.36620462e-07,\n",
       "        7.65077565e-07, 7.93598544e-07, 8.22179199e-07, 8.50815642e-07,\n",
       "        8.79504319e-07, 9.08241991e-07, 9.37025690e-07, 9.65852678e-07,\n",
       "        9.94720370e-07, 1.02362650e-06, 1.05256889e-06, 1.08154553e-06,\n",
       "        1.11055457e-06, 1.13959430e-06, 1.16866306e-06, 1.19776372e-06,\n",
       "        1.22653113e-06, 1.27980606e-06]),\n",
       " -16: array([ 0.00000000e+00,  0.00000000e+00, -1.80325793e-10, -4.32658302e-10,\n",
       "        -7.33992636e-10, -1.07158255e-09, -1.43743552e-09, -1.82604740e-09,\n",
       "        -2.23340760e-09, -2.65647959e-09, -3.09289531e-09, -3.54077217e-09,\n",
       "        -3.99858561e-09, -4.46507984e-09, -4.93921303e-09, -5.42010884e-09,\n",
       "        -5.90702563e-09, -6.39932999e-09, -6.89647437e-09, -7.39797954e-09,\n",
       "        -7.90344752e-09, -8.41250587e-09, -8.92484310e-09, -9.44017949e-09,\n",
       "        -9.95826301e-09, -1.04788706e-08, -1.10017993e-08, -1.15268929e-08,\n",
       "        -1.20539782e-08, -1.25828932e-08, -1.31135297e-08, -1.36457745e-08,\n",
       "        -1.41795098e-08, -1.47146221e-08, -1.52510561e-08, -1.57887042e-08,\n",
       "        -1.63274809e-08, -1.68673506e-08, -1.74082321e-08, -1.79500764e-08,\n",
       "        -1.84927985e-08, -1.90363972e-08, -1.95807733e-08, -2.01259127e-08,\n",
       "        -2.06717727e-08, -2.12183704e-08, -2.17614792e-08, -2.26505037e-08]),\n",
       " -18: array([0.00000000e+00, 0.00000000e+00, 2.57277607e-12, 6.20535442e-12,\n",
       "        1.05628415e-11, 1.54619314e-11, 2.07876256e-11, 2.64603087e-11,\n",
       "        3.24204364e-11, 3.86245206e-11, 4.50360943e-11, 5.16272949e-11,\n",
       "        5.83756818e-11, 6.52624586e-11, 7.22712977e-11, 7.93884700e-11,\n",
       "        8.66014121e-11, 9.39029729e-11, 1.01285892e-10, 1.08734469e-10,\n",
       "        1.16251560e-10, 1.23825863e-10, 1.31456659e-10, 1.39136696e-10,\n",
       "        1.46859187e-10, 1.54632199e-10, 1.62435502e-10, 1.70278014e-10,\n",
       "        1.78157967e-10, 1.86057953e-10, 1.93993245e-10, 2.01955028e-10,\n",
       "        2.09944504e-10, 2.17950958e-10, 2.26001174e-10, 2.34059891e-10,\n",
       "        2.42112114e-10, 2.50210424e-10, 2.58321742e-10, 2.66447378e-10,\n",
       "        2.74592989e-10, 2.82766365e-10, 2.90925738e-10, 2.99107515e-10,\n",
       "        3.07254993e-10, 3.19395098e-10])}"
      ]
     },
     "execution_count": 28,
     "metadata": {},
     "output_type": "execute_result"
    }
   ],
   "source": [
    "mats[0].mats[0]"
   ]
  },
  {
   "cell_type": "markdown",
   "metadata": {},
   "source": [
    "And the linear system of equations can be solved using the generic `SolverGeneric1ND`, that can be used for any problem that only has non-periodic boundary conditions in one dimension."
   ]
  },
  {
   "cell_type": "code",
   "execution_count": 9,
   "metadata": {},
   "outputs": [],
   "source": [
    "u_hat = Function(T)\n",
    "Sol1 = SolverGeneric1ND(mats)\n",
    "u_hat = Sol1(g_hat, u_hat)"
   ]
  },
  {
   "cell_type": "markdown",
   "metadata": {},
   "source": [
    "Transform back to real space and compute the error."
   ]
  },
  {
   "cell_type": "code",
   "execution_count": 10,
   "metadata": {},
   "outputs": [
    {
     "name": "stdout",
     "output_type": "stream",
     "text": [
      "Error = (7.1344113301478e-12+8.321067818478394e-19j) 4.3233132104282865e-09\n"
     ]
    }
   ],
   "source": [
    "uj = u_hat.backward()\n",
    "uq = Array(T, buffer=ue)\n",
    "print('Error =', np.sqrt(inner(1, (uj-uq)**2)), np.linalg.norm(uj-uq))"
   ]
  },
  {
   "cell_type": "code",
   "execution_count": 13,
   "metadata": {},
   "outputs": [
    {
     "data": {
      "text/plain": [
       "9.697778871541803e-11"
      ]
     },
     "execution_count": 13,
     "metadata": {},
     "output_type": "execute_result"
    }
   ],
   "source": [
    "np.linalg.norm(u_hat - u_hat.backward().forward())"
   ]
  },
  {
   "cell_type": "code",
   "execution_count": 11,
   "metadata": {},
   "outputs": [
    {
     "data": {
      "text/plain": [
       "<matplotlib.lines.Line2D at 0x7fefb8696610>"
      ]
     },
     "execution_count": 11,
     "metadata": {},
     "output_type": "execute_result"
    },
    {
     "data": {
      "image/png": "[encoded data removed]",
      "text/plain": [
       "<Figure size 432x288 with 1 Axes>"
      ]
     },
     "metadata": {
      "needs_background": "light"
     },
     "output_type": "display_data"
    }
   ],
   "source": [
    "import matplotlib.pyplot as plt\n",
    "%matplotlib inline\n",
    "plt.spy(Sol1.MM[1].diags())"
   ]
  },
  {
   "cell_type": "code",
   "execution_count": 12,
   "metadata": {},
   "outputs": [
    {
     "ename": "RuntimeError",
     "evalue": "",
     "output_type": "error",
     "traceback": [
      "\u001b[0;31m---------------------------------------------------------------------------\u001b[0m",
      "\u001b[0;31mRuntimeError\u001b[0m                              Traceback (most recent call last)",
      "\u001b[0;32m<ipython-input-12-a23cb6c08fe6>\u001b[0m in \u001b[0;36m<module>\u001b[0;34m\u001b[0m\n\u001b[0;32m----> 1\u001b[0;31m \u001b[0;32mraise\u001b[0m \u001b[0mRuntimeError\u001b[0m\u001b[0;34m\u001b[0m\u001b[0;34m\u001b[0m\u001b[0m\n\u001b[0m",
      "\u001b[0;31mRuntimeError\u001b[0m: "
     ]
    }
   ],
   "source": [
    "raise RuntimeError"
   ]
  },
  {
   "cell_type": "markdown",
   "metadata": {},
   "source": [
    "## Postprocessing\n",
    "Since we used quite few quadrature points in solving this problem, we refine the solution for a nicer plot. Note that `refine` simply pads Functions with zeros, which gives exactly the same accuracy, but more quadrature points in real space. `u_hat` has `NxM` quadrature points, here we refine using 3 times as many points along both dimensions"
   ]
  },
  {
   "cell_type": "code",
   "execution_count": null,
   "metadata": {},
   "outputs": [],
   "source": [
    "u_hat2 = u_hat.refine([N*3, M*3])\n",
    "ur = u_hat2.backward(kind='uniform')"
   ]
  },
  {
   "cell_type": "markdown",
   "metadata": {},
   "source": [
    "The periodic solution does not contain the periodic points twice, i.e., the computational mesh contains $0$, but not $2\\pi$. It looks better if we wrap the periodic dimension all around to $2\\pi$, and this is achieved with "
   ]
  },
  {
   "cell_type": "code",
   "execution_count": null,
   "metadata": {},
   "outputs": [],
   "source": [
    "xx, yy, zz = u_hat2.function_space().local_cartesian_mesh(uniform=True)\n",
    "xx = np.hstack([xx, xx[:, 0][:, None]])\n",
    "yy = np.hstack([yy, yy[:, 0][:, None]])\n",
    "zz = np.hstack([zz, zz[:, 0][:, None]])\n",
    "ur = np.hstack([ur, ur[:, 0][:, None]])"
   ]
  },
  {
   "cell_type": "markdown",
   "metadata": {},
   "source": [
    "In the end the solution is plotted using mayavi"
   ]
  },
  {
   "cell_type": "code",
   "execution_count": null,
   "metadata": {},
   "outputs": [],
   "source": [
    "from mayavi import mlab\n",
    "#mlab.init_notebook()\n",
    "mlab.figure(1, bgcolor=(1, 1, 1), fgcolor=(0, 0, 0), size=(400, 400))\n",
    "mlab.mesh(xx, yy, zz, scalars=ur.real, colormap='jet')\n",
    "mlab.show()"
   ]
  },
  {
   "cell_type": "markdown",
   "metadata": {},
   "source": [
    "# Biharmonic equation\n",
    "\n",
    "A biharmonic equation is given as\n",
    "\n",
    "$$\n",
    "\\nabla^4 u + \\alpha u = f.\n",
    "$$\n",
    "\n",
    "This equation is extremely messy in spherical coordinates. I cannot even find it posted anywhere. Nevertheless, we can solve it trivially with shenfun, and we can also see what it looks like"
   ]
  },
  {
   "cell_type": "code",
   "execution_count": null,
   "metadata": {},
   "outputs": [],
   "source": [
    "Math((div(grad(div(grad(u))))+alpha*u).tolatex(funcname='u', symbol_names={theta: '\\\\theta', phi: '\\\\phi'}))"
   ]
  },
  {
   "cell_type": "markdown",
   "metadata": {},
   "source": [
    "Remember that this equation uses constant radius `r=1`. We now solve the equation using the same manufactured solution as for the Helmholtz equation."
   ]
  },
  {
   "cell_type": "code",
   "execution_count": null,
   "metadata": {},
   "outputs": [],
   "source": [
    "g = (div(grad(div(grad(u))))+alpha*u).tosympy(basis=ue, psi=psi)\n",
    "gj = Array(T, buffer=g)\n",
    "\n",
    "# Take scalar product\n",
    "g_hat = Function(T)\n",
    "g_hat = inner(v, gj, output_array=g_hat)\n",
    "\n",
    "mats = inner(v, div(grad(div(grad(u)))) + alpha*u)\n",
    "\n",
    "# Solve\n",
    "u_hat = Function(T)\n",
    "Sol1 = SolverGeneric1ND(mats)\n",
    "u_hat = Sol1(g_hat, u_hat)\n",
    "\n",
    "# Transform back to real space.\n",
    "uj = u_hat.backward()\n",
    "uq = Array(T, buffer=ue)\n",
    "print('Error =', np.sqrt(dx((uj-uq)**2)))\n"
   ]
  },
  {
   "cell_type": "markdown",
   "metadata": {},
   "source": [
    "Want to see what the regular 3-dimensional biharmonic equation looks like in spherical coordinates? This is extremely tedious to derive by hand, but in shenfun you can get there with the following few lines of code"
   ]
  },
  {
   "cell_type": "code",
   "execution_count": null,
   "metadata": {},
   "outputs": [],
   "source": [
    "r, theta, phi = psi = sp.symbols('x,y,z', real=True, positive=True)\n",
    "rv = (r*sp.sin(theta)*sp.cos(phi), r*sp.sin(theta)*sp.sin(phi), r*sp.cos(theta))\n",
    "L0 = FunctionSpace(20, 'L', domain=(0, 1))\n",
    "F1 = FunctionSpace(20, 'L', domain=(0, np.pi))\n",
    "F2 = FunctionSpace(20, 'F', dtype='D')\n",
    "T = TensorProductSpace(comm, (L0, F1, F2), coordinates=(psi, rv, sp.Q.positive(sp.sin(theta))))\n",
    "p = TrialFunction(T)\n",
    "Math((div(grad(div(grad(p))))).tolatex(funcname='u', symbol_names={r: 'r', theta: '\\\\theta', phi: '\\\\phi'}))"
   ]
  },
  {
   "cell_type": "code",
   "execution_count": null,
   "metadata": {},
   "outputs": [],
   "source": [
    "q = TestFunction(T)\n",
    "A = inner(div(grad(q)), div(grad(p)), level=2)"
   ]
  },
  {
   "cell_type": "markdown",
   "metadata": {},
   "source": [
    "I don't know if this is actually correct, because I haven't derived it by hand and I haven't seen it printed anywhere, but at least I know the Cartesian equation is correct:"
   ]
  },
  {
   "cell_type": "code",
   "execution_count": null,
   "metadata": {},
   "outputs": [],
   "source": [
    "L0 = FunctionSpace(8, 'C', domain=(0, np.pi))\n",
    "F1 = FunctionSpace(8, 'F', dtype='D')\n",
    "F2 = FunctionSpace(8, 'F', dtype='D')\n",
    "T = TensorProductSpace(comm, (L0, F1, F2))\n",
    "p = TrialFunction(T)\n",
    "Math((div(grad(div(grad(p))))).tolatex(funcname='u'))"
   ]
  }
 ],
 "metadata": {
  "kernelspec": {
   "display_name": "shenfun38",
   "language": "python",
   "name": "shenfun38"
  },
  "language_info": {
   "codemirror_mode": {
    "name": "ipython",
    "version": 3
   },
   "file_extension": ".py",
   "mimetype": "text/x-python",
   "name": "python",
   "nbconvert_exporter": "python",
   "pygments_lexer": "ipython3",
   "version": "3.8.6"
  },
  "toc": {
   "base_numbering": 1,
   "nav_menu": {},
   "number_sections": false,
   "sideBar": true,
   "skip_h1_title": false,
   "title_cell": "Table of Contents",
   "title_sidebar": "Contents",
   "toc_cell": false,
   "toc_position": {},
   "toc_section_display": true,
   "toc_window_display": false
  }
 },
 "nbformat": 4,
 "nbformat_minor": 4
}
