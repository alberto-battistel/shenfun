{
 "cells": [
  {
   "cell_type": "markdown",
   "metadata": {},
   "source": [
    "<!-- dom:TITLE: Demo - Integration of functions -->\n",
    "# Demo - Integration of functions\n",
    "<!-- dom:AUTHOR: Mikael Mortensen Email:mikaem@math.uio.no at Department of Mathematics, University of Oslo. -->\n",
    "<!-- Author: -->  \n",
    "**Mikael Mortensen** (email: `mikaem@math.uio.no`), Department of Mathematics, University of Oslo.\n",
    "\n",
    "Date: **Aug 7, 2020**\n",
    "\n",
    "Copyright 2020, Mikael Mortensen. Released under CC Attribution 4.0 license\n",
    "\n",
    "**Summary.** This is a demonstration of how the Python module [shenfun](https://github.com/spectralDNS/shenfun) can be used to\n",
    "integrate over 2D surfaces in 3D space. We make use of\n",
    "curvilinear coordinates, and reproduce the integrals\n",
    "from [Chebfun](http://www.chebfun.org/examples/approx3/SurfaceIntegral3D.html).\n",
    "\n",
    "\n",
    "\n",
    "\n",
    "\n",
    "\n",
    "\n",
    "\n",
    "\n",
    "\n",
    "\n",
    "## Introduction\n",
    "\n",
    "A lesser known fact about [shenfun](https://github.com/spectralDNS/shenfun) is\n",
    "that it can be used to perform regular, unweighted, integrals with\n",
    "spectral accuracy. With the newly added curvilinear coordinates\n",
    "we can now also integrate over highly complex lines and surfaces\n",
    "embedded in 3D space.\n",
    "\n",
    "To integrate over a domain in shenfun we use the\n",
    "[inner](https://shenfun.readthedocs.io/en/latest/shenfun.forms.html#shenfun.forms.inner.inner)\n",
    "function, with a constant test function. For\n",
    "example, if we create some function space on the line from\n",
    "0 to 1, then we can get this length using `inner`"
   ]
  },
  {
   "cell_type": "code",
   "execution_count": 1,
   "metadata": {
    "collapsed": false
   },
   "outputs": [
    {
     "name": "stdout",
     "output_type": "stream",
     "text": [
      "Length of domain = 1.0000000000000002\n"
     ]
    }
   ],
   "source": [
    "from shenfun import *\n",
    "B = FunctionSpace(10, 'C', domain=(0, 1))\n",
    "length = inner(1, Array(B, val=1))\n",
    "print('Length of domain =', length)"
   ]
  },
  {
   "cell_type": "markdown",
   "metadata": {},
   "source": [
    "Not very impressive, but the same goes for multidimensional\n",
    "tensor product domains"
   ]
  },
  {
   "cell_type": "code",
   "execution_count": 2,
   "metadata": {
    "collapsed": false
   },
   "outputs": [
    {
     "name": "stdout",
     "output_type": "stream",
     "text": [
      "Area of domain = 6.283185307179587\n"
     ]
    }
   ],
   "source": [
    "F = FunctionSpace(10, 'F', domain=(0, 2*np.pi))\n",
    "T = TensorProductSpace(comm, (B, F))\n",
    "area = inner(1, Array(T, val=1))\n",
    "print('Area of domain =', area)"
   ]
  },
  {
   "cell_type": "markdown",
   "metadata": {},
   "source": [
    "Still not very impressive, but moving to curvilinear coordinates\n",
    "it all starts to become more interesting.\n",
    "\n",
    "Consider a 3D function $f(x,y,z) \\in \\mathbb{R}^3$ and\n",
    "a 2D surface (not neccessarily plane) $S(u, v)$,\n",
    "parametrized in two new coordinates $u$ and $v$. A position\n",
    "vector $\\mathbf{r}$ can be used to parametrize $S$"
   ]
  },
  {
   "cell_type": "markdown",
   "metadata": {},
   "source": [
    "$$\n",
    "\\mathbf{r} = x(u, v) \\,\\mathbf{i} + y(u, v) \\,\\mathbf{j} + z(u, v) \\,\\mathbf{k},\n",
    "$$"
   ]
  },
  {
   "cell_type": "markdown",
   "metadata": {},
   "source": [
    "where $\\mathbf{i}, \\mathbf{j}, \\mathbf{k}$ are the Cartesian unit vectors.\n",
    "The two new coordinates $u$ and $v$ are functions of $x, y, z$,\n",
    "and they each have a one-dimensional domain"
   ]
  },
  {
   "cell_type": "markdown",
   "metadata": {},
   "source": [
    "$$\n",
    "u \\in D_u \\quad v \\in D_v.\n",
    "$$"
   ]
  },
  {
   "cell_type": "markdown",
   "metadata": {},
   "source": [
    "The exact size of the domain depends on the problem at hand. The computational\n",
    "domain of the surface $S$ is $D=D_u \\times D_v$.\n",
    "\n",
    "A surface integral of $f$ over $S$ can now be written"
   ]
  },
  {
   "cell_type": "markdown",
   "metadata": {},
   "source": [
    "$$\n",
    "\\int_S f(x, y, z) dxdydz = \\int_D f(x(u, v), y(u, v), z(u, v)) \\left|\\frac{\\partial \\mathbf{r}}{\\partial u} \\times \\frac{\\partial \\mathbf{r}}{\\partial v} \\right| dudv\n",
    "$$"
   ]
  },
  {
   "cell_type": "markdown",
   "metadata": {},
   "source": [
    "With shenfun such integrals are trivial, even for highly complex\n",
    "domains.\n",
    "\n",
    "## Example 1\n",
    "\n",
    "Consider first the surface integral of $f(x,y,z)=x^2$\n",
    "over the unit sphere. We use regular spherical coordinates,"
   ]
  },
  {
   "cell_type": "markdown",
   "metadata": {},
   "source": [
    "$$\n",
    "\\begin{align*}\n",
    "0 &\\gt \\theta \\gt \\pi \\\\ \n",
    "0 &\\gt \\phi \\gt 2\\pi \\\\ \n",
    "x(\\theta, \\phi) &= \\sin \\theta \\cos \\phi \\\\ \n",
    "y(\\theta, \\phi) &= \\sin theta \\sin \\phi \\\\ \n",
    "z(\\theta, \\phi) &= \\cos theta\n",
    "\\end{align*}\n",
    "$$"
   ]
  },
  {
   "cell_type": "markdown",
   "metadata": {},
   "source": [
    "The straight forward implementation of a function space for\n",
    "the unit sphere reads"
   ]
  },
  {
   "cell_type": "code",
   "execution_count": 3,
   "metadata": {
    "collapsed": false
   },
   "outputs": [],
   "source": [
    "import sympy as sp\n",
    "\n",
    "theta, phi = psi =sp.symbols('x,y', real=True, positive=True)\n",
    "rv = (sp.sin(theta)*sp.cos(phi), sp.sin(theta)*sp.sin(phi), sp.cos(theta))\n",
    "\n",
    "B0 = FunctionSpace(0, 'C', domain=(0, np.pi))\n",
    "B1 = FunctionSpace(0, 'F', dtype='d')\n",
    "T = TensorProductSpace(comm, (B0, B1), coordinates=(psi, rv, sp.Q.positive(sp.sin(theta))))"
   ]
  },
  {
   "cell_type": "markdown",
   "metadata": {},
   "source": [
    "We can now approximate the function $f$ on this surface"
   ]
  },
  {
   "cell_type": "code",
   "execution_count": 4,
   "metadata": {
    "collapsed": false
   },
   "outputs": [],
   "source": [
    "f = Array(T, buffer=rv[0]**2)"
   ]
  },
  {
   "cell_type": "markdown",
   "metadata": {},
   "source": [
    "and we can integrate over $S$"
   ]
  },
  {
   "cell_type": "code",
   "execution_count": 5,
   "metadata": {
    "collapsed": false
   },
   "outputs": [],
   "source": [
    "I = inner(1, f)"
   ]
  },
  {
   "cell_type": "markdown",
   "metadata": {},
   "source": [
    "and finally compare to the exact result, which is $4 \\pi / 3$"
   ]
  },
  {
   "cell_type": "code",
   "execution_count": 6,
   "metadata": {
    "collapsed": false
   },
   "outputs": [
    {
     "name": "stdout",
     "output_type": "stream",
     "text": [
      "Error = 7.459207029825166e-08\n"
     ]
    }
   ],
   "source": [
    "print('Error =', abs(I-4*np.pi/3))"
   ]
  },
  {
   "cell_type": "markdown",
   "metadata": {},
   "source": [
    "Note that we can here achieve better accuracy by using\n",
    "more quadrature points. For example by refining `f`"
   ]
  },
  {
   "cell_type": "code",
   "execution_count": 7,
   "metadata": {
    "collapsed": false
   },
   "outputs": [
    {
     "name": "stdout",
     "output_type": "stream",
     "text": [
      "Error = 0.0\n"
     ]
    }
   ],
   "source": [
    "T = T.get_refined(2*np.array(f.global_shape))\n",
    "f = Array(T, buffer=rv[0]**2)\n",
    "print('Error =', abs(inner(1, f)-4*np.pi/3))"
   ]
  },
  {
   "cell_type": "markdown",
   "metadata": {},
   "source": [
    "Not bad at all:-)\n",
    "\n",
    "## Example 2\n",
    "\n",
    "Next, we solve [Example 5](http://www.math24.net/surface-integrals-of-first-kind.html)\n",
    "from the online resources at math24.net. Here"
   ]
  },
  {
   "cell_type": "markdown",
   "metadata": {},
   "source": [
    "$$\n",
    "f = \\sqrt{1+x^2+y^2}\n",
    "$$"
   ]
  },
  {
   "cell_type": "markdown",
   "metadata": {},
   "source": [
    "and the surface is defined by"
   ]
  },
  {
   "cell_type": "markdown",
   "metadata": {},
   "source": [
    "$$\n",
    "\\mathbf{r} = u \\cos v \\mathbf{i} + u \\sin v \\mathbf{j} + v \\mathbf{k}\n",
    "$$"
   ]
  },
  {
   "cell_type": "markdown",
   "metadata": {},
   "source": [
    "with $0 \\gt u \\gt 2, 0 \\gt v 2\\pi$.\n",
    "\n",
    "The implementation is only a few lines, and we end by comparing\n",
    "to the exact solution $14 \\pi /3$"
   ]
  },
  {
   "cell_type": "code",
   "execution_count": 8,
   "metadata": {
    "collapsed": false
   },
   "outputs": [
    {
     "name": "stdout",
     "output_type": "stream",
     "text": [
      "Error = 1.7763568394002505e-15\n"
     ]
    }
   ],
   "source": [
    "u, v = psi =sp.symbols('x,y', real=True, positive=True)\n",
    "rv = (u*sp.cos(v), u*sp.sin(v), v)\n",
    "B0 = FunctionSpace(0, 'C', domain=(0, 2))\n",
    "B1 = FunctionSpace(0, 'C', domain=(0, np.pi))\n",
    "T = TensorProductSpace(comm, (B0, B1), coordinates=(psi, rv))\n",
    "f = Array(T, buffer=sp.sqrt(1+rv[0]**2+rv[1]**2))\n",
    "print('Error =', abs(inner(1, f)-14*np.pi/3))"
   ]
  },
  {
   "cell_type": "markdown",
   "metadata": {},
   "source": [
    "## Example 3\n",
    "\n",
    "In this third example we use a surface that\n",
    "looks like a seashell. Again, the example is taken from\n",
    "[chebfun](http://www.chebfun.org/examples/approx3/SurfaceIntegral3D.html).\n",
    "\n",
    "The surface of the seashell is parametrized with position\n",
    "vector"
   ]
  },
  {
   "cell_type": "markdown",
   "metadata": {},
   "source": [
    "$$\n",
    "\\begin{align*}\n",
    "\\mathbf{r} &= \\left(\\left(\\frac{5}{4}-\\frac{5 v}{8 \\pi}\\right)  \\cos 2v(1+\\cos u) + \\cos 2v \\right) \\mathbf{i} \\\\ \n",
    "  &+\\left(\\left(\\frac{5}{4}-\\frac{5 v}{8 \\pi}\\right) \\sin 2v (1+\\cos u) + \\sin 2v \\right) \\mathbf{j},\\\\ \n",
    "  &+\\left(\\frac{10 v}{2 \\pi} + \\left(\\frac{5}{4}-\\frac{5 v}{8 \\pi}\\right) \\sin u + 15\\right) \\mathbf{k}\n",
    "\\end{align*}\n",
    "$$"
   ]
  },
  {
   "cell_type": "markdown",
   "metadata": {},
   "source": [
    "for $0 \\gt u \\gt 2 \\pi, -2 \\pi \\gt v \\gt 2 \\pi$.\n",
    "\n",
    "The function $f$ is now defined as"
   ]
  },
  {
   "cell_type": "markdown",
   "metadata": {},
   "source": [
    "$$\n",
    "f(x,y,z) = x+y+z\n",
    "$$"
   ]
  },
  {
   "cell_type": "markdown",
   "metadata": {},
   "source": [
    "The implementation is"
   ]
  },
  {
   "cell_type": "code",
   "execution_count": 9,
   "metadata": {
    "collapsed": false
   },
   "outputs": [
    {
     "name": "stdout",
     "output_type": "stream",
     "text": [
      "-6030.788147086101\n"
     ]
    }
   ],
   "source": [
    "rv = (5*(1-v/(2*sp.pi))*sp.cos(2*v)*(1+sp.cos(u))/4 + sp.cos(2*v),\n",
    "      5*(1-v/(2*sp.pi))*sp.sin(2*v)*(1+sp.cos(u))/4 + sp.sin(2*v),\n",
    "      10*v/(2*sp.pi) + 5*(1-v/(2*sp.pi))*sp.sin(u)/4 + 15)\n",
    "\n",
    "B0 = FunctionSpace(100, 'C', domain=(0, 2*np.pi))\n",
    "B1 = FunctionSpace(100, 'C', domain=(-2*np.pi, 2*np.pi))\n",
    "T = TensorProductSpace(comm, (B0, B1), coordinates=(psi, rv, sp.Q.positive(v-2*sp.pi)))\n",
    "\n",
    "f = rv[0]+rv[1]+rv[2]\n",
    "fb = Array(T, buffer=f)\n",
    "I = inner(1, fb)\n",
    "print(I)"
   ]
  },
  {
   "cell_type": "markdown",
   "metadata": {},
   "source": [
    "which agrees very well with chebfun's result. We can plot the\n",
    "seashell using mayavi. Unfortunately mayavi is a little tricky\n",
    "to use with readthedocs, so instead of generating the plot\n",
    "with the code below, we link here instead to a previously\n",
    "generated image."
   ]
  },
  {
   "cell_type": "markdown",
   "metadata": {},
   "source": [
    "        from mayavi import mlab\n",
    "        xx, yy, zz = T.local_curvilinear_mesh()\n",
    "        mlab.figure(bgcolor=(1, 1, 1), size=(400, 400))\n",
    "        mlab.mesh(xx, yy, zz, scalars=fb, colormap='jet')\n",
    "        mlab.show()\n"
   ]
  },
  {
   "cell_type": "markdown",
   "metadata": {},
   "source": [
    "<!-- dom:FIGURE: [https://cdn.jsdelivr.net/gh/spectralDNS/spectralutilities@master/figures/seashell3.png] -->\n",
    "<!-- begin figure -->\n",
    "\n",
    "<p></p>\n",
    "<img src=\"https://cdn.jsdelivr.net/gh/spectralDNS/spectralutilities@master/figures/seashell3.png\" >\n",
    "\n",
    "<!-- end figure -->\n",
    "\n",
    "\n",
    "<!-- ======= Bibliography ======= -->"
   ]
  }
 ],
 "metadata": {
  "language_info": {
   "codemirror_mode": {
    "name": "ipython",
    "version": 3
   },
   "file_extension": ".py",
   "mimetype": "text/x-python",
   "name": "python",
   "nbconvert_exporter": "python",
   "pygments_lexer": "ipython3",
   "version": "3.7.6"
  }
 },
 "nbformat": 4,
 "nbformat_minor": 4
}
