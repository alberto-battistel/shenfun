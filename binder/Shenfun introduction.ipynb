{
 "cells": [
  {
   "cell_type": "markdown",
   "metadata": {
    "slideshow": {
     "slide_type": "slide"
    }
   },
   "source": [
    "<center>\n",
    "\n",
    "# Shenfun - High-Performance Computing platform for the Spectral Galerkin method\n",
    "\n",
    "<div><img src=\"https://rawcdn.githack.com/spectralDNS/spectralutilities/f3419a3e6c40dad55be5dcca51f6e0e21713dd90/figures/Chebyshev_Polynomials_of_the_First_Kind.svg\" width=\"300\"></div>\n",
    "\n",
    "<div class=\"sl-block\" style=\"height: auto; width: 600px;\">\n",
    "    <div>\n",
    "        <p><center style=\"font-size:1.2em\">Professor Mikael Mortensen</p>\n",
    "        <p><center>Department of Mathematics, University of Oslo</p>\n",
    "        <p><center>Presented at the International Conference on Scientific Computing and Applications (ICSCA), Xiamen, China, 28/5 - 2019</p>\n",
    "    </div>\n",
    "</div>"
   ]
  },
  {
   "cell_type": "markdown",
   "metadata": {
    "slideshow": {
     "slide_type": "slide"
    }
   },
   "source": [
    "# Shenfun - facts\n",
    "\n",
    "1. Shenfun is named in honour of <strong>Professor Jie Shen</strong> for his seminal work on the spectral Galerkin method:-) \n",
    "2. Shenfun is a high performance computing platform for solving partial differential equations (PDEs) with the spectral Galerkin method (with numerical integration).\n",
    "3. Shenfun has been run with 65,000 processors on a Cray XC40.\n",
    "4. Shenfun is a high-level <strong>Python</strong> package originally developed for pseudo-spectral turbulence simulations.\n",
    "\n",
    "\n",
    "<img src=\"https://rawcdn.githack.com/spectralDNS/spectralutilities/473129742f0b5f8d57e8c647809272c0ced99a45/movies/RB_200k_small.png\" style=\"float:left\" width=\"300\"> <img src=\"https://rawcdn.githack.com/spectralDNS/spectralutilities/473129742f0b5f8d57e8c647809272c0ced99a45/movies/isotropic_cropped.gif\" style=\"float:right\" width=\"200\"> \n",
    "<p style=\"clear: both;\">"
   ]
  },
  {
   "cell_type": "code",
   "execution_count": 1,
   "metadata": {
    "slideshow": {
     "slide_type": "fragment"
    }
   },
   "outputs": [
    {
     "name": "stdout",
     "output_type": "stream",
     "text": [
      "hello world\n"
     ]
    }
   ],
   "source": [
    "from shenfun import *\n",
    "print('hello world')"
   ]
  },
  {
   "cell_type": "markdown",
   "metadata": {
    "slideshow": {
     "slide_type": "slide"
    }
   },
   "source": [
    "# The Spectral Galerkin method\n",
    "\n",
    "## Advantages\n",
    "\n",
    "- Accuracy (spectral)\n",
    "- Sparsity - very low memory use for coefficient matrices \n",
    "- Efficiency - Very fast linear algebra solvers\n",
    "- Robustness (round-off errors) - condition numbers much lower than for collocation methods\n",
    "\n",
    "## Disadvantages\n",
    "\n",
    "- No complex grids. Structured tensor product grids only\n",
    "- Nonlinear terms must be implemented explicitly (pseudospectral)\n",
    "- Generally considered more difficult to implement since we solve equations in spectral space"
   ]
  },
  {
   "cell_type": "markdown",
   "metadata": {
    "slideshow": {
     "slide_type": "subslide"
    }
   },
   "source": [
    "# The Spectral Galerkin method (in a nutshell)\n",
    "\n",
    "approximates solutions $u(x)$ using global <strong>trial</strong> functions $\\phi_k(x)$ and unknown expansion coefficients $\\hat{u}_k$\n",
    "\n",
    "$$\n",
    "u(x) = \\sum_{k=0}^{N-1}\\hat{u}_k \\phi_k(x)\n",
    "$$\n",
    "\n",
    "Multidimensional solutions are formed from outer products of 1D bases\n",
    "\n",
    "$$\n",
    "u(x, y) = \\sum_{k=0}^{N_0-1}\\sum_{l=0}^{N_1-1}\\hat{u}_{kl} \\phi_{kl}(x, y)\\quad \\text{ or }\\quad\n",
    "u(x, y, z) = \\sum_{k=0}^{N_0-1}\\sum_{l=0}^{N_1-1} \\sum_{m=0}^{N_2-1}\\hat{u}_{klm} \\phi_{klm}(x, y, z)\n",
    "$$\n",
    "\n",
    "where, for example\n",
    "\n",
    "$$\n",
    "\\begin{align}\n",
    "\\phi_{kl}(x, y) &= T_k(x) L_l(y)\\\\\n",
    "\\phi_{klm}(x, y, z) &= T_k(x) L_l(y) \\exp(\\text{i}mz)\n",
    "\\end{align}\n",
    "$$\n",
    "\n",
    "$T_k$ and $L_k$ are Chebyshev and Legendre polynomials."
   ]
  },
  {
   "cell_type": "markdown",
   "metadata": {
    "slideshow": {
     "slide_type": "subslide"
    }
   },
   "source": [
    "# The Spectral Galerkin method\n",
    "\n",
    "solves PDEs, like Poisson's equation\n",
    "\n",
    "\\begin{align}\n",
    "\\nabla^2 u(x) &= f(x), \\quad x \\in [-1, 1] \\\\\n",
    "u(\\pm 1) &= 0\n",
    "\\end{align}\n",
    "\n",
    "using variational forms by the <strong>method of weighted residuals</strong>. I.e., multiply PDE by a test function $v$ and integrate over the domain. For Poisson this leads to the problem:\n",
    "\n",
    "Find $u \\in H^1_0$ such that \n",
    "\n",
    "$$(\\nabla u, \\nabla v)_w^N = -(f, v)_w^N \\quad \\forall v \\in H^1_0$$\n",
    "\n",
    "Here $(u, v)_w^{N}$ is a weighted inner product and $v(=\\phi_j)$ is a <strong>test</strong> function. Note that test and trial functions are the same for the Galerkin method.\n"
   ]
  },
  {
   "cell_type": "markdown",
   "metadata": {
    "slideshow": {
     "slide_type": "subslide"
    }
   },
   "source": [
    "# Weighted inner products\n",
    "\n",
    "The weighted inner product is defined as\n",
    "\n",
    "$$\n",
    " (u, v)_w = \\int_{\\Omega} u \\overline{v} w \\, d\\Omega,\n",
    "$$\n",
    "\n",
    "where $w(\\mathbf{x})$ is a weight associated with the chosen basis (different bases have different weights). The overline represents a complex conjugate (for Fourier).\n",
    "\n",
    "$\\Omega$ is a tensor product domain spanned by the chosen 1D bases.\n"
   ]
  },
  {
   "cell_type": "markdown",
   "metadata": {
    "slideshow": {
     "slide_type": "subslide"
    }
   },
   "source": [
    "# In Shenfun quadrature is used for the integrals\n",
    "\n",
    "1D with Chebyshev basis:\n",
    "\n",
    "$$\n",
    "(u, v)_w ^N = \\sum_{i=0}^{N-1} u(x_i) v(x_i) \\omega_i \\approx \\int_{-1}^1 \\frac{u v}{\\sqrt{1-x^2}}  \\, {dx},\n",
    "$$\n",
    "\n",
    "where $\\{\\omega_i\\}_{i=0}^{N-1}$ are the quadrature weights associated with the chosen basis and quadrature rule. The associated quadrature points are denoted as $\\{x_i\\}_{i=0}^{N-1}$. \n",
    "\n",
    "2D with mixed Chebyshev-Fourier:\n",
    "\n",
    "$$\n",
    "(u, v)_w^N = \\int_{-1}^1\\int_{0}^{2\\pi} \\frac{u \\overline{v}}{2\\pi\\sqrt{1-x^2}} \\, {dxdy} \\approx \\sum_{i=0}^{N_0-1}\\sum_{j=0}^{N_1-1} u(x_i, y_j) \\overline{v}(x_i, y_j) \\omega^{(x)}_i \\omega_j^{(y)} ,\n",
    "$$\n"
   ]
  },
  {
   "cell_type": "markdown",
   "metadata": {
    "slideshow": {
     "slide_type": "slide"
    }
   },
   "source": [
    "# Spectral Galerkin solution procedure\n",
    "\n",
    "1. Choose function space(s) satisfying the correct boundary conditions\n",
    "2. Transform PDEs to variational forms using inner products\n",
    "3. Assemble variational forms and solve resulting linear algebra systems"
   ]
  },
  {
   "cell_type": "markdown",
   "metadata": {
    "slideshow": {
     "slide_type": "subslide"
    }
   },
   "source": [
    "# Orthogonal bases\n",
    "\n",
    "<p style=\"margin-bottom:1cm;\">\n",
    "\n",
    "| Family    | Basis                                    | Domain    |\n",
    "|  :---:    |         :---:                            |   :---:   |\n",
    "| Chebyshev | $$\\{T_k\\}_{k=0}^{N-1}$$                  | $$[-1, 1]$$ |\n",
    "| Legendre  | $$\\{L_k\\}_{k=0}^{N-1}$$                  | $$[-1, 1]$$ |\n",
    "| Fourier   | $$\\{\\exp(\\text{i}kx)\\}_{k=-N/2}^{N/2-1}$$| $$[0, 2\\pi]$$ |\n",
    "| Hermite   | $$\\{H_k\\}_{k=0}^{N-1}$$                  | $$[-\\infty, \\infty]$$|\n",
    "| Laguerre  | $$\\{La_k\\}_{k=0}^{N-1}$$                 | $$[0, \\infty]$$ |\n"
   ]
  },
  {
   "cell_type": "code",
   "execution_count": 2,
   "metadata": {
    "slideshow": {
     "slide_type": "fragment"
    }
   },
   "outputs": [
    {
     "name": "stdout",
     "output_type": "stream",
     "text": [
      "(array([-0.96028986, -0.79666648, -0.52553241, -0.18343464,  0.18343464,\n",
      "        0.52553241,  0.79666648,  0.96028986]), array([0.10122854, 0.22238103, 0.31370665, 0.36268378, 0.36268378,\n",
      "       0.31370665, 0.22238103, 0.10122854]))\n"
     ]
    }
   ],
   "source": [
    "from shenfun import *\n",
    "N = 8\n",
    "C = FunctionSpace(N, 'Chebyshev', quad='GC', domain=[-2, 2])\n",
    "L = FunctionSpace(N, 'Legendre')\n",
    "x, w = C.points_and_weights()\n",
    "print(L.points_and_weights())"
   ]
  },
  {
   "cell_type": "markdown",
   "metadata": {
    "slideshow": {
     "slide_type": "subslide"
    }
   },
   "source": [
    "# Jie Shen's bases with Dirichlet bcs\n",
    "<p style=\"margin-bottom:1cm;\">\n",
    "\n",
    "\n",
    "| family    | Basis                 | Boundary condition |\n",
    "|-----------|-----------------------|----------|\n",
    "| Chebyshev | $$\\{T_k-T_{k+2}\\}_{k=0}^{N-3}$$ | $$u(\\pm 1) = 0$$ |\n",
    "| Legendre  | $$\\{L_k-L_{k+2}\\}_{k=0}^{N-3}$$ | $$u(\\pm 1) = 0$$ |\n",
    "| Hermite   | $$\\exp(-x^2)\\{H_k\\}_{k=0}^{N-1}$$ | $$u(\\pm \\infty) = 0$$ |\n",
    "| Laguerre  | $$\\exp(-x/2)\\{La_k-La_{k+1}\\}_{k=0}^{N-2}$$| $$u(0) = u(\\infty) = 0$$ |"
   ]
  },
  {
   "cell_type": "code",
   "execution_count": 3,
   "metadata": {
    "slideshow": {
     "slide_type": "fragment"
    }
   },
   "outputs": [],
   "source": [
    "C0 = FunctionSpace(N, 'Chebyshev', bc=(0, 0))\n",
    "L0 = FunctionSpace(N, 'Legendre', bc=(0, 0))\n",
    "H0 = FunctionSpace(N, 'Hermite')\n",
    "La = FunctionSpace(N, 'Laguerre', bc=(0, 0))"
   ]
  },
  {
   "cell_type": "markdown",
   "metadata": {
    "slideshow": {
     "slide_type": "subslide"
    }
   },
   "source": [
    "# Shen's bases with Neumann $u'(\\pm 1) = 0$\n",
    "\n",
    "<p style=\"margin-bottom:1cm;\">\n",
    "\n",
    "| family    | Basis                 |\n",
    "|-----------|-----------------------|\n",
    "| Chebyshev | $$\\left\\{T_k-\\frac{k^2}{(k+2)^2}T_{k+2}\\right\\}_{k=0}^{N-3}$$ | \n",
    "| Legendre  | $$\\left\\{L_k-\\frac{k(k+1)}{(k+2)(k+3)}L_{k+2}\\right\\}_{k=0}^{N-3}$$ |"
   ]
  },
  {
   "cell_type": "code",
   "execution_count": 4,
   "metadata": {
    "slideshow": {
     "slide_type": "fragment"
    }
   },
   "outputs": [],
   "source": [
    "CN = FunctionSpace(N, 'Chebyshev', bc='Neumann')\n",
    "LN = FunctionSpace(N, 'Legendre', bc='Neumann')"
   ]
  },
  {
   "cell_type": "markdown",
   "metadata": {
    "slideshow": {
     "slide_type": "fragment"
    }
   },
   "source": [
    "# Shen's biharmonic bases $u(\\pm 1) = u'(\\pm 1) = 0$\n",
    "<p style=\"margin-bottom:1cm;\">\n",
    "\n",
    "| family    | Basis                 |\n",
    "|-----------| :-----------------:   |\n",
    "| Chebyshev | $$\\left\\{T_k-\\frac{2(k+2)}{k+3}T_{k+2}+\\frac{k+1}{k+3} T_{k+4}\\right\\}_{k=0}^{N-5}$$ | \n",
    "| Legendre  | $$\\left\\{L_k-\\frac{2(2k+5)}{(2k+7)}L_{k+2}+\\frac{2k+3}{2k+7}L_{k+4}\\right\\}_{k=0}^{N-5}$$ |\n"
   ]
  },
  {
   "cell_type": "code",
   "execution_count": 5,
   "metadata": {
    "slideshow": {
     "slide_type": "fragment"
    }
   },
   "outputs": [],
   "source": [
    "CB = FunctionSpace(N, 'Chebyshev', bc='Biharmonic')\n",
    "LB = FunctionSpace(N, 'Legendre', bc='Biharmonic')"
   ]
  },
  {
   "cell_type": "markdown",
   "metadata": {
    "slideshow": {
     "slide_type": "subslide"
    }
   },
   "source": [
    "# Multidimensional tensor product spaces\n",
    "<p style=\"margin-bottom:0.5cm;\">\n",
    "\n",
    "$$\n",
    "\\begin{align}\n",
    "L_0 &= \\{L_k(x)-L_{k+2}(x)\\}_{k=0}^{N-3} \\\\\n",
    "C_0 &= \\{T_k(x)-T_{k+2}(x)\\}_{k=0}^{N-3} \\\\\n",
    "L_1 &= \\{L_l(y)\\}_{l=0}^{N-1} \\\\\n",
    "LL(x, y) &= L_0(x) \\times L_1(y) \\\\\n",
    "CL(x, y) &= C_0(x) \\times L_1(y)\n",
    "\\end{align}\n",
    "$$\n"
   ]
  },
  {
   "cell_type": "code",
   "execution_count": 6,
   "metadata": {
    "slideshow": {
     "slide_type": "fragment"
    }
   },
   "outputs": [
    {
     "name": "stdout",
     "output_type": "stream",
     "text": [
      "(8, 8)\n"
     ]
    }
   ],
   "source": [
    "L0 = FunctionSpace(N, 'Legendre', bc=(0, 0))\n",
    "C0 = FunctionSpace(N, 'Chebyshev', bc=(0, 0))\n",
    "L1 = FunctionSpace(N, 'Legendre')\n",
    "LL = TensorProductSpace(comm, (L0, L1)) # comm is MPI.COMM_WORLD\n",
    "CL = TensorProductSpace(comm, (C0, L1))\n",
    "V = VectorTensorProductSpace(LL) # For vector valued functions\n",
    "f = Array(LL)\n",
    "print(f.shape)"
   ]
  },
  {
   "cell_type": "markdown",
   "metadata": {
    "slideshow": {
     "slide_type": "subslide"
    }
   },
   "source": [
    "# Challenge 1\n",
    "\n",
    "Create a 3-dimensional tensor product space for a scalar $u$, with problem described by\n",
    "\n",
    "$$ \n",
    "\\begin{align}\n",
    "\\Omega &= [-1, 1]\\times[-1, 1] \\times [0, 2\\pi] \\\\\n",
    "u(\\pm 1, y, z) &= 0 \\\\\n",
    "u'(x, \\pm 1, z) &= 0 \\\\\n",
    "u(x, y, 2\\pi) &= u(x, y, 0)\n",
    "\\end{align}\n",
    "$$\n"
   ]
  },
  {
   "cell_type": "code",
   "execution_count": 7,
   "metadata": {},
   "outputs": [
    {
     "name": "stdout",
     "output_type": "stream",
     "text": [
      "float64\n",
      "Help on function project in module shenfun.forms.project:\n",
      "\n",
      "project(uh, T, output_array=None, fill=True, use_to_ortho=True, use_assign=True)\n",
      "    Project ``uh`` to tensor product space ``T``\n",
      "    \n",
      "    Find :math:`u \\in T`, such that\n",
      "    \n",
      "    .. math::\n",
      "    \n",
      "        (u - u_h, v)_w^N = 0 \\quad \\forall v \\in T\n",
      "    \n",
      "    Parameters\n",
      "    ----------\n",
      "    uh : Instance of either one of\n",
      "        - :class:`.Expr`\n",
      "        - :class:`.BasisFunction`\n",
      "        - :class:`.Array`\n",
      "        - A sympy function\n",
      "    T : :class:`.TensorProductSpace` or :class:`.MixedTensorProductSpace`\n",
      "    output_array : :class:`.Function`, optional\n",
      "        Return array\n",
      "    fill : bool, optional\n",
      "        Whether to fill the `output_array` with zeros before projection\n",
      "    use_to_ortho : bool, optional\n",
      "        Whether to use fast `to_ortho` method for projection of Functions\n",
      "        to orthogonal space.\n",
      "    use_assign : bool, optional\n",
      "        Whether to use fast `assign` method for projection of Function to\n",
      "        a denser space of the same kind.\n",
      "    \n",
      "    Returns\n",
      "    -------\n",
      "    Function\n",
      "        The projection of ``uh`` in T\n",
      "    \n",
      "    See Also\n",
      "    --------\n",
      "    :func:`.inner`\n",
      "    \n",
      "    Example\n",
      "    -------\n",
      "    \n",
      "    >>> import numpy as np\n",
      "    >>> from mpi4py import MPI\n",
      "    >>> from shenfun import Basis, project, TensorProductSpace, Array, \\\n",
      "    ...     Function, Dx\n",
      "    >>> N = 16\n",
      "    >>> comm = MPI.COMM_WORLD\n",
      "    >>> T0 = FunctionSpace(N, 'C')\n",
      "    >>> K0 = FunctionSpace(N, 'F', dtype='d')\n",
      "    >>> T = TensorProductSpace(comm, (T0, K0))\n",
      "    >>> uj = Array(T)\n",
      "    >>> uj[:] = np.random.random(uj.shape)\n",
      "    >>> u = Function(T)\n",
      "    >>> u = project(uj, T, output_array=u) # Same as u = T.forward(uj, u)\n",
      "    >>> du = project(Dx(u, 0, 1), T)\n",
      "\n"
     ]
    }
   ],
   "source": [
    "L0 = FunctionSpace(N, 'Legendre', bc=(0, 0))\n",
    "L1 = FunctionSpace(N, 'Chebyshev', bc='Neumann')\n",
    "F2 = FunctionSpace(N, 'Fourier', dtype='d')\n",
    "T = TensorProductSpace(comm, (L0, L1, F2))\n",
    "f = Array(T)\n",
    "print(f.dtype)\n",
    "help(project)"
   ]
  },
  {
   "cell_type": "markdown",
   "metadata": {
    "slideshow": {
     "slide_type": "slide"
    }
   },
   "source": [
    "# Operators in shenfun\n",
    "\n",
    "Act on instances of a `TestFunction`, `TrialFunction` or `Function`\n",
    "\n",
    "- div\n",
    "- grad\n",
    "- curl\n",
    "- Dx (partial derivative)\n",
    "\n",
    "# Assembly\n",
    "- project\n",
    "- inner"
   ]
  },
  {
   "cell_type": "code",
   "execution_count": 8,
   "metadata": {
    "slideshow": {
     "slide_type": "fragment"
    }
   },
   "outputs": [
    {
     "name": "stdout",
     "output_type": "stream",
     "text": [
      "[[   0.  -30.    0.  -54.    0.  -78.]\n",
      " [   0.    0.  -70.    0. -110.    0.]\n",
      " [   0.    0.    0. -126.    0. -182.]\n",
      " [   0.    0.    0.    0. -198.    0.]\n",
      " [   0.    0.    0.    0.    0. -286.]\n",
      " [   0.    0.    0.    0.    0.    0.]]\n"
     ]
    }
   ],
   "source": [
    "L0 = FunctionSpace(N, 'Legendre', bc=(0, 0))\n",
    "L1 = FunctionSpace(N, 'Legendre')\n",
    "u = TrialFunction(L0)\n",
    "v = TestFunction(L0)\n",
    "uh = Function(L0)\n",
    "g = Array(L0)\n",
    "du = grad(u)  # vector valued expression\n",
    "h = div(du)   # scalar valued expression\n",
    "\n",
    "A = inner(Dx(u, 0, 3), v)\n",
    "print(A.diags().todense())"
   ]
  },
  {
   "cell_type": "markdown",
   "metadata": {
    "slideshow": {
     "slide_type": "subslide"
    }
   },
   "source": [
    "# The shenfun `Function` represents the solution\n",
    "\n",
    "`uh = Function(L0)`\n",
    "\n",
    "$$\n",
    "u_h(x) = \\sum_{k=0}^{N-1} \\hat{u}_k \\phi_{k}(x)\n",
    "$$\n",
    "\n",
    "The function evaluated for all quadrature points, $\\{x_j\\}_{j=0}^{N-1}$, is an `Array`\n",
    "\n",
    "`uj = Array(L0)`\n",
    "\n",
    "There is a (fast) `backward` transform for moving from `Function` to `Array`, and a `forward` transform to go the other way."
   ]
  },
  {
   "cell_type": "code",
   "execution_count": 9,
   "metadata": {
    "slideshow": {
     "slide_type": "fragment"
    }
   },
   "outputs": [],
   "source": [
    "uj = Array(L0)\n",
    "uj = uh.backward(uj)\n",
    "uh = uj.forward(uh)"
   ]
  },
  {
   "cell_type": "markdown",
   "metadata": {
    "slideshow": {
     "slide_type": "subslide"
    }
   },
   "source": [
    "# Projections\n",
    "\n",
    "Project $g(\\mathbf{x})$ to $V$:\n",
    "\n",
    "Find $u$ in $V$ such that:\n",
    "\n",
    "$$(u, v)_w = (Ig, v)_w \\quad \\text{for} \\, v \\in V $$\n",
    "\n",
    "where $Ig$ is $\\{g(x_j)\\}_{j=0}^{N-1}$, i.e., $g(x)$ evaluated on the quadrature mesh.\n",
    "\n",
    "Works if $g(x)$ is \n",
    "\n",
    "- an `Array`, which is exactly a `Function` evaluated on the mesh\n",
    "- an expression involving a `Function`, like `div(grad(uh))`\n",
    "- a `sympy` expression, like `sin(x)`\n",
    "\n",
    "\n",
    "\n"
   ]
  },
  {
   "cell_type": "code",
   "execution_count": 10,
   "metadata": {
    "slideshow": {
     "slide_type": "fragment"
    }
   },
   "outputs": [],
   "source": [
    "dudx = project(Dx(uh, 0, 1), L1) # Compute du/dx\n",
    "wh = project(uj, L1)\n",
    "import sympy as sp\n",
    "x, y = sp.symbols('x,y')\n",
    "ws = project(sp.sin(4*x), L1)"
   ]
  },
  {
   "cell_type": "markdown",
   "metadata": {
    "slideshow": {
     "slide_type": "subslide"
    }
   },
   "source": [
    "# Challenge 2\n",
    "\n",
    "Create a shenfun `Function` that corresponds to the Chebyshev polynomial $T_2(x)=2x^2-1$\n",
    "\n",
    "Compute the derivative of this `Function` using `project` and `Dx` and verify that it equals $4x$."
   ]
  },
  {
   "cell_type": "markdown",
   "metadata": {
    "slideshow": {
     "slide_type": "subslide"
    }
   },
   "source": [
    "# Challenge 3\n",
    "\n",
    "Create a `sympy` function\n",
    "\n",
    "$$f(x, y) = sin(4x)cos(3y)$$\n",
    "\n",
    "Project $f(x, y)$ to an orthogonal 2D Chebyshev space. Project then $\\nabla f$ to a vector tensor product space. Compare the results with that obtained by using `sympy` to compute the derivatives.\n"
   ]
  },
  {
   "cell_type": "markdown",
   "metadata": {
    "slideshow": {
     "slide_type": "subslide"
    }
   },
   "source": [
    "# Implementation details"
   ]
  },
  {
   "cell_type": "code",
   "execution_count": 11,
   "metadata": {
    "slideshow": {
     "slide_type": "fragment"
    }
   },
   "outputs": [],
   "source": [
    "F0 = FunctionSpace(N, 'F', dtype='D')\n",
    "F1 = FunctionSpace(N, 'F', dtype='D')\n",
    "F2 = FunctionSpace(N, 'F', dtype='d')\n",
    "FF = TensorProductSpace(comm, (F0, F1, F2))\n",
    "uh = Function(FF)\n",
    "ua = Array(FF)\n",
    "ua[:] = np.random.random(ua.shape)\n",
    "uh = ua.forward(uh)\n",
    "du = div(grad(uh))\n",
    "V = VectorTensorProductSpace(FF)\n",
    "vv = Function(V)\n",
    "c = curl(vv)\n",
    "ch = project(c, V)"
   ]
  },
  {
   "cell_type": "markdown",
   "metadata": {
    "slideshow": {
     "slide_type": "subslide"
    }
   },
   "source": [
    "# Implementation matches mathematics\n",
    "<p style=\"margin-bottom:1cm;\">\n",
    "\n",
    "$$\n",
    "A = (\\nabla u, \\nabla v)_w^N\n",
    "$$"
   ]
  },
  {
   "cell_type": "code",
   "execution_count": 12,
   "metadata": {
    "slideshow": {
     "slide_type": "fragment"
    }
   },
   "outputs": [],
   "source": [
    "A = inner(grad(u), grad(v))"
   ]
  },
  {
   "cell_type": "code",
   "execution_count": 13,
   "metadata": {
    "slideshow": {
     "slide_type": "fragment"
    }
   },
   "outputs": [
    {
     "name": "stdout",
     "output_type": "stream",
     "text": [
      "{0: array([ 6., 10., 14., 18., 22., 26.])}\n"
     ]
    }
   ],
   "source": [
    "print(A)"
   ]
  },
  {
   "cell_type": "code",
   "execution_count": 14,
   "metadata": {
    "slideshow": {
     "slide_type": "fragment"
    }
   },
   "outputs": [
    {
     "name": "stdout",
     "output_type": "stream",
     "text": [
      "[[ 6.  0.  0.  0.  0.  0.]\n",
      " [ 0. 10.  0.  0.  0.  0.]\n",
      " [ 0.  0. 14.  0.  0.  0.]\n",
      " [ 0.  0.  0. 18.  0.  0.]\n",
      " [ 0.  0.  0.  0. 22.  0.]\n",
      " [ 0.  0.  0.  0.  0. 26.]]\n"
     ]
    }
   ],
   "source": [
    "print(A.diags().todense())"
   ]
  },
  {
   "cell_type": "markdown",
   "metadata": {
    "slideshow": {
     "slide_type": "fragment"
    }
   },
   "source": [
    "A diagonal stiffness matrix!"
   ]
  },
  {
   "cell_type": "markdown",
   "metadata": {
    "slideshow": {
     "slide_type": "subslide"
    }
   },
   "source": [
    "# Complete Poisson solver with error verification in 1D\n"
   ]
  },
  {
   "cell_type": "code",
   "execution_count": 15,
   "metadata": {
    "slideshow": {
     "slide_type": "fragment"
    }
   },
   "outputs": [
    {
     "name": "stdout",
     "output_type": "stream",
     "text": [
      "[-0.07034889  0.10559306 -0.13141724  0.15190623 -0.16768243  0.17732851\n",
      " -0.17773218  0.16627795 -0.14612379  0.12945053 -0.12945053  0.14612379\n",
      " -0.16627795  0.17773218 -0.17732851  0.16768243 -0.15190623  0.13141724\n",
      " -0.10559306  0.07034889]\n"
     ]
    }
   ],
   "source": [
    "# Solve Poisson's equation\n",
    "import matplotlib.pyplot as plt\n",
    "from sympy import symbols, sin, cos, lambdify\n",
    "from shenfun import * \n",
    "\n",
    "# Use sympy to compute manufactured solution\n",
    "x, y = symbols(\"x,y\")\n",
    "ue = sin(6*np.pi*x)*(1-x**2) # `ue` is the manufactured solution\n",
    "fe = ue.diff(x, 2) # `fe` is Poisson's right hand side for `ue`\n",
    "\n",
    "SD = FunctionSpace(20, 'L', bc=(0, 0))\n",
    "u = TrialFunction(SD)\n",
    "v = TestFunction(SD)\n",
    "\n",
    "b = inner(v, Array(SD, buffer=fe)) # Array is initialized with `fe`\n",
    "A = inner(v, div(grad(u)))\n",
    "\n",
    "uh = Function(SD)\n",
    "uh = A.solve(b, uh) # Very fast solver due to Jie Shen\n",
    "print(uh.backward()-Array(SD, buffer=ue))"
   ]
  },
  {
   "cell_type": "code",
   "execution_count": 16,
   "metadata": {
    "slideshow": {
     "slide_type": "subslide"
    }
   },
   "outputs": [
    {
     "data": {
      "text/plain": [
       "[<matplotlib.lines.Line2D at 0x7f8b983a2510>]"
      ]
     },
     "execution_count": 16,
     "metadata": {},
     "output_type": "execute_result"
    },
    {
     "data": {
      "image/png": "[encoded data removed]",
      "text/plain": [
       "<Figure size 432x288 with 1 Axes>"
      ]
     },
     "metadata": {
      "needs_background": "light"
     },
     "output_type": "display_data"
    }
   ],
   "source": [
    "plt.plot(SD.mesh(), uh.backward())"
   ]
  },
  {
   "cell_type": "markdown",
   "metadata": {
    "slideshow": {
     "slide_type": "slide"
    }
   },
   "source": [
    "# 2D - still closely matching mathematics"
   ]
  },
  {
   "cell_type": "code",
   "execution_count": 17,
   "metadata": {
    "slideshow": {
     "slide_type": "fragment"
    }
   },
   "outputs": [],
   "source": [
    "L0 = FunctionSpace(N, 'Legendre', bc=(0, 0))\n",
    "F1 = FunctionSpace(N, 'Fourier', dtype='d')\n",
    "TP = TensorProductSpace(comm, (L0, F1))\n",
    "u = TrialFunction(TP)\n",
    "v = TestFunction(TP)\n",
    "A = inner(grad(u), grad(v))"
   ]
  },
  {
   "cell_type": "code",
   "execution_count": 18,
   "metadata": {
    "slideshow": {
     "slide_type": "fragment"
    }
   },
   "outputs": [
    {
     "name": "stdout",
     "output_type": "stream",
     "text": [
      "[<shenfun.matrixbase.TPMatrix object at 0x7f8bc9af4810>, <shenfun.matrixbase.TPMatrix object at 0x7f8bc9af4750>]\n"
     ]
    }
   ],
   "source": [
    "print(A)"
   ]
  },
  {
   "cell_type": "markdown",
   "metadata": {
    "slideshow": {
     "slide_type": "fragment"
    }
   },
   "source": [
    "# ? \n",
    "\n",
    "A is a list of two TPMatrix objects???\n"
   ]
  },
  {
   "cell_type": "markdown",
   "metadata": {
    "slideshow": {
     "slide_type": "subslide"
    }
   },
   "source": [
    "# `TPMatrix` is a Tensor Product matrix\n",
    "\n",
    "A `TPMatrix` is the outer product of smaller matrices (2 in 2D, 3 in 3D etc).  \n",
    "\n",
    "Consider the inner product:\n",
    "\n",
    "$$\n",
    "\\begin{align}\n",
    "(\\nabla u, \\nabla v)_w &= \\frac{1}{2\\pi}\\int_{-1}^{1}\\int_{0}^{2\\pi} \\left(\\frac{\\partial u}{\\partial x}, \\frac{\\partial u}{\\partial y}\\right) \\cdot \\left(\\frac{\\partial \\overline{v}}{\\partial x}, \\frac{\\partial \\overline{v}}{\\partial y}\\right) {dxdy} \\\\\n",
    "(\\nabla u, \\nabla v)_w &= \\frac{1}{2\\pi}\\int_{-1}^1 \\int_{0}^{2\\pi} \\frac{\\partial u}{\\partial x}\\frac{\\partial \\overline{v}}{\\partial x} {dxdy} + \\int_{-1}^1 \\int_{0}^{2\\pi} \\frac{\\partial u}{\\partial y}\\frac{\\partial \\overline{v}}{\\partial y} {dxdy}\n",
    "\\end{align}\n",
    "$$\n",
    "\n",
    "which, like `A`, is a sum of two terms. These two terms are the two `TPMatrix`es returned by `inner` above.\n",
    "\n",
    "Now each one of these two terms can be written as the outer product of two smaller matrices. "
   ]
  },
  {
   "cell_type": "markdown",
   "metadata": {
    "slideshow": {
     "slide_type": "subslide"
    }
   },
   "source": [
    "Consider the first, inserting for test and trial functions\n",
    "\n",
    "$$\n",
    "\\begin{align}\n",
    "v &= \\phi_{kl} = (L_k(x)-L_{k+2}(x))\\exp(\\text{i}ly) \\\\\n",
    "u &= \\phi_{mn}\n",
    "\\end{align}\n",
    "$$\n",
    "\n",
    "The first term becomes\n",
    "\n",
    "$$\n",
    "\\small\n",
    "\\begin{align}\n",
    "\\int_{-1}^1 \\int_{0}^{2\\pi} \\frac{\\partial u}{\\partial x}\\frac{\\partial \\overline{v}}{\\partial x} \\frac{dxdy}{2\\pi} &= \\underbrace{\\int_{-1}^1 \\frac{\\partial (L_m-L_{m+2})}{\\partial x}\\frac{\\partial (L_k-L_{k+2})}{\\partial x} {dx}}_{a_{km}} \\underbrace{\\int_{0}^{2\\pi}  \\exp(iny) \\exp(-ily) \\frac{dy}{2\\pi}}_{\\delta_{ln}} \\\\\n",
    "   &= a_{km} \\delta_{ln}\n",
    "\\end{align}\n",
    "$$\n",
    "\n",
    "and the second\n",
    "\n",
    "$$\n",
    "\\small\n",
    "\\begin{align}\n",
    "\\int_{-1}^1 \\int_{0}^{2\\pi} \\frac{\\partial u}{\\partial y}\\frac{\\partial \\overline{v}}{\\partial y} \\frac{dxdy}{2\\pi} &= \\underbrace{\\int_{-1}^1 (L_m-L_{m+2})(L_k-L_{k+2}) {dx}}_{b_{km}} \\underbrace{\\int_{0}^{2\\pi} ln \\exp(iny) \\exp(-ily)\\frac{dy}{2\\pi}}_{l^2\\delta_{ln}} \\\\\n",
    "   &= l^2 b_{km} \\delta_{ln}\n",
    "\\end{align}\n",
    "$$\n",
    "\n",
    "All in all:\n",
    "\n",
    "$$\n",
    "(\\nabla u, \\nabla v)_w = \\left(a_{km} \\delta_{ln} + l^2 b_{km} \\delta_{ln}\\right)\n",
    "$$"
   ]
  },
  {
   "cell_type": "markdown",
   "metadata": {
    "slideshow": {
     "slide_type": "subslide"
    }
   },
   "source": [
    "$$\n",
    "(\\nabla u, \\nabla v)_w = \\left(a_{km} \\delta_{ln} + l^2 b_{km} \\delta_{ln}\\right)\n",
    "$$"
   ]
  },
  {
   "cell_type": "code",
   "execution_count": 19,
   "metadata": {
    "slideshow": {
     "slide_type": "fragment"
    }
   },
   "outputs": [
    {
     "name": "stdout",
     "output_type": "stream",
     "text": [
      "[{0: array([ 6., 10., 14., 18., 22., 26.])}, {0: 1}]\n",
      "Or as dense matrices:\n",
      "[[ 6.  0.  0.  0.  0.  0.]\n",
      " [ 0. 10.  0.  0.  0.  0.]\n",
      " [ 0.  0. 14.  0.  0.  0.]\n",
      " [ 0.  0.  0. 18.  0.  0.]\n",
      " [ 0.  0.  0.  0. 22.  0.]\n",
      " [ 0.  0.  0.  0.  0. 26.]]\n",
      "[[1. 0. 0. 0. 0.]\n",
      " [0. 1. 0. 0. 0.]\n",
      " [0. 0. 1. 0. 0.]\n",
      " [0. 0. 0. 1. 0.]\n",
      " [0. 0. 0. 0. 1.]]\n"
     ]
    }
   ],
   "source": [
    "A = inner(grad(u), grad(v)) # <- list of two TPMatrices\n",
    "print(A[0].mats)\n",
    "print('Or as dense matrices:')\n",
    "for mat in A[0].mats:\n",
    "    print(mat.diags().todense())"
   ]
  },
  {
   "cell_type": "code",
   "execution_count": 20,
   "metadata": {
    "slideshow": {
     "slide_type": "fragment"
    }
   },
   "outputs": [
    {
     "name": "stdout",
     "output_type": "stream",
     "text": [
      "[[ 2.4         0.         -0.4         0.          0.          0.        ]\n",
      " [ 0.          0.95238095  0.         -0.28571429  0.          0.        ]\n",
      " [-0.4         0.          0.62222222  0.         -0.22222222  0.        ]\n",
      " [ 0.         -0.28571429  0.          0.46753247  0.         -0.18181818]\n",
      " [ 0.          0.         -0.22222222  0.          0.37606838  0.        ]\n",
      " [ 0.          0.          0.         -0.18181818  0.          0.31515152]]\n"
     ]
    }
   ],
   "source": [
    "print(A[1].mats[0].diags().todense())\n",
    "#print(A[1].scale) # l^2"
   ]
  },
  {
   "cell_type": "markdown",
   "metadata": {
    "slideshow": {
     "slide_type": "slide"
    }
   },
   "source": [
    "# 3D Poisson (with MPI and Fourier x 2)"
   ]
  },
  {
   "cell_type": "code",
   "execution_count": 21,
   "metadata": {
    "slideshow": {
     "slide_type": "fragment"
    }
   },
   "outputs": [
    {
     "name": "stdout",
     "output_type": "stream",
     "text": [
      "(32, 32, 17)\n"
     ]
    }
   ],
   "source": [
    "from sympy import symbols, sin, cos, lambdify\n",
    "from shenfun import *\n",
    "\n",
    "# Use sympy to compute manufactured solution\n",
    "x, y, z = symbols(\"x,y,z\")\n",
    "ue = (cos(4*x) + sin(2*y) + sin(4*z))*(1-x**2)\n",
    "fe = ue.diff(x, 2) + ue.diff(y, 2) + ue.diff(z, 2)\n",
    "\n",
    "C0 = FunctionSpace(32, 'Chebyshev', bc=(0, 0))\n",
    "F1 = FunctionSpace(32, 'Fourier', dtype='D')\n",
    "F2 = FunctionSpace(32, 'Fourier', dtype='d')\n",
    "T = TensorProductSpace(comm, (C0, F1, F2))\n",
    "u = TrialFunction(T)\n",
    "v = TestFunction(T)\n",
    "\n",
    "# Assemble left and right hand\n",
    "f_hat = inner(v, Array(T, buffer=fe))\n",
    "A = inner(v, div(grad(u)))\n",
    "\n",
    "# Solve\n",
    "solver = chebyshev.la.Helmholtz(*A) # Very fast solver due to Jie Shen\n",
    "u_hat = Function(T)\n",
    "u_hat = solver(u_hat, f_hat)\n",
    "assert np.linalg.norm(u_hat.backward()-Array(T, buffer=ue)) < 1e-12\n",
    "print(u_hat.shape)"
   ]
  },
  {
   "cell_type": "markdown",
   "metadata": {
    "slideshow": {
     "slide_type": "subslide"
    }
   },
   "source": [
    "# Contour plot of slice with constant y"
   ]
  },
  {
   "cell_type": "code",
   "execution_count": 22,
   "metadata": {
    "slideshow": {
     "slide_type": "fragment"
    }
   },
   "outputs": [
    {
     "data": {
      "text/plain": [
       "<matplotlib.colorbar.Colorbar at 0x7f8b985afd90>"
      ]
     },
     "execution_count": 22,
     "metadata": {},
     "output_type": "execute_result"
    },
    {
     "data": {
      "image/png": "[encoded data removed]",
      "text/plain": [
       "<Figure size 432x288 with 2 Axes>"
      ]
     },
     "metadata": {
      "needs_background": "light"
     },
     "output_type": "display_data"
    }
   ],
   "source": [
    "X = T.local_mesh()\n",
    "ua = u_hat.backward()\n",
    "plt.contourf(X[2][0, 0, :], X[0][:, 0, 0], ua[:, 2], 100)\n",
    "plt.colorbar()"
   ]
  },
  {
   "cell_type": "markdown",
   "metadata": {
    "slideshow": {
     "slide_type": "subslide"
    }
   },
   "source": [
    "# Run with MPI distribution of arrays\n",
    "\n",
    "Here we would normally run from a bash shell\n",
    "<p style=\"margin-bottom:0.5cm;\">\n",
    "\n",
    "<div style=\"color:black\"> <strong>[bash shell] mpirun -np 4 python poisson3D.py </strong> </div>\n",
    "\n",
    "But since we are in a Jupyter notebook lets actually do this from python in a live cell:-)"
   ]
  },
  {
   "cell_type": "code",
   "execution_count": 23,
   "metadata": {
    "slideshow": {
     "slide_type": "fragment"
    }
   },
   "outputs": [
    {
     "data": {
      "text/plain": [
       "b'(32, 16, 9)\\n(32, 16, 8)\\n(32, 16, 8)\\n(32, 16, 9)\\n'"
      ]
     },
     "execution_count": 23,
     "metadata": {},
     "output_type": "execute_result"
    }
   ],
   "source": [
    "import subprocess\n",
    "subprocess.check_output('mpirun -np 4 python poisson3D.py', shell=True)"
   ]
  },
  {
   "cell_type": "markdown",
   "metadata": {
    "slideshow": {
     "slide_type": "fragment"
    }
   },
   "source": [
    "Note that Fourier bases are especially attractive because of features easily handled with MPI:\n",
    "\n",
    "    - diagonal matrices\n",
    "    - fast transforms"
   ]
  },
  {
   "cell_type": "markdown",
   "metadata": {
    "slideshow": {
     "slide_type": "slide"
    }
   },
   "source": [
    "# Nonlinearities (convolution)\n",
    "All treated with pseudo-spectral techniques\n",
    "\n",
    "$$\n",
    "\\begin{align}\n",
    "\\hat{w}_k &= \\widehat{u^2}_k\n",
    "\\end{align}\n",
    "$$\n",
    "\n",
    "That is, transform `Function`s to real space `Array`s, perform the nonlinear operation there and transform the nonlinear product back to spectral space (to a `Function`).\n",
    "\n",
    "3/2-rule or 2/3-rule is possible for dealiasing with Fourier. Not for the remaining bases."
   ]
  },
  {
   "cell_type": "code",
   "execution_count": 24,
   "metadata": {
    "slideshow": {
     "slide_type": "fragment"
    }
   },
   "outputs": [],
   "source": [
    "uj = Array(SD)\n",
    "#uj[:] = np.random.random(uj.shape)\n",
    "uj = uh.backward(uj)\n",
    "wh = Function(SD)\n",
    "wh = SD.forward(uj*uj, wh)"
   ]
  },
  {
   "cell_type": "markdown",
   "metadata": {
    "slideshow": {
     "slide_type": "subslide"
    }
   },
   "source": [
    "# Challenge 3\n",
    "\n",
    "## Implement nonlinear solver for\n",
    "<p style=\"margin-bottom:1cm;\">\n",
    "\n",
    "$$\n",
    "\\begin{align}\n",
    "\\nabla^2 u(x) + \\alpha |\\nabla u(x)|^2 &= -1, \\quad x \\in [-1, 1]\\\\\n",
    "u(\\pm 1) = 0 &\\text{ and } \\alpha \\in \\mathbb{R^+}\n",
    "\\end{align}\n",
    "$$\n",
    "\n",
    "Note that if $\\alpha=0$ then obviously $u(x) = a_0+a_1x-0.5x^2$. This solution can be realized with basis function $T_0(x)-T_2(x)$, which equals $2(1-x^2)$, and which is the first basis function in the space\n",
    "\n",
    "$$\n",
    "V = \\text{span}\\{T_k-T_{k+2}\\}_{k=0}^{N-3}\n",
    "$$\n",
    "\n",
    "In other words, for $u$ in $V$ the solution is $\\hat{u}_0 = 0.25$ and $\\hat{u}_k = 0$ for all $k=1, 2, \\ldots$.\n",
    "\n",
    "$$\n",
    "\\begin{align}\n",
    "u(x) &= \\sum_{k=0}^{N-3}\\hat{u}_k (T_k-T_{k+2}) = 0.25(1-(2x^2-1)) \\\\\n",
    "     &= 0.5(1-x^2)\n",
    "\\end{align}\n",
    "$$\n",
    "\n",
    "This is a good initial guess to find the nonlinear solution when $\\alpha>0$! What is a good initial guess for Legendre? You need to iterate to find the solution when $\\alpha > 0$!"
   ]
  },
  {
   "cell_type": "markdown",
   "metadata": {
    "slideshow": {
     "slide_type": "slide"
    }
   },
   "source": [
    "# Mixed tensor product spaces\n",
    "\n",
    "Solve several equations simultaneously\n",
    "\n",
    "- Coupled equations\n",
    "- Block matrices and vectors\n",
    "- Tensor spaces of vectors, like velocity $u \\in [\\mathbb{R}^3]^3$"
   ]
  },
  {
   "cell_type": "markdown",
   "metadata": {
    "slideshow": {
     "slide_type": "subslide"
    }
   },
   "source": [
    "# Stokes equations\n",
    "### lid-driven cavity - coupled solver\n",
    "<p style=\"margin-bottom:0.25cm;\">\n",
    "\n",
    "$$\n",
    "\\begin{align*}\n",
    "\\nabla^2 \\mathbf{u} - \\nabla p &= \\mathbf{f} \\quad \\text{in }  \\Omega, \\quad \\quad \\Omega = [-1, 1]\\times[-1, 1]\\\\ \n",
    "\\nabla \\cdot \\mathbf{u} &= h \\quad \\text{in } \\Omega  \\\\ \n",
    "\\int_{\\Omega} p dx &= 0 \\\\\n",
    "\\mathbf{u}(\\pm 1, y) = \\mathbf{u}(x, -1) = (0, 0) &\\text{ and }\\mathbf{u}(x, 1) = (1, 0) \\text{ or } ((1-x^2)(1+x^2), 0)\n",
    "\\end{align*}\n",
    "$$\n",
    "\n",
    "Given appropriate spaces $V$ and $Q$ a variational form reads: find $(\\mathbf{u}, p) \\in V \\times Q$ such that \n",
    "\n",
    "$$\n",
    "\\begin{equation}\n",
    "a((\\mathbf{u}, p), (\\mathbf{v}, q)) = L((\\mathbf{v}, q)) \\quad \\forall (\\mathbf{v}, q) \\in V \\times Q\n",
    "\\end{equation}\n",
    "$$"
   ]
  },
  {
   "cell_type": "markdown",
   "metadata": {
    "slideshow": {
     "slide_type": "fragment"
    }
   },
   "source": [
    "where bilinear and linear forms are, respectively\n",
    "\n",
    "$$\n",
    "\\begin{equation}\n",
    "    a((\\mathbf{u}, p), (\\mathbf{v}, q)) = \\int_{\\Omega} (\\nabla^2 \\mathbf{u} - \\nabla p) \\cdot {\\mathbf{v}} \\, dx_w + \\int_{\\Omega} \\nabla \\cdot \\mathbf{u} \\, {q} \\, dx_w,\n",
    "\\end{equation}\n",
    "$$\n",
    "$$\n",
    "\\begin{equation}  \n",
    "    L((\\mathbf{v}, q)) = \\int_{\\Omega} \\mathbf{f} \\cdot {\\mathbf{v}}\\, dx_w + \\int_{\\Omega} h {q} \\, dx_w\n",
    "\\end{equation}\n",
    "$$"
   ]
  },
  {
   "cell_type": "markdown",
   "metadata": {
    "slideshow": {
     "slide_type": "subslide"
    }
   },
   "source": [
    "Using integration by parts for Legendre\n",
    "\n",
    "$$\n",
    "\\begin{equation}\n",
    "    a((\\mathbf{u}, p), (\\mathbf{v}, q)) = -\\int_{\\Omega} \\nabla \\mathbf{u} \\cdot \\nabla{\\mathbf{v}} \\, dx_w + \\int_{\\Omega} \\nabla \\cdot \\mathbf{v} \\, {p} \\, dx_w + \\int_{\\Omega} \\nabla \\cdot \\mathbf{u} \\, {q} \\, dx_w,\n",
    "\\end{equation}\n",
    "$$"
   ]
  },
  {
   "cell_type": "markdown",
   "metadata": {
    "slideshow": {
     "slide_type": "subslide"
    }
   },
   "source": [
    "# Implementation of spaces, basis functions"
   ]
  },
  {
   "cell_type": "code",
   "execution_count": 25,
   "metadata": {
    "slideshow": {
     "slide_type": "fragment"
    }
   },
   "outputs": [],
   "source": [
    "N = (40, 40)\n",
    "family = 'Legendre'\n",
    "D0X = FunctionSpace(N[0], 'Legendre', bc=(0, 0))\n",
    "#D1Y = FunctionSpace(N[1], 'Legendre', bc=(1, 0)) # Regular lid\n",
    "D1Y = FunctionSpace(N[1], 'Legendre', bc=(0, (1-x)**2*(1+x)**2)) # Regularized lid\n",
    "D0Y = FunctionSpace(N[1], 'Legendre', bc=(0, 0))\n",
    "PX = FunctionSpace(N[0], 'Legendre')\n",
    "PY = FunctionSpace(N[1], 'Legendre')\n",
    "PX.slice = lambda: slice(0, PX.N-2)\n",
    "PY.slice = lambda: slice(0, PY.N-2)\n",
    "\n",
    "# All required spaces\n",
    "V1 = TensorProductSpace(comm, (D0X, D1Y))\n",
    "V0 = TensorProductSpace(comm, (D0X, D0Y))\n",
    "Q = TensorProductSpace(comm, (PX, PY))\n",
    "V = MixedTensorProductSpace([V1, V0])\n",
    "W = MixedTensorProductSpace([V0, V0])\n",
    "VQ = MixedTensorProductSpace([V, Q])\n",
    "\n",
    "# All required test and trial functions\n",
    "up = TrialFunction(VQ)\n",
    "vq = TestFunction(VQ)\n",
    "u, p = up\n",
    "v, q = vq"
   ]
  },
  {
   "cell_type": "markdown",
   "metadata": {
    "slideshow": {
     "slide_type": "subslide"
    }
   },
   "source": [
    "# Implementation Stokes - matrices and solve"
   ]
  },
  {
   "cell_type": "code",
   "execution_count": 26,
   "metadata": {
    "slideshow": {
     "slide_type": "fragment"
    }
   },
   "outputs": [
    {
     "name": "stderr",
     "output_type": "stream",
     "text": [
      "/Users/mikaelmortensen/opt/anaconda3/envs/shenfun37/lib/python3.7/site-packages/scipy/sparse/_index.py:84: SparseEfficiencyWarning: Changing the sparsity structure of a csr_matrix is expensive. lil_matrix is more efficient.\n",
      "  self._set_intXint(row, col, x.flat[0])\n"
     ]
    }
   ],
   "source": [
    "# Assemble matrices\n",
    "A = inner(grad(v), -grad(u))\n",
    "G = inner(div(v), p)\n",
    "D = inner(q, div(u))\n",
    "\n",
    "# Extract the boundary matrices\n",
    "bc_mats = extract_bc_matrices([A, G, D])\n",
    "\n",
    "# Create Block matrix\n",
    "M = BlockMatrix(A+G+D)\n",
    "BM = BlockMatrix(bc_mats)\n",
    "\n",
    "# Add contribution to rhs from inhomogeneous basis\n",
    "up_hat = Function(VQ).set_boundary_dofs()\n",
    "fh_hat = Function(VQ)\n",
    "fh_hat = BM.matvec(-up_hat, fh_hat)\n",
    "\n",
    "# Solve Stokes problem. Note constraint for pressure\n",
    "up_hat = M.solve(fh_hat, u=up_hat, constraints=((2, 0, 0),)) \n",
    "\n",
    "# Move solution to Array in real space\n",
    "up = up_hat.backward()\n",
    "u_, p_ = up"
   ]
  },
  {
   "cell_type": "code",
   "execution_count": 27,
   "metadata": {
    "slideshow": {
     "slide_type": "subslide"
    }
   },
   "outputs": [
    {
     "data": {
      "text/plain": [
       "<matplotlib.quiver.Quiver at 0x7f8b48034050>"
      ]
     },
     "execution_count": 27,
     "metadata": {},
     "output_type": "execute_result"
    },
    {
     "data": {
      "image/png": "[encoded data removed]",
      "text/plain": [
       "<Figure size 432x288 with 1 Axes>"
      ]
     },
     "metadata": {
      "needs_background": "light"
     },
     "output_type": "display_data"
    }
   ],
   "source": [
    "X = Q.local_mesh(True)\n",
    "plt.quiver(X[0], X[1], u_[0], u_[1])"
   ]
  },
  {
   "cell_type": "markdown",
   "metadata": {
    "slideshow": {
     "slide_type": "subslide"
    }
   },
   "source": [
    "# Sparsity pattern of block matrix\n",
    "\n",
    "$$\n",
    "M =\n",
    "  \\begin{bmatrix}\n",
    "      A[0]+A[1] & 0 & G[0] \\\\\n",
    "      0 & A[2]+A[3] & G[1] \\\\ \n",
    "      D[0] & D[1] & 0\n",
    "  \\end{bmatrix}\n",
    "$$"
   ]
  },
  {
   "cell_type": "code",
   "execution_count": 28,
   "metadata": {
    "slideshow": {
     "slide_type": "fragment"
    }
   },
   "outputs": [
    {
     "data": {
      "application/javascript": [
       "/* Put everything inside the global mpl namespace */\n",
       "window.mpl = {};\n",
       "\n",
       "\n",
       "mpl.get_websocket_type = function() {\n",
       "    if (typeof(WebSocket) !== 'undefined') {\n",
       "        return WebSocket;\n",
       "    } else if (typeof(MozWebSocket) !== 'undefined') {\n",
       "        return MozWebSocket;\n",
       "    } else {\n",
       "        alert('Your browser does not have WebSocket support. ' +\n",
       "              'Please try Chrome, Safari or Firefox ≥ 6. ' +\n",
       "              'Firefox 4 and 5 are also supported but you ' +\n",
       "              'have to enable WebSockets in about:config.');\n",
       "    };\n",
       "}\n",
       "\n",
       "mpl.figure = function(figure_id, websocket, ondownload, parent_element) {\n",
       "    this.id = figure_id;\n",
       "\n",
       "    this.ws = websocket;\n",
       "\n",
       "    this.supports_binary = (this.ws.binaryType != undefined);\n",
       "\n",
       "    if (!this.supports_binary) {\n",
       "        var warnings = document.getElementById(\"mpl-warnings\");\n",
       "        if (warnings) {\n",
       "            warnings.style.display = 'block';\n",
       "            warnings.textContent = (\n",
       "                \"This browser does not support binary websocket messages. \" +\n",
       "                    \"Performance may be slow.\");\n",
       "        }\n",
       "    }\n",
       "\n",
       "    this.imageObj = new Image();\n",
       "\n",
       "    this.context = undefined;\n",
       "    this.message = undefined;\n",
       "    this.canvas = undefined;\n",
       "    this.rubberband_canvas = undefined;\n",
       "    this.rubberband_context = undefined;\n",
       "    this.format_dropdown = undefined;\n",
       "\n",
       "    this.image_mode = 'full';\n",
       "\n",
       "    this.root = $('<div/>');\n",
       "    this._root_extra_style(this.root)\n",
       "    this.root.attr('style', 'display: inline-block');\n",
       "\n",
       "    $(parent_element).append(this.root);\n",
       "\n",
       "    this._init_header(this);\n",
       "    this._init_canvas(this);\n",
       "    this._init_toolbar(this);\n",
       "\n",
       "    var fig = this;\n",
       "\n",
       "    this.waiting = false;\n",
       "\n",
       "    this.ws.onopen =  function () {\n",
       "            fig.send_message(\"supports_binary\", {value: fig.supports_binary});\n",
       "            fig.send_message(\"send_image_mode\", {});\n",
       "            if (mpl.ratio != 1) {\n",
       "                fig.send_message(\"set_dpi_ratio\", {'dpi_ratio': mpl.ratio});\n",
       "            }\n",
       "            fig.send_message(\"refresh\", {});\n",
       "        }\n",
       "\n",
       "    this.imageObj.onload = function() {\n",
       "            if (fig.image_mode == 'full') {\n",
       "                // Full images could contain transparency (where diff images\n",
       "                // almost always do), so we need to clear the canvas so that\n",
       "                // there is no ghosting.\n",
       "                fig.context.clearRect(0, 0, fig.canvas.width, fig.canvas.height);\n",
       "            }\n",
       "            fig.context.drawImage(fig.imageObj, 0, 0);\n",
       "        };\n",
       "\n",
       "    this.imageObj.onunload = function() {\n",
       "        fig.ws.close();\n",
       "    }\n",
       "\n",
       "    this.ws.onmessage = this._make_on_message_function(this);\n",
       "\n",
       "    this.ondownload = ondownload;\n",
       "}\n",
       "\n",
       "mpl.figure.prototype._init_header = function() {\n",
       "    var titlebar = $(\n",
       "        '<div class=\"ui-dialog-titlebar ui-widget-header ui-corner-all ' +\n",
       "        'ui-helper-clearfix\"/>');\n",
       "    var titletext = $(\n",
       "        '<div class=\"ui-dialog-title\" style=\"width: 100%; ' +\n",
       "        'text-align: center; padding: 3px;\"/>');\n",
       "    titlebar.append(titletext)\n",
       "    this.root.append(titlebar);\n",
       "    this.header = titletext[0];\n",
       "}\n",
       "\n",
       "\n",
       "\n",
       "mpl.figure.prototype._canvas_extra_style = function(canvas_div) {\n",
       "\n",
       "}\n",
       "\n",
       "\n",
       "mpl.figure.prototype._root_extra_style = function(canvas_div) {\n",
       "\n",
       "}\n",
       "\n",
       "mpl.figure.prototype._init_canvas = function() {\n",
       "    var fig = this;\n",
       "\n",
       "    var canvas_div = $('<div/>');\n",
       "\n",
       "    canvas_div.attr('style', 'position: relative; clear: both; outline: 0');\n",
       "\n",
       "    function canvas_keyboard_event(event) {\n",
       "        return fig.key_event(event, event['data']);\n",
       "    }\n",
       "\n",
       "    canvas_div.keydown('key_press', canvas_keyboard_event);\n",
       "    canvas_div.keyup('key_release', canvas_keyboard_event);\n",
       "    this.canvas_div = canvas_div\n",
       "    this._canvas_extra_style(canvas_div)\n",
       "    this.root.append(canvas_div);\n",
       "\n",
       "    var canvas = $('<canvas/>');\n",
       "    canvas.addClass('mpl-canvas');\n",
       "    canvas.attr('style', \"left: 0; top: 0; z-index: 0; outline: 0\")\n",
       "\n",
       "    this.canvas = canvas[0];\n",
       "    this.context = canvas[0].getContext(\"2d\");\n",
       "\n",
       "    var backingStore = this.context.backingStorePixelRatio ||\n",
       "\tthis.context.webkitBackingStorePixelRatio ||\n",
       "\tthis.context.mozBackingStorePixelRatio ||\n",
       "\tthis.context.msBackingStorePixelRatio ||\n",
       "\tthis.context.oBackingStorePixelRatio ||\n",
       "\tthis.context.backingStorePixelRatio || 1;\n",
       "\n",
       "    mpl.ratio = (window.devicePixelRatio || 1) / backingStore;\n",
       "\n",
       "    var rubberband = $('<canvas/>');\n",
       "    rubberband.attr('style', \"position: absolute; left: 0; top: 0; z-index: 1;\")\n",
       "\n",
       "    var pass_mouse_events = true;\n",
       "\n",
       "    canvas_div.resizable({\n",
       "        start: function(event, ui) {\n",
       "            pass_mouse_events = false;\n",
       "        },\n",
       "        resize: function(event, ui) {\n",
       "            fig.request_resize(ui.size.width, ui.size.height);\n",
       "        },\n",
       "        stop: function(event, ui) {\n",
       "            pass_mouse_events = true;\n",
       "            fig.request_resize(ui.size.width, ui.size.height);\n",
       "        },\n",
       "    });\n",
       "\n",
       "    function mouse_event_fn(event) {\n",
       "        if (pass_mouse_events)\n",
       "            return fig.mouse_event(event, event['data']);\n",
       "    }\n",
       "\n",
       "    rubberband.mousedown('button_press', mouse_event_fn);\n",
       "    rubberband.mouseup('button_release', mouse_event_fn);\n",
       "    // Throttle sequential mouse events to 1 every 20ms.\n",
       "    rubberband.mousemove('motion_notify', mouse_event_fn);\n",
       "\n",
       "    rubberband.mouseenter('figure_enter', mouse_event_fn);\n",
       "    rubberband.mouseleave('figure_leave', mouse_event_fn);\n",
       "\n",
       "    canvas_div.on(\"wheel\", function (event) {\n",
       "        event = event.originalEvent;\n",
       "        event['data'] = 'scroll'\n",
       "        if (event.deltaY < 0) {\n",
       "            event.step = 1;\n",
       "        } else {\n",
       "            event.step = -1;\n",
       "        }\n",
       "        mouse_event_fn(event);\n",
       "    });\n",
       "\n",
       "    canvas_div.append(canvas);\n",
       "    canvas_div.append(rubberband);\n",
       "\n",
       "    this.rubberband = rubberband;\n",
       "    this.rubberband_canvas = rubberband[0];\n",
       "    this.rubberband_context = rubberband[0].getContext(\"2d\");\n",
       "    this.rubberband_context.strokeStyle = \"#000000\";\n",
       "\n",
       "    this._resize_canvas = function(width, height) {\n",
       "        // Keep the size of the canvas, canvas container, and rubber band\n",
       "        // canvas in synch.\n",
       "        canvas_div.css('width', width)\n",
       "        canvas_div.css('height', height)\n",
       "\n",
       "        canvas.attr('width', width * mpl.ratio);\n",
       "        canvas.attr('height', height * mpl.ratio);\n",
       "        canvas.attr('style', 'width: ' + width + 'px; height: ' + height + 'px;');\n",
       "\n",
       "        rubberband.attr('width', width);\n",
       "        rubberband.attr('height', height);\n",
       "    }\n",
       "\n",
       "    // Set the figure to an initial 600x600px, this will subsequently be updated\n",
       "    // upon first draw.\n",
       "    this._resize_canvas(600, 600);\n",
       "\n",
       "    // Disable right mouse context menu.\n",
       "    $(this.rubberband_canvas).bind(\"contextmenu\",function(e){\n",
       "        return false;\n",
       "    });\n",
       "\n",
       "    function set_focus () {\n",
       "        canvas.focus();\n",
       "        canvas_div.focus();\n",
       "    }\n",
       "\n",
       "    window.setTimeout(set_focus, 100);\n",
       "}\n",
       "\n",
       "mpl.figure.prototype._init_toolbar = function() {\n",
       "    var fig = this;\n",
       "\n",
       "    var nav_element = $('<div/>');\n",
       "    nav_element.attr('style', 'width: 100%');\n",
       "    this.root.append(nav_element);\n",
       "\n",
       "    // Define a callback function for later on.\n",
       "    function toolbar_event(event) {\n",
       "        return fig.toolbar_button_onclick(event['data']);\n",
       "    }\n",
       "    function toolbar_mouse_event(event) {\n",
       "        return fig.toolbar_button_onmouseover(event['data']);\n",
       "    }\n",
       "\n",
       "    for(var toolbar_ind in mpl.toolbar_items) {\n",
       "        var name = mpl.toolbar_items[toolbar_ind][0];\n",
       "        var tooltip = mpl.toolbar_items[toolbar_ind][1];\n",
       "        var image = mpl.toolbar_items[toolbar_ind][2];\n",
       "        var method_name = mpl.toolbar_items[toolbar_ind][3];\n",
       "\n",
       "        if (!name) {\n",
       "            // put a spacer in here.\n",
       "            continue;\n",
       "        }\n",
       "        var button = $('<button/>');\n",
       "        button.addClass('ui-button ui-widget ui-state-default ui-corner-all ' +\n",
       "                        'ui-button-icon-only');\n",
       "        button.attr('role', 'button');\n",
       "        button.attr('aria-disabled', 'false');\n",
       "        button.click(method_name, toolbar_event);\n",
       "        button.mouseover(tooltip, toolbar_mouse_event);\n",
       "\n",
       "        var icon_img = $('<span/>');\n",
       "        icon_img.addClass('ui-button-icon-primary ui-icon');\n",
       "        icon_img.addClass(image);\n",
       "        icon_img.addClass('ui-corner-all');\n",
       "\n",
       "        var tooltip_span = $('<span/>');\n",
       "        tooltip_span.addClass('ui-button-text');\n",
       "        tooltip_span.html(tooltip);\n",
       "\n",
       "        button.append(icon_img);\n",
       "        button.append(tooltip_span);\n",
       "\n",
       "        nav_element.append(button);\n",
       "    }\n",
       "\n",
       "    var fmt_picker_span = $('<span/>');\n",
       "\n",
       "    var fmt_picker = $('<select/>');\n",
       "    fmt_picker.addClass('mpl-toolbar-option ui-widget ui-widget-content');\n",
       "    fmt_picker_span.append(fmt_picker);\n",
       "    nav_element.append(fmt_picker_span);\n",
       "    this.format_dropdown = fmt_picker[0];\n",
       "\n",
       "    for (var ind in mpl.extensions) {\n",
       "        var fmt = mpl.extensions[ind];\n",
       "        var option = $(\n",
       "            '<option/>', {selected: fmt === mpl.default_extension}).html(fmt);\n",
       "        fmt_picker.append(option);\n",
       "    }\n",
       "\n",
       "    // Add hover states to the ui-buttons\n",
       "    $( \".ui-button\" ).hover(\n",
       "        function() { $(this).addClass(\"ui-state-hover\");},\n",
       "        function() { $(this).removeClass(\"ui-state-hover\");}\n",
       "    );\n",
       "\n",
       "    var status_bar = $('<span class=\"mpl-message\"/>');\n",
       "    nav_element.append(status_bar);\n",
       "    this.message = status_bar[0];\n",
       "}\n",
       "\n",
       "mpl.figure.prototype.request_resize = function(x_pixels, y_pixels) {\n",
       "    // Request matplotlib to resize the figure. Matplotlib will then trigger a resize in the client,\n",
       "    // which will in turn request a refresh of the image.\n",
       "    this.send_message('resize', {'width': x_pixels, 'height': y_pixels});\n",
       "}\n",
       "\n",
       "mpl.figure.prototype.send_message = function(type, properties) {\n",
       "    properties['type'] = type;\n",
       "    properties['figure_id'] = this.id;\n",
       "    this.ws.send(JSON.stringify(properties));\n",
       "}\n",
       "\n",
       "mpl.figure.prototype.send_draw_message = function() {\n",
       "    if (!this.waiting) {\n",
       "        this.waiting = true;\n",
       "        this.ws.send(JSON.stringify({type: \"draw\", figure_id: this.id}));\n",
       "    }\n",
       "}\n",
       "\n",
       "\n",
       "mpl.figure.prototype.handle_save = function(fig, msg) {\n",
       "    var format_dropdown = fig.format_dropdown;\n",
       "    var format = format_dropdown.options[format_dropdown.selectedIndex].value;\n",
       "    fig.ondownload(fig, format);\n",
       "}\n",
       "\n",
       "\n",
       "mpl.figure.prototype.handle_resize = function(fig, msg) {\n",
       "    var size = msg['size'];\n",
       "    if (size[0] != fig.canvas.width || size[1] != fig.canvas.height) {\n",
       "        fig._resize_canvas(size[0], size[1]);\n",
       "        fig.send_message(\"refresh\", {});\n",
       "    };\n",
       "}\n",
       "\n",
       "mpl.figure.prototype.handle_rubberband = function(fig, msg) {\n",
       "    var x0 = msg['x0'] / mpl.ratio;\n",
       "    var y0 = (fig.canvas.height - msg['y0']) / mpl.ratio;\n",
       "    var x1 = msg['x1'] / mpl.ratio;\n",
       "    var y1 = (fig.canvas.height - msg['y1']) / mpl.ratio;\n",
       "    x0 = Math.floor(x0) + 0.5;\n",
       "    y0 = Math.floor(y0) + 0.5;\n",
       "    x1 = Math.floor(x1) + 0.5;\n",
       "    y1 = Math.floor(y1) + 0.5;\n",
       "    var min_x = Math.min(x0, x1);\n",
       "    var min_y = Math.min(y0, y1);\n",
       "    var width = Math.abs(x1 - x0);\n",
       "    var height = Math.abs(y1 - y0);\n",
       "\n",
       "    fig.rubberband_context.clearRect(\n",
       "        0, 0, fig.canvas.width / mpl.ratio, fig.canvas.height / mpl.ratio);\n",
       "\n",
       "    fig.rubberband_context.strokeRect(min_x, min_y, width, height);\n",
       "}\n",
       "\n",
       "mpl.figure.prototype.handle_figure_label = function(fig, msg) {\n",
       "    // Updates the figure title.\n",
       "    fig.header.textContent = msg['label'];\n",
       "}\n",
       "\n",
       "mpl.figure.prototype.handle_cursor = function(fig, msg) {\n",
       "    var cursor = msg['cursor'];\n",
       "    switch(cursor)\n",
       "    {\n",
       "    case 0:\n",
       "        cursor = 'pointer';\n",
       "        break;\n",
       "    case 1:\n",
       "        cursor = 'default';\n",
       "        break;\n",
       "    case 2:\n",
       "        cursor = 'crosshair';\n",
       "        break;\n",
       "    case 3:\n",
       "        cursor = 'move';\n",
       "        break;\n",
       "    }\n",
       "    fig.rubberband_canvas.style.cursor = cursor;\n",
       "}\n",
       "\n",
       "mpl.figure.prototype.handle_message = function(fig, msg) {\n",
       "    fig.message.textContent = msg['message'];\n",
       "}\n",
       "\n",
       "mpl.figure.prototype.handle_draw = function(fig, msg) {\n",
       "    // Request the server to send over a new figure.\n",
       "    fig.send_draw_message();\n",
       "}\n",
       "\n",
       "mpl.figure.prototype.handle_image_mode = function(fig, msg) {\n",
       "    fig.image_mode = msg['mode'];\n",
       "}\n",
       "\n",
       "mpl.figure.prototype.updated_canvas_event = function() {\n",
       "    // Called whenever the canvas gets updated.\n",
       "    this.send_message(\"ack\", {});\n",
       "}\n",
       "\n",
       "// A function to construct a web socket function for onmessage handling.\n",
       "// Called in the figure constructor.\n",
       "mpl.figure.prototype._make_on_message_function = function(fig) {\n",
       "    return function socket_on_message(evt) {\n",
       "        if (evt.data instanceof Blob) {\n",
       "            /* FIXME: We get \"Resource interpreted as Image but\n",
       "             * transferred with MIME type text/plain:\" errors on\n",
       "             * Chrome.  But how to set the MIME type?  It doesn't seem\n",
       "             * to be part of the websocket stream */\n",
       "            evt.data.type = \"image/png\";\n",
       "\n",
       "            /* Free the memory for the previous frames */\n",
       "            if (fig.imageObj.src) {\n",
       "                (window.URL || window.webkitURL).revokeObjectURL(\n",
       "                    fig.imageObj.src);\n",
       "            }\n",
       "\n",
       "            fig.imageObj.src = (window.URL || window.webkitURL).createObjectURL(\n",
       "                evt.data);\n",
       "            fig.updated_canvas_event();\n",
       "            fig.waiting = false;\n",
       "            return;\n",
       "        }\n",
       "        else if (typeof evt.data === 'string' && evt.data.slice(0, 21) == \"data:image/png;base64\") {\n",
       "            fig.imageObj.src = evt.data;\n",
       "            fig.updated_canvas_event();\n",
       "            fig.waiting = false;\n",
       "            return;\n",
       "        }\n",
       "\n",
       "        var msg = JSON.parse(evt.data);\n",
       "        var msg_type = msg['type'];\n",
       "\n",
       "        // Call the  \"handle_{type}\" callback, which takes\n",
       "        // the figure and JSON message as its only arguments.\n",
       "        try {\n",
       "            var callback = fig[\"handle_\" + msg_type];\n",
       "        } catch (e) {\n",
       "            console.log(\"No handler for the '\" + msg_type + \"' message type: \", msg);\n",
       "            return;\n",
       "        }\n",
       "\n",
       "        if (callback) {\n",
       "            try {\n",
       "                // console.log(\"Handling '\" + msg_type + \"' message: \", msg);\n",
       "                callback(fig, msg);\n",
       "            } catch (e) {\n",
       "                console.log(\"Exception inside the 'handler_\" + msg_type + \"' callback:\", e, e.stack, msg);\n",
       "            }\n",
       "        }\n",
       "    };\n",
       "}\n",
       "\n",
       "// from http://stackoverflow.com/questions/1114465/getting-mouse-location-in-canvas\n",
       "mpl.findpos = function(e) {\n",
       "    //this section is from http://www.quirksmode.org/js/events_properties.html\n",
       "    var targ;\n",
       "    if (!e)\n",
       "        e = window.event;\n",
       "    if (e.target)\n",
       "        targ = e.target;\n",
       "    else if (e.srcElement)\n",
       "        targ = e.srcElement;\n",
       "    if (targ.nodeType == 3) // defeat Safari bug\n",
       "        targ = targ.parentNode;\n",
       "\n",
       "    // jQuery normalizes the pageX and pageY\n",
       "    // pageX,Y are the mouse positions relative to the document\n",
       "    // offset() returns the position of the element relative to the document\n",
       "    var x = e.pageX - $(targ).offset().left;\n",
       "    var y = e.pageY - $(targ).offset().top;\n",
       "\n",
       "    return {\"x\": x, \"y\": y};\n",
       "};\n",
       "\n",
       "/*\n",
       " * return a copy of an object with only non-object keys\n",
       " * we need this to avoid circular references\n",
       " * http://stackoverflow.com/a/24161582/3208463\n",
       " */\n",
       "function simpleKeys (original) {\n",
       "  return Object.keys(original).reduce(function (obj, key) {\n",
       "    if (typeof original[key] !== 'object')\n",
       "        obj[key] = original[key]\n",
       "    return obj;\n",
       "  }, {});\n",
       "}\n",
       "\n",
       "mpl.figure.prototype.mouse_event = function(event, name) {\n",
       "    var canvas_pos = mpl.findpos(event)\n",
       "\n",
       "    if (name === 'button_press')\n",
       "    {\n",
       "        this.canvas.focus();\n",
       "        this.canvas_div.focus();\n",
       "    }\n",
       "\n",
       "    var x = canvas_pos.x * mpl.ratio;\n",
       "    var y = canvas_pos.y * mpl.ratio;\n",
       "\n",
       "    this.send_message(name, {x: x, y: y, button: event.button,\n",
       "                             step: event.step,\n",
       "                             guiEvent: simpleKeys(event)});\n",
       "\n",
       "    /* This prevents the web browser from automatically changing to\n",
       "     * the text insertion cursor when the button is pressed.  We want\n",
       "     * to control all of the cursor setting manually through the\n",
       "     * 'cursor' event from matplotlib */\n",
       "    event.preventDefault();\n",
       "    return false;\n",
       "}\n",
       "\n",
       "mpl.figure.prototype._key_event_extra = function(event, name) {\n",
       "    // Handle any extra behaviour associated with a key event\n",
       "}\n",
       "\n",
       "mpl.figure.prototype.key_event = function(event, name) {\n",
       "\n",
       "    // Prevent repeat events\n",
       "    if (name == 'key_press')\n",
       "    {\n",
       "        if (event.which === this._key)\n",
       "            return;\n",
       "        else\n",
       "            this._key = event.which;\n",
       "    }\n",
       "    if (name == 'key_release')\n",
       "        this._key = null;\n",
       "\n",
       "    var value = '';\n",
       "    if (event.ctrlKey && event.which != 17)\n",
       "        value += \"ctrl+\";\n",
       "    if (event.altKey && event.which != 18)\n",
       "        value += \"alt+\";\n",
       "    if (event.shiftKey && event.which != 16)\n",
       "        value += \"shift+\";\n",
       "\n",
       "    value += 'k';\n",
       "    value += event.which.toString();\n",
       "\n",
       "    this._key_event_extra(event, name);\n",
       "\n",
       "    this.send_message(name, {key: value,\n",
       "                             guiEvent: simpleKeys(event)});\n",
       "    return false;\n",
       "}\n",
       "\n",
       "mpl.figure.prototype.toolbar_button_onclick = function(name) {\n",
       "    if (name == 'download') {\n",
       "        this.handle_save(this, null);\n",
       "    } else {\n",
       "        this.send_message(\"toolbar_button\", {name: name});\n",
       "    }\n",
       "};\n",
       "\n",
       "mpl.figure.prototype.toolbar_button_onmouseover = function(tooltip) {\n",
       "    this.message.textContent = tooltip;\n",
       "};\n",
       "mpl.toolbar_items = [[\"Home\", \"Reset original view\", \"fa fa-home icon-home\", \"home\"], [\"Back\", \"Back to previous view\", \"fa fa-arrow-left icon-arrow-left\", \"back\"], [\"Forward\", \"Forward to next view\", \"fa fa-arrow-right icon-arrow-right\", \"forward\"], [\"\", \"\", \"\", \"\"], [\"Pan\", \"Pan axes with left mouse, zoom with right\", \"fa fa-arrows icon-move\", \"pan\"], [\"Zoom\", \"Zoom to rectangle\", \"fa fa-square-o icon-check-empty\", \"zoom\"], [\"\", \"\", \"\", \"\"], [\"Download\", \"Download plot\", \"fa fa-floppy-o icon-save\", \"download\"]];\n",
       "\n",
       "mpl.extensions = [\"eps\", \"pdf\", \"png\", \"ps\", \"raw\", \"svg\"];\n",
       "\n",
       "mpl.default_extension = \"png\";var comm_websocket_adapter = function(comm) {\n",
       "    // Create a \"websocket\"-like object which calls the given IPython comm\n",
       "    // object with the appropriate methods. Currently this is a non binary\n",
       "    // socket, so there is still some room for performance tuning.\n",
       "    var ws = {};\n",
       "\n",
       "    ws.close = function() {\n",
       "        comm.close()\n",
       "    };\n",
       "    ws.send = function(m) {\n",
       "        //console.log('sending', m);\n",
       "        comm.send(m);\n",
       "    };\n",
       "    // Register the callback with on_msg.\n",
       "    comm.on_msg(function(msg) {\n",
       "        //console.log('receiving', msg['content']['data'], msg);\n",
       "        // Pass the mpl event to the overridden (by mpl) onmessage function.\n",
       "        ws.onmessage(msg['content']['data'])\n",
       "    });\n",
       "    return ws;\n",
       "}\n",
       "\n",
       "mpl.mpl_figure_comm = function(comm, msg) {\n",
       "    // This is the function which gets called when the mpl process\n",
       "    // starts-up an IPython Comm through the \"matplotlib\" channel.\n",
       "\n",
       "    var id = msg.content.data.id;\n",
       "    // Get hold of the div created by the display call when the Comm\n",
       "    // socket was opened in Python.\n",
       "    var element = $(\"#\" + id);\n",
       "    var ws_proxy = comm_websocket_adapter(comm)\n",
       "\n",
       "    function ondownload(figure, format) {\n",
       "        window.open(figure.imageObj.src);\n",
       "    }\n",
       "\n",
       "    var fig = new mpl.figure(id, ws_proxy,\n",
       "                           ondownload,\n",
       "                           element.get(0));\n",
       "\n",
       "    // Call onopen now - mpl needs it, as it is assuming we've passed it a real\n",
       "    // web socket which is closed, not our websocket->open comm proxy.\n",
       "    ws_proxy.onopen();\n",
       "\n",
       "    fig.parent_element = element.get(0);\n",
       "    fig.cell_info = mpl.find_output_cell(\"<div id='\" + id + \"'></div>\");\n",
       "    if (!fig.cell_info) {\n",
       "        console.error(\"Failed to find cell for figure\", id, fig);\n",
       "        return;\n",
       "    }\n",
       "\n",
       "    var output_index = fig.cell_info[2]\n",
       "    var cell = fig.cell_info[0];\n",
       "\n",
       "};\n",
       "\n",
       "mpl.figure.prototype.handle_close = function(fig, msg) {\n",
       "    var width = fig.canvas.width/mpl.ratio\n",
       "    fig.root.unbind('remove')\n",
       "\n",
       "    // Update the output cell to use the data from the current canvas.\n",
       "    fig.push_to_output();\n",
       "    var dataURL = fig.canvas.toDataURL();\n",
       "    // Re-enable the keyboard manager in IPython - without this line, in FF,\n",
       "    // the notebook keyboard shortcuts fail.\n",
       "    IPython.keyboard_manager.enable()\n",
       "    $(fig.parent_element).html('<img src=\"' + dataURL + '\" width=\"' + width + '\">');\n",
       "    fig.close_ws(fig, msg);\n",
       "}\n",
       "\n",
       "mpl.figure.prototype.close_ws = function(fig, msg){\n",
       "    fig.send_message('closing', msg);\n",
       "    // fig.ws.close()\n",
       "}\n",
       "\n",
       "mpl.figure.prototype.push_to_output = function(remove_interactive) {\n",
       "    // Turn the data on the canvas into data in the output cell.\n",
       "    var width = this.canvas.width/mpl.ratio\n",
       "    var dataURL = this.canvas.toDataURL();\n",
       "    this.cell_info[1]['text/html'] = '<img src=\"' + dataURL + '\" width=\"' + width + '\">';\n",
       "}\n",
       "\n",
       "mpl.figure.prototype.updated_canvas_event = function() {\n",
       "    // Tell IPython that the notebook contents must change.\n",
       "    IPython.notebook.set_dirty(true);\n",
       "    this.send_message(\"ack\", {});\n",
       "    var fig = this;\n",
       "    // Wait a second, then push the new image to the DOM so\n",
       "    // that it is saved nicely (might be nice to debounce this).\n",
       "    setTimeout(function () { fig.push_to_output() }, 1000);\n",
       "}\n",
       "\n",
       "mpl.figure.prototype._init_toolbar = function() {\n",
       "    var fig = this;\n",
       "\n",
       "    var nav_element = $('<div/>');\n",
       "    nav_element.attr('style', 'width: 100%');\n",
       "    this.root.append(nav_element);\n",
       "\n",
       "    // Define a callback function for later on.\n",
       "    function toolbar_event(event) {\n",
       "        return fig.toolbar_button_onclick(event['data']);\n",
       "    }\n",
       "    function toolbar_mouse_event(event) {\n",
       "        return fig.toolbar_button_onmouseover(event['data']);\n",
       "    }\n",
       "\n",
       "    for(var toolbar_ind in mpl.toolbar_items){\n",
       "        var name = mpl.toolbar_items[toolbar_ind][0];\n",
       "        var tooltip = mpl.toolbar_items[toolbar_ind][1];\n",
       "        var image = mpl.toolbar_items[toolbar_ind][2];\n",
       "        var method_name = mpl.toolbar_items[toolbar_ind][3];\n",
       "\n",
       "        if (!name) { continue; };\n",
       "\n",
       "        var button = $('<button class=\"btn btn-default\" href=\"#\" title=\"' + name + '\"><i class=\"fa ' + image + ' fa-lg\"></i></button>');\n",
       "        button.click(method_name, toolbar_event);\n",
       "        button.mouseover(tooltip, toolbar_mouse_event);\n",
       "        nav_element.append(button);\n",
       "    }\n",
       "\n",
       "    // Add the status bar.\n",
       "    var status_bar = $('<span class=\"mpl-message\" style=\"text-align:right; float: right;\"/>');\n",
       "    nav_element.append(status_bar);\n",
       "    this.message = status_bar[0];\n",
       "\n",
       "    // Add the close button to the window.\n",
       "    var buttongrp = $('<div class=\"btn-group inline pull-right\"></div>');\n",
       "    var button = $('<button class=\"btn btn-mini btn-primary\" href=\"#\" title=\"Stop Interaction\"><i class=\"fa fa-power-off icon-remove icon-large\"></i></button>');\n",
       "    button.click(function (evt) { fig.handle_close(fig, {}); } );\n",
       "    button.mouseover('Stop Interaction', toolbar_mouse_event);\n",
       "    buttongrp.append(button);\n",
       "    var titlebar = this.root.find($('.ui-dialog-titlebar'));\n",
       "    titlebar.prepend(buttongrp);\n",
       "}\n",
       "\n",
       "mpl.figure.prototype._root_extra_style = function(el){\n",
       "    var fig = this\n",
       "    el.on(\"remove\", function(){\n",
       "\tfig.close_ws(fig, {});\n",
       "    });\n",
       "}\n",
       "\n",
       "mpl.figure.prototype._canvas_extra_style = function(el){\n",
       "    // this is important to make the div 'focusable\n",
       "    el.attr('tabindex', 0)\n",
       "    // reach out to IPython and tell the keyboard manager to turn it's self\n",
       "    // off when our div gets focus\n",
       "\n",
       "    // location in version 3\n",
       "    if (IPython.notebook.keyboard_manager) {\n",
       "        IPython.notebook.keyboard_manager.register_events(el);\n",
       "    }\n",
       "    else {\n",
       "        // location in version 2\n",
       "        IPython.keyboard_manager.register_events(el);\n",
       "    }\n",
       "\n",
       "}\n",
       "\n",
       "mpl.figure.prototype._key_event_extra = function(event, name) {\n",
       "    var manager = IPython.notebook.keyboard_manager;\n",
       "    if (!manager)\n",
       "        manager = IPython.keyboard_manager;\n",
       "\n",
       "    // Check for shift+enter\n",
       "    if (event.shiftKey && event.which == 13) {\n",
       "        this.canvas_div.blur();\n",
       "        // select the cell after this one\n",
       "        var index = IPython.notebook.find_cell_index(this.cell_info[0]);\n",
       "        IPython.notebook.select(index + 1);\n",
       "    }\n",
       "}\n",
       "\n",
       "mpl.figure.prototype.handle_save = function(fig, msg) {\n",
       "    fig.ondownload(fig, null);\n",
       "}\n",
       "\n",
       "\n",
       "mpl.find_output_cell = function(html_output) {\n",
       "    // Return the cell and output element which can be found *uniquely* in the notebook.\n",
       "    // Note - this is a bit hacky, but it is done because the \"notebook_saving.Notebook\"\n",
       "    // IPython event is triggered only after the cells have been serialised, which for\n",
       "    // our purposes (turning an active figure into a static one), is too late.\n",
       "    var cells = IPython.notebook.get_cells();\n",
       "    var ncells = cells.length;\n",
       "    for (var i=0; i<ncells; i++) {\n",
       "        var cell = cells[i];\n",
       "        if (cell.cell_type === 'code'){\n",
       "            for (var j=0; j<cell.output_area.outputs.length; j++) {\n",
       "                var data = cell.output_area.outputs[j];\n",
       "                if (data.data) {\n",
       "                    // IPython >= 3 moved mimebundle to data attribute of output\n",
       "                    data = data.data;\n",
       "                }\n",
       "                if (data['text/html'] == html_output) {\n",
       "                    return [cell, data, j];\n",
       "                }\n",
       "            }\n",
       "        }\n",
       "    }\n",
       "}\n",
       "\n",
       "// Register the function which deals with the matplotlib target/channel.\n",
       "// The kernel may be null if the page has been refreshed.\n",
       "if (IPython.notebook.kernel != null) {\n",
       "    IPython.notebook.kernel.comm_manager.register_target('matplotlib', mpl.mpl_figure_comm);\n",
       "}\n"
      ],
      "text/plain": [
       "<IPython.core.display.Javascript object>"
      ]
     },
     "metadata": {},
     "output_type": "display_data"
    },
    {
     "data": {
      "text/html": [
       "<img src=\"data:image/png;base64,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\" width=\"640\">"
      ],
      "text/plain": [
       "<IPython.core.display.HTML object>"
      ]
     },
     "metadata": {},
     "output_type": "display_data"
    },
    {
     "data": {
      "text/plain": [
       "<matplotlib.lines.Line2D at 0x7f8b98285e90>"
      ]
     },
     "execution_count": 28,
     "metadata": {},
     "output_type": "execute_result"
    }
   ],
   "source": [
    "%matplotlib notebook\n",
    "plt.spy(M.diags(), markersize=0.5)"
   ]
  },
  {
   "cell_type": "markdown",
   "metadata": {
    "slideshow": {
     "slide_type": "subslide"
    }
   },
   "source": [
    "# Block matrix\n",
    "\n",
    "$$\n",
    "M =\n",
    "  \\begin{bmatrix}\n",
    "      A[0]+A[1] & 0 & G[0] \\\\\n",
    "      0 & A[2]+A[3] & G[1] \\\\ \n",
    "      D[0] & D[1] & 0\n",
    "  \\end{bmatrix}\n",
    "$$\n",
    "\n",
    "where $D = G^T$ for the Legendre basis, making $M$ symmetric. For Chebyshev $M$ will not be symmetric.\n",
    "\n",
    "Solver through [scipy.sparse.linalg](https://docs.scipy.org/doc/scipy/reference/sparse.linalg.html)\n",
    "\n",
    "For Navier-Stokes of the lid-driven cavity, see https://github.com/spectralDNS/shenfun/blob/master/demo/NavierStokesDrivenCavity.py"
   ]
  },
  {
   "cell_type": "markdown",
   "metadata": {
    "slideshow": {
     "slide_type": "slide"
    }
   },
   "source": [
    "<center>\n",
    "    \n",
    "# Thank you for your time😃\n",
    "\n",
    "<img src=\"https://rawcdn.githack.com/spectralDNS/spectralutilities/473129742f0b5f8d57e8c647809272c0ced99a45/movies/RB_200k_small.png\" style=\"float:left\" width=\"300\">\n",
    "\n",
    "<img src=\"https://cdn.jsdelivr.net/gh/spectralDNS/spectralutilities@master/movies/Re2000_5.gif\" width=\"400\" height=\"133\" style=\"float:right\" alt=\"Channel flow\"/>\n",
    "<p style=\"clear: both;\">\n",
    "\n",
    "<img src=\"https://rawcdn.githack.com/spectralDNS/spectralutilities/473129742f0b5f8d57e8c647809272c0ced99a45/movies/isotropic_cropped.gif\" style=\"float:left\" width=\"250\">\n",
    "\n",
    "<img src=\"https://cdn.jsdelivr.net/gh/spectralDNS/spectralutilities@master/movies/KHmovie_3.gif\" width=\"400\" height=\"200\" style=\"float:right\" alt=\"Kelvin Helmholtz instability\"/>\n",
    "\n",
    "<p style=\"clear: both;\">\n"
   ]
  }
 ],
 "metadata": {
  "kernelspec": {
   "display_name": "Python 3",
   "language": "python",
   "name": "python3"
  },
  "language_info": {
   "codemirror_mode": {
    "name": "ipython",
    "version": 3
   },
   "file_extension": ".py",
   "mimetype": "text/x-python",
   "name": "python",
   "nbconvert_exporter": "python",
   "pygments_lexer": "ipython3",
   "version": "3.7.6"
  },
  "toc": {
   "base_numbering": 1,
   "nav_menu": {},
   "number_sections": false,
   "sideBar": true,
   "skip_h1_title": false,
   "title_cell": "Table of Contents",
   "title_sidebar": "Contents",
   "toc_cell": false,
   "toc_position": {},
   "toc_section_display": true,
   "toc_window_display": false
  }
 },
 "nbformat": 4,
 "nbformat_minor": 2
}
