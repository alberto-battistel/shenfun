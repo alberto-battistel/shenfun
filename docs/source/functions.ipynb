{
 "cells": [
  {
   "cell_type": "markdown",
   "metadata": {},
   "source": [
    "<!-- dom:TITLE: Demo - Working with Functions -->\n",
    "# Demo - Working with Functions\n",
    "<!-- dom:AUTHOR: Mikael Mortensen Email:mikaem@math.uio.no at Department of Mathematics, University of Oslo. -->\n",
    "<!-- Author: -->  \n",
    "**Mikael Mortensen** (email: `mikaem@math.uio.no`), Department of Mathematics, University of Oslo.\n",
    "\n",
    "Date: **Aug 7, 2020**\n",
    "\n",
    "Copyright 2020, Mikael Mortensen. Released under CC Attribution 4.0 license\n",
    "\n",
    "**Summary.** This is a demonstration of how the Python module [shenfun](https://github.com/spectralDNS/shenfun) can be used to work with\n",
    "global spectral functions in one and several dimensions.\n",
    "\n",
    "\n",
    "\n",
    "\n",
    "\n",
    "\n",
    "\n",
    "\n",
    "\n",
    "\n",
    "\n",
    "## Construction\n",
    "\n",
    "A global spectral function $u(x)$ is represented on a one-dimensional\n",
    "domain (a line) as"
   ]
  },
  {
   "cell_type": "markdown",
   "metadata": {},
   "source": [
    "$$\n",
    "u(x) = \\sum_{k=0}^{N-1} \\hat{u}_k \\psi_k(x)\n",
    "$$"
   ]
  },
  {
   "cell_type": "markdown",
   "metadata": {},
   "source": [
    "where $\\psi_k(x)$ is the $k$'th basis function and $x$ is a\n",
    "position inside the domain. $\\{\\hat{u}_k\\}_{k=0}^{N-1}$ are the\n",
    "expansion coefficient for the series, and often referred to as the\n",
    "degrees of freedom. There is one degree of freedom per basis function.\n",
    "We can use any number of basis functions,\n",
    "and the span of the chosen basis is then a function space. Also part of the\n",
    "function space is the domain, which is\n",
    "specified when a function space is created. To create a function space\n",
    "$T=\\text{span}\\{T_k\\}_{k=0}^{N-1}$ for\n",
    "the first N Chebyshev polynomials of the first kind on the default domain $[-1, 1]$,\n",
    "do"
   ]
  },
  {
   "cell_type": "code",
   "execution_count": 1,
   "metadata": {
    "collapsed": false
   },
   "outputs": [],
   "source": [
    "from shenfun import *\n",
    "N = 8\n",
    "T = FunctionSpace(N, 'Chebyshev', domain=(-1, 1))"
   ]
  },
  {
   "cell_type": "markdown",
   "metadata": {},
   "source": [
    "The function $u(x)$ can now be created with all N coefficients\n",
    "equal to zero as"
   ]
  },
  {
   "cell_type": "code",
   "execution_count": 2,
   "metadata": {
    "collapsed": false
   },
   "outputs": [],
   "source": [
    "u = Function(T)"
   ]
  },
  {
   "cell_type": "markdown",
   "metadata": {},
   "source": [
    "When using Chebyshev polynomials the computational domain is always\n",
    "$[-1, 1]$. However, we can still use a different physical domain,\n",
    "like"
   ]
  },
  {
   "cell_type": "code",
   "execution_count": 3,
   "metadata": {
    "collapsed": false
   },
   "outputs": [],
   "source": [
    "T = FunctionSpace(N, 'Chebyshev', domain=(0, 1))"
   ]
  },
  {
   "cell_type": "markdown",
   "metadata": {},
   "source": [
    "and under the hood shenfun will then map this domain to the reference\n",
    "domain through"
   ]
  },
  {
   "cell_type": "markdown",
   "metadata": {},
   "source": [
    "$$\n",
    "u(x) = \\sum_{k=0}^{N-1} \\hat{u}_k \\psi_k(2(x-0.5))\n",
    "$$"
   ]
  },
  {
   "cell_type": "markdown",
   "metadata": {},
   "source": [
    "## Approximating analytical functions\n",
    "\n",
    "The `u` function above was created with only zero\n",
    "valued coefficients, which is the default. Alternatively,\n",
    "a `Function` may be initialized using a constant\n",
    "value"
   ]
  },
  {
   "cell_type": "code",
   "execution_count": 4,
   "metadata": {
    "collapsed": false
   },
   "outputs": [],
   "source": [
    "T = FunctionSpace(N, 'Chebyshev', domain=(-1, 1))\n",
    "u = Function(T, val=1)"
   ]
  },
  {
   "cell_type": "markdown",
   "metadata": {},
   "source": [
    "but that is not very useful. A third method to initialize\n",
    "a `Function` is to interpolate using an analytical\n",
    "Sympy function."
   ]
  },
  {
   "cell_type": "code",
   "execution_count": 5,
   "metadata": {
    "collapsed": false
   },
   "outputs": [
    {
     "name": "stdout",
     "output_type": "stream",
     "text": [
      "[-6.93889390e-17 -5.47405982e-17 -1.82237827e-18  1.00000000e+00\n",
      "  1.96261557e-17 -3.33066907e-16  1.49457239e-16 -2.93881977e-16]\n"
     ]
    }
   ],
   "source": [
    "import sympy as sp\n",
    "x = sp.Symbol('x', real=True)\n",
    "u = Function(T, buffer=4*x**3-3*x)\n",
    "print(u)"
   ]
  },
  {
   "cell_type": "markdown",
   "metadata": {},
   "source": [
    "Here the analytical Sympy function will first be evaluated\n",
    "on the entire quadrature mesh of the `T` function space,\n",
    "and then forward transformed to get the coefficients. This\n",
    "corresponds to a projection to `T`. The projection is\n",
    "\n",
    "Find $u_h \\in T$, such that"
   ]
  },
  {
   "cell_type": "markdown",
   "metadata": {},
   "source": [
    "$$\n",
    "(u_h - u, v)_w = 0 \\quad \\forall v \\in T,\n",
    "$$"
   ]
  },
  {
   "cell_type": "markdown",
   "metadata": {},
   "source": [
    "where $v \\in \\{T_j\\}_{j=0}^{N-1}$ is a test function,\n",
    "$u_h=\\sum_{k=0}^{N-1} \\hat{u}_k T_k$ is a trial function and the\n",
    "notation $(\\cdot, \\cdot)_w$ represents a weighted inner product.\n",
    "In this projection $u_h$ is the `Function`, $u$ is the sympy function and we use sympy\n",
    "to exactly evaluate $u$ on all quadrature points\n",
    "$\\{x_j\\}_{j=0}^{N-1}$. With quadrature we then have"
   ]
  },
  {
   "cell_type": "markdown",
   "metadata": {},
   "source": [
    "$$\n",
    "(u, v)_w = \\sum_{j\\in\\mathcal{I}^N} u(x_j) v(x_j) w_j \\forall v \\in T,\n",
    "$$"
   ]
  },
  {
   "cell_type": "markdown",
   "metadata": {},
   "source": [
    "where $\\mathcal{I}^N = (0, 1, \\ldots, N-1)$ and $\\{w_j\\}_{j\\in \\mathcal{I}^N}$\n",
    "are the quadrature weights. The left hand side of the projection is"
   ]
  },
  {
   "cell_type": "markdown",
   "metadata": {},
   "source": [
    "$$\n",
    "(u_h, v)_w = \\sum_{j\\in\\mathcal{I}^N} u_h(x_j) v(x_j) w_j \\forall v \\in T.\n",
    "$$"
   ]
  },
  {
   "cell_type": "markdown",
   "metadata": {},
   "source": [
    "A linear system of equations arise when inserting for the\n",
    "basis functions"
   ]
  },
  {
   "cell_type": "markdown",
   "metadata": {},
   "source": [
    "$$\n",
    "\\left(u, T_i\\right)_w = \\tilde{u}_i \\forall i \\in \\mathcal{I}^N,\n",
    "$$"
   ]
  },
  {
   "cell_type": "markdown",
   "metadata": {},
   "source": [
    "and"
   ]
  },
  {
   "cell_type": "markdown",
   "metadata": {},
   "source": [
    "$$\n",
    "\\begin{align*}\n",
    "\\left(u_h, T_i \\right)_w &= (\\sum_{k\\in \\mathcal{I}^N} \\hat{u}_k T_k , T_i)_w \\\\ \n",
    "  &= \\sum_{k\\in \\mathcal{I}^N} \\left( T_k, T_i\\right)_w \\hat{u}_k\n",
    "\\end{align*}\n",
    "$$"
   ]
  },
  {
   "cell_type": "markdown",
   "metadata": {},
   "source": [
    "with the mass matrix"
   ]
  },
  {
   "cell_type": "markdown",
   "metadata": {},
   "source": [
    "$$\n",
    "a_{ik} = \\left( T_k, T_i\\right)_w   \\forall (i, k) \\in \\mathcal{I}^N \\times \\mathcal{I}^N,\n",
    "$$"
   ]
  },
  {
   "cell_type": "markdown",
   "metadata": {},
   "source": [
    "we can now solve to get the unknown\n",
    "expansion coefficients. In matrix notation"
   ]
  },
  {
   "cell_type": "markdown",
   "metadata": {},
   "source": [
    "$$\n",
    "\\hat{u} = A^{-1} \\tilde{u},\n",
    "$$"
   ]
  },
  {
   "cell_type": "markdown",
   "metadata": {},
   "source": [
    "where $\\hat{u}=\\{\\hat{u}_i\\}_{i\\in \\mathcal{I}^N}$,\n",
    "$\\tilde{u}=\\{\\tilde{u}_i\\}_{i \\in \\mathcal{I}^N}$ and\n",
    "$A=\\{a_{ki}\\}_{(i,k) \\in \\mathcal{I}^N \\times \\mathcal{I}^N}$\n",
    "\n",
    "## Adaptive function size\n",
    "\n",
    "The number of basis functions can also be left open during creation\n",
    "of the function space, through"
   ]
  },
  {
   "cell_type": "code",
   "execution_count": 6,
   "metadata": {
    "collapsed": false
   },
   "outputs": [],
   "source": [
    "T = FunctionSpace(0, 'Chebyshev', domain=(-1, 1))"
   ]
  },
  {
   "cell_type": "markdown",
   "metadata": {},
   "source": [
    "This is useful if you want to approximate a function and\n",
    "are uncertain how many basis functions that are required.\n",
    "For example, you may want to approximate the function $\\cos(20 x)$.\n",
    "You can then find the required `Function` using"
   ]
  },
  {
   "cell_type": "code",
   "execution_count": 7,
   "metadata": {
    "collapsed": false
   },
   "outputs": [
    {
     "name": "stdout",
     "output_type": "stream",
     "text": [
      "45\n"
     ]
    }
   ],
   "source": [
    "u = Function(T, buffer=sp.cos(20*x))\n",
    "print(len(u))"
   ]
  },
  {
   "cell_type": "markdown",
   "metadata": {},
   "source": [
    "We see that $N=45$ is required to resolve this function. This agrees\n",
    "well with what is reported also by [Chebfun](https://www.chebfun.org/docs/guide/guide01.html).\n",
    "Note that in this process a new `FunctionSpace` has been\n",
    "created under the hood. The function space of `u` can be\n",
    "extracted using"
   ]
  },
  {
   "cell_type": "code",
   "execution_count": 8,
   "metadata": {
    "collapsed": false
   },
   "outputs": [
    {
     "name": "stdout",
     "output_type": "stream",
     "text": [
      "45\n"
     ]
    }
   ],
   "source": [
    "Tu = u.function_space()\n",
    "print(Tu.N)"
   ]
  },
  {
   "cell_type": "markdown",
   "metadata": {},
   "source": [
    "To further show that shenfun is compatible with Chebfun we can also\n",
    "approximate the Bessel function"
   ]
  },
  {
   "cell_type": "code",
   "execution_count": 9,
   "metadata": {
    "collapsed": false
   },
   "outputs": [
    {
     "name": "stdout",
     "output_type": "stream",
     "text": [
      "83\n"
     ]
    }
   ],
   "source": [
    "T1 = FunctionSpace(0, 'Chebyshev', domain=(0, 100))\n",
    "u = Function(T1, buffer=sp.besselj(0, x))\n",
    "print(len(u))"
   ]
  },
  {
   "cell_type": "markdown",
   "metadata": {},
   "source": [
    "which gives 83 basis functions, in close agreement with Chebfun (89).\n",
    "The difference lies only in the cut-off criteria. We cut frequencies\n",
    "with a relative tolerance of 1e-12 by default, but if we make this criteria\n",
    "a little bit stronger, then we will also arrive at a slightly higher number:"
   ]
  },
  {
   "cell_type": "code",
   "execution_count": 10,
   "metadata": {
    "collapsed": false
   },
   "outputs": [
    {
     "name": "stdout",
     "output_type": "stream",
     "text": [
      "87\n"
     ]
    }
   ],
   "source": [
    "u = Function(T1, buffer=sp.besselj(0, x), reltol=1e-14)\n",
    "print(len(u))"
   ]
  },
  {
   "cell_type": "markdown",
   "metadata": {},
   "source": [
    "Plotting the function on its quadrature points looks\n",
    "a bit ragged, though:"
   ]
  },
  {
   "cell_type": "code",
   "execution_count": 11,
   "metadata": {
    "collapsed": false
   },
   "outputs": [
    {
     "data": {
      "text/plain": [
       "[<matplotlib.lines.Line2D at 0x7fce1953cc90>]"
      ]
     },
     "execution_count": 11,
     "metadata": {},
     "output_type": "execute_result"
    },
    {
     "data": {
      "image/png": "[encoded data removed]",
      "text/plain": [
       "<Figure size 432x288 with 1 Axes>"
      ]
     },
     "metadata": {
      "needs_background": "light"
     },
     "output_type": "display_data"
    }
   ],
   "source": [
    "%matplotlib inline\n",
    "\n",
    "import matplotlib.pyplot as plt\n",
    "Tu = u.function_space()\n",
    "plt.plot(Tu.mesh(), u.backward())"
   ]
  },
  {
   "cell_type": "markdown",
   "metadata": {},
   "source": [
    "To improve the quality of this plot we can instead evaluate the\n",
    "function on more points"
   ]
  },
  {
   "cell_type": "code",
   "execution_count": 12,
   "metadata": {
    "collapsed": false
   },
   "outputs": [
    {
     "data": {
      "text/plain": [
       "[<matplotlib.lines.Line2D at 0x7fcde898d610>]"
      ]
     },
     "execution_count": 12,
     "metadata": {},
     "output_type": "execute_result"
    },
    {
     "data": {
      "image/png": "[encoded data removed]",
      "text/plain": [
       "<Figure size 432x288 with 1 Axes>"
      ]
     },
     "metadata": {
      "needs_background": "light"
     },
     "output_type": "display_data"
    }
   ],
   "source": [
    "xj = np.linspace(0, 100, 1000)\n",
    "plt.plot(xj, u(xj))"
   ]
  },
  {
   "cell_type": "markdown",
   "metadata": {},
   "source": [
    "Alternatively, we can refine the function, which simply\n",
    "pads zeros to $\\hat{u}$"
   ]
  },
  {
   "cell_type": "code",
   "execution_count": 13,
   "metadata": {
    "collapsed": false
   },
   "outputs": [
    {
     "data": {
      "text/plain": [
       "[<matplotlib.lines.Line2D at 0x7fcdc8c01d50>]"
      ]
     },
     "execution_count": 13,
     "metadata": {},
     "output_type": "execute_result"
    },
    {
     "data": {
      "image/png": "[encoded data removed]",
      "text/plain": [
       "<Figure size 432x288 with 1 Axes>"
      ]
     },
     "metadata": {
      "needs_background": "light"
     },
     "output_type": "display_data"
    }
   ],
   "source": [
    "up = u.refine(200)\n",
    "Tp = up.function_space()\n",
    "plt.plot(Tp.mesh(), up.backward())"
   ]
  },
  {
   "cell_type": "markdown",
   "metadata": {},
   "source": [
    "The padded expansion coefficients are now given as"
   ]
  },
  {
   "cell_type": "code",
   "execution_count": 14,
   "metadata": {
    "collapsed": false
   },
   "outputs": [
    {
     "name": "stdout",
     "output_type": "stream",
     "text": [
      "[ 6.43655435e-02 -1.37262942e-01  1.26593632e-01 -1.31630372e-01\n",
      "  1.19810309e-01 -1.19499576e-01  1.07387826e-01 -9.95196201e-02\n",
      "  8.81197795e-02 -7.07299943e-02  6.13974837e-02 -3.40222966e-02\n",
      "  2.84578300e-02  6.05886310e-03 -6.23468323e-03  4.01956708e-02\n",
      " -3.44202241e-02  5.58353154e-02 -4.58848577e-02  4.33923041e-02\n",
      " -3.39778387e-02  6.26445963e-03 -3.37831264e-03 -3.27304442e-02\n",
      "  2.63630973e-02 -4.12313235e-02  3.07429560e-02 -7.73458857e-03\n",
      "  4.10441868e-03  3.29922472e-02 -2.47812478e-02  2.71654360e-02\n",
      " -1.81421444e-02 -2.02112290e-02  1.53660102e-02 -3.02943723e-02\n",
      "  1.97324599e-02  1.94051084e-02 -1.41460820e-02  2.47321146e-02\n",
      " -1.49668436e-02 -3.02763148e-02  1.98156190e-02 -2.08517347e-03\n",
      " -6.91643640e-05  3.13799203e-02 -1.81924272e-02 -3.77110141e-02\n",
      "  2.23051599e-02  2.82766986e-02 -1.67226896e-02 -1.59965877e-02\n",
      "  9.40673776e-03  7.34392211e-03 -4.28398348e-03 -2.84497604e-03\n",
      "  1.64428109e-03  9.53197714e-04 -5.45450869e-04 -2.80998822e-04\n",
      "  1.59136941e-04  7.38240716e-05 -4.13664358e-05 -1.74579288e-05\n",
      "  9.67744748e-06  3.74610168e-06 -2.05413769e-06 -7.34256601e-07\n",
      "  3.98257402e-07  1.32202237e-07 -7.09282453e-08 -2.19709845e-08\n",
      "  1.16601214e-08  3.38459230e-09 -1.77684428e-09 -4.85085285e-10\n",
      "  2.51925667e-10  6.48958256e-11 -3.33432158e-11 -8.12799381e-12\n",
      "  4.13195149e-12  9.55498771e-13 -4.80687010e-13 -1.05592419e-13\n",
      "  5.24752655e-14  1.10454430e-14 -6.02774535e-15  0.00000000e+00\n",
      "  0.00000000e+00  0.00000000e+00  0.00000000e+00  0.00000000e+00\n",
      "  0.00000000e+00  0.00000000e+00  0.00000000e+00  0.00000000e+00\n",
      "  0.00000000e+00  0.00000000e+00  0.00000000e+00  0.00000000e+00\n",
      "  0.00000000e+00  0.00000000e+00  0.00000000e+00  0.00000000e+00\n",
      "  0.00000000e+00  0.00000000e+00  0.00000000e+00  0.00000000e+00\n",
      "  0.00000000e+00  0.00000000e+00  0.00000000e+00  0.00000000e+00\n",
      "  0.00000000e+00  0.00000000e+00  0.00000000e+00  0.00000000e+00\n",
      "  0.00000000e+00  0.00000000e+00  0.00000000e+00  0.00000000e+00\n",
      "  0.00000000e+00  0.00000000e+00  0.00000000e+00  0.00000000e+00\n",
      "  0.00000000e+00  0.00000000e+00  0.00000000e+00  0.00000000e+00\n",
      "  0.00000000e+00  0.00000000e+00  0.00000000e+00  0.00000000e+00\n",
      "  0.00000000e+00  0.00000000e+00  0.00000000e+00  0.00000000e+00\n",
      "  0.00000000e+00  0.00000000e+00  0.00000000e+00  0.00000000e+00\n",
      "  0.00000000e+00  0.00000000e+00  0.00000000e+00  0.00000000e+00\n",
      "  0.00000000e+00  0.00000000e+00  0.00000000e+00  0.00000000e+00\n",
      "  0.00000000e+00  0.00000000e+00  0.00000000e+00  0.00000000e+00\n",
      "  0.00000000e+00  0.00000000e+00  0.00000000e+00  0.00000000e+00\n",
      "  0.00000000e+00  0.00000000e+00  0.00000000e+00  0.00000000e+00\n",
      "  0.00000000e+00  0.00000000e+00  0.00000000e+00  0.00000000e+00\n",
      "  0.00000000e+00  0.00000000e+00  0.00000000e+00  0.00000000e+00\n",
      "  0.00000000e+00  0.00000000e+00  0.00000000e+00  0.00000000e+00\n",
      "  0.00000000e+00  0.00000000e+00  0.00000000e+00  0.00000000e+00\n",
      "  0.00000000e+00  0.00000000e+00  0.00000000e+00  0.00000000e+00\n",
      "  0.00000000e+00  0.00000000e+00  0.00000000e+00  0.00000000e+00\n",
      "  0.00000000e+00  0.00000000e+00  0.00000000e+00  0.00000000e+00\n",
      "  0.00000000e+00  0.00000000e+00  0.00000000e+00  0.00000000e+00\n",
      "  0.00000000e+00  0.00000000e+00  0.00000000e+00  0.00000000e+00\n",
      "  0.00000000e+00  0.00000000e+00  0.00000000e+00  0.00000000e+00]\n"
     ]
    }
   ],
   "source": [
    "print(up)"
   ]
  },
  {
   "cell_type": "markdown",
   "metadata": {},
   "source": [
    "## More features\n",
    "\n",
    "Since we have used a regular Chebyshev basis above, there\n",
    "are many more features that could be explored simply by going through\n",
    "[Numpy's Chebyshev module](https://numpy.org/doc/stable/reference/routines.polynomials.chebyshev.html).\n",
    "For example, we can create a Chebyshev series like"
   ]
  },
  {
   "cell_type": "code",
   "execution_count": 15,
   "metadata": {
    "collapsed": false
   },
   "outputs": [],
   "source": [
    "import numpy.polynomial.chebyshev as cheb\n",
    "c = cheb.Chebyshev(u, domain=(0, 100))"
   ]
  },
  {
   "cell_type": "markdown",
   "metadata": {},
   "source": [
    "The Chebyshev series in Numpy has a wide range of possibilities,\n",
    "see [here](https://numpy.org/doc/stable/reference/generated/numpy.polynomial.chebyshev.Chebyshev.html#numpy.polynomial.chebyshev.Chebyshev).\n",
    "However, we may also work directly with the Chebyshev\n",
    "coefficients already in `u`. To find the roots of the\n",
    "polynomial that approximates the Bessel function on\n",
    "domain $[0, 100]$, we can do"
   ]
  },
  {
   "cell_type": "code",
   "execution_count": 16,
   "metadata": {
    "collapsed": false
   },
   "outputs": [],
   "source": [
    "z = Tu.map_true_domain(cheb.chebroots(u))"
   ]
  },
  {
   "cell_type": "markdown",
   "metadata": {},
   "source": [
    "Note that the roots are found on the reference domain $[-1, 1]$\n",
    "and as such we need to move the result to the physical domain using\n",
    "`map_true_domain`. The resulting roots `z` are both real and imaginary,\n",
    "so to extract the real roots we need to filter a little bit"
   ]
  },
  {
   "cell_type": "code",
   "execution_count": 17,
   "metadata": {
    "collapsed": false
   },
   "outputs": [
    {
     "name": "stdout",
     "output_type": "stream",
     "text": [
      "[ 2.40482556  5.52007811  8.65372791 11.79153444 14.93091771]\n"
     ]
    }
   ],
   "source": [
    "z2 = z[np.where((z.imag == 0)*(z.real > 0)*(z.real < 100))].real\n",
    "print(z2[:5])"
   ]
  },
  {
   "cell_type": "markdown",
   "metadata": {},
   "source": [
    "Here `np.where` returns the indices where the condition is true. The condition\n",
    "is that the imaginary part is zero, whereas the real part is within the\n",
    "true domain $[0, 100]$.\n",
    "\n",
    "**Notice.**\n",
    "\n",
    "Using directly `cheb.chebroots(c)` does not seem to work (even though the\n",
    "series has been generated with the non-standard domain) because\n",
    "Numpy only looks for roots in the reference domain $[-1, 1]$.\n",
    "\n",
    "\n",
    "\n",
    "We could also use a function space with boundary conditions built\n",
    "in, like"
   ]
  },
  {
   "cell_type": "code",
   "execution_count": 18,
   "metadata": {
    "collapsed": false
   },
   "outputs": [
    {
     "name": "stdout",
     "output_type": "stream",
     "text": [
      "82\n"
     ]
    }
   ],
   "source": [
    "Td = FunctionSpace(0, 'C', bc=(sp.besselj(0, 0), sp.besselj(0, 100)), domain=(0, 100))\n",
    "ud = Function(Td, buffer=sp.besselj(0, x))\n",
    "print(len(ud))"
   ]
  },
  {
   "cell_type": "markdown",
   "metadata": {},
   "source": [
    "As we can see this also leads to a function space of dimension 83,\n",
    "which is very similar to the orthogonal space.\n",
    "\n",
    "The major advantages of working with a space with boundary conditions\n",
    "built in only comes to life when solving differential equations. As\n",
    "long as we are only interested in approximating functions, we may just\n",
    "as well stick to the orthogonal spaces. This goes for Legendre as\n",
    "well as Chebyshev.\n",
    "\n",
    "## Multidimensional functions\n",
    "\n",
    "Multidimensional tensor product spaces are created\n",
    "by taking the tensor products of one-dimensional function spaces.\n",
    "For example"
   ]
  },
  {
   "cell_type": "code",
   "execution_count": 19,
   "metadata": {
    "collapsed": false
   },
   "outputs": [],
   "source": [
    "C0 = FunctionSpace(20, 'C')\n",
    "C1 = FunctionSpace(20, 'C')\n",
    "T = TensorProductSpace(comm, (C0, C1))\n",
    "u = Function(T)"
   ]
  },
  {
   "cell_type": "markdown",
   "metadata": {},
   "source": [
    "Here $\\text{T} = \\text{C0} \\otimes \\text{C1}$, the basis function is\n",
    "$T_i(x) T_j(y)$ and the Function `u` is"
   ]
  },
  {
   "cell_type": "markdown",
   "metadata": {},
   "source": [
    "$$\n",
    "u(x, y) = \\sum_{i=0}^{7} \\sum_{j=0}^7 \\hat{u}_{ij} T_i(x) T_j(y).\n",
    "$$"
   ]
  },
  {
   "cell_type": "markdown",
   "metadata": {},
   "source": [
    "The multidimensional Functions work more or less exactly like for the\n",
    "1D case. We can here interpolate 2D Sympy functions"
   ]
  },
  {
   "cell_type": "code",
   "execution_count": 20,
   "metadata": {
    "collapsed": false
   },
   "outputs": [
    {
     "data": {
      "text/plain": [
       "<matplotlib.contour.QuadContourSet at 0x7fcdd84f3390>"
      ]
     },
     "execution_count": 20,
     "metadata": {},
     "output_type": "execute_result"
    },
    {
     "data": {
      "image/png": "[encoded data removed]",
      "text/plain": [
       "<Figure size 432x288 with 1 Axes>"
      ]
     },
     "metadata": {
      "needs_background": "light"
     },
     "output_type": "display_data"
    }
   ],
   "source": [
    "y = sp.Symbol('y', real=True)\n",
    "u = Function(T, buffer=sp.cos(10*x)*sp.cos(10*y))\n",
    "X = T.local_mesh(True)\n",
    "plt.contourf(X[0], X[1], u.backward())"
   ]
  },
  {
   "cell_type": "markdown",
   "metadata": {},
   "source": [
    "Like for 1D the coefficients are computed through projection,\n",
    "where the exact function is evaluated on all quadrature points\n",
    "in the mesh.\n",
    "\n",
    "The Cartesian mesh represents the quadrature points of the\n",
    "two function spaces, and can be visualized as follows"
   ]
  },
  {
   "cell_type": "code",
   "execution_count": 21,
   "metadata": {
    "collapsed": false
   },
   "outputs": [
    {
     "data": {
      "image/png": "[encoded data removed]",
      "text/plain": [
       "<Figure size 432x288 with 1 Axes>"
      ]
     },
     "metadata": {
      "needs_background": "light"
     },
     "output_type": "display_data"
    }
   ],
   "source": [
    "X = T.mesh()\n",
    "for xj in X[0]:\n",
    "    for yj in X[1]:\n",
    "        plt.plot((xj, xj), (X[1][0, 0], X[1][0, -1]), 'k')\n",
    "        plt.plot((X[0][0], X[0][-1]), (yj, yj), 'k')"
   ]
  },
  {
   "cell_type": "markdown",
   "metadata": {},
   "source": [
    "We may alternatively plot on a uniform mesh"
   ]
  },
  {
   "cell_type": "code",
   "execution_count": 22,
   "metadata": {
    "collapsed": false
   },
   "outputs": [
    {
     "data": {
      "text/plain": [
       "<matplotlib.contour.QuadContourSet at 0x7fcdf9930b10>"
      ]
     },
     "execution_count": 22,
     "metadata": {},
     "output_type": "execute_result"
    },
    {
     "data": {
      "image/png": "[encoded data removed]",
      "text/plain": [
       "<Figure size 432x288 with 1 Axes>"
      ]
     },
     "metadata": {
      "needs_background": "light"
     },
     "output_type": "display_data"
    }
   ],
   "source": [
    "X = T.local_mesh(broadcast=True, uniform=True)\n",
    "plt.contourf(X[0], X[1], u.backward(kind='uniform'))"
   ]
  },
  {
   "cell_type": "markdown",
   "metadata": {},
   "source": [
    "## Curvilinear coordinates\n",
    "\n",
    "With shenfun it is possible to use curvilinear coordinates,\n",
    "and not necessarily with orthogonal basis vectors. With\n",
    "curvilinear coordinates the computational coordinates are\n",
    "always straight lines, rectangles and cubes. But the physical\n",
    "coordinates can be very complex.\n",
    "\n",
    "Consider the unit disc with polar coordinates. Here\n",
    "the position vector $\\mathbf{r}$ is given by"
   ]
  },
  {
   "cell_type": "markdown",
   "metadata": {},
   "source": [
    "$$\n",
    "\\mathbf{r} = r\\cos \\theta \\mathbf{i} + r\\sin \\theta \\mathbf{j}\n",
    "$$"
   ]
  },
  {
   "cell_type": "markdown",
   "metadata": {},
   "source": [
    "The physical domain is $\\Omega = \\{(x, y): x^2 + y^2 < 1\\}$,\n",
    "whereas the computational domain is the Cartesian product\n",
    "$D = \\{(r, \\theta) \\in [0, 1] \\times [0, 2 \\pi]\\}$.\n",
    "\n",
    "We create this domain in shenfun through"
   ]
  },
  {
   "cell_type": "code",
   "execution_count": 23,
   "metadata": {
    "collapsed": false
   },
   "outputs": [],
   "source": [
    "r, theta = psi = sp.symbols('x,y', real=True, positive=True)\n",
    "rv = (r*sp.cos(theta), r*sp.sin(theta))\n",
    "B0 = FunctionSpace(20, 'C', domain=(0, 1))\n",
    "F0 = FunctionSpace(20, 'F')\n",
    "T = TensorProductSpace(comm, (B0, F0), coordinates=(psi, rv))"
   ]
  },
  {
   "cell_type": "markdown",
   "metadata": {},
   "source": [
    "Note that we are using a Fourier space for the azimuthal\n",
    "direction, since the solution here needs to be periodic.\n",
    "We can now create functions on the space using an\n",
    "analytical function in computational coordinates"
   ]
  },
  {
   "cell_type": "code",
   "execution_count": 24,
   "metadata": {
    "collapsed": false
   },
   "outputs": [],
   "source": [
    "u = Function(T, buffer=(1-r)*r*sp.sin(sp.cos(theta)))"
   ]
  },
  {
   "cell_type": "markdown",
   "metadata": {},
   "source": [
    "However, when this is plotted it may not be what you expect"
   ]
  },
  {
   "cell_type": "code",
   "execution_count": 25,
   "metadata": {
    "collapsed": false
   },
   "outputs": [
    {
     "data": {
      "text/plain": [
       "<matplotlib.contour.QuadContourSet at 0x7fce198b8fd0>"
      ]
     },
     "execution_count": 25,
     "metadata": {},
     "output_type": "execute_result"
    },
    {
     "data": {
      "image/png": "[encoded data removed]",
      "text/plain": [
       "<Figure size 432x288 with 1 Axes>"
      ]
     },
     "metadata": {
      "needs_background": "light"
     },
     "output_type": "display_data"
    }
   ],
   "source": [
    "X = T.local_mesh(True)\n",
    "plt.contourf(X[0], X[1], u.backward(), 100)"
   ]
  },
  {
   "cell_type": "markdown",
   "metadata": {},
   "source": [
    "We see that the function has been plotted in computational coordinates,\n",
    "and not on the disc, as you probably expected. To plot on\n",
    "the disc we need the physical mesh, and not the computational"
   ]
  },
  {
   "cell_type": "code",
   "execution_count": 26,
   "metadata": {
    "collapsed": false
   },
   "outputs": [
    {
     "data": {
      "text/plain": [
       "<matplotlib.contour.QuadContourSet at 0x7fcde91bd110>"
      ]
     },
     "execution_count": 26,
     "metadata": {},
     "output_type": "execute_result"
    },
    {
     "data": {
      "image/png": "[encoded data removed]",
      "text/plain": [
       "<Figure size 432x288 with 1 Axes>"
      ]
     },
     "metadata": {
      "needs_background": "light"
     },
     "output_type": "display_data"
    }
   ],
   "source": [
    "X = T.local_curvilinear_mesh()\n",
    "plt.contourf(X[0], X[1], u.backward(), 100)"
   ]
  },
  {
   "cell_type": "markdown",
   "metadata": {},
   "source": [
    "**Notice.**\n",
    "\n",
    "The periodic plot does not wrap all around the circle. This is\n",
    "not wrong, we have simply not used the same point twice, but it\n",
    "does not look very good. To overcome this problem we can wrap the\n",
    "grid all the way around and re-plot."
   ]
  },
  {
   "cell_type": "code",
   "execution_count": 27,
   "metadata": {
    "collapsed": false
   },
   "outputs": [
    {
     "data": {
      "text/plain": [
       "<matplotlib.contour.QuadContourSet at 0x7fcdf96ae290>"
      ]
     },
     "execution_count": 27,
     "metadata": {},
     "output_type": "execute_result"
    },
    {
     "data": {
      "image/png": "[encoded data removed]",
      "text/plain": [
       "<Figure size 432x288 with 1 Axes>"
      ]
     },
     "metadata": {
      "needs_background": "light"
     },
     "output_type": "display_data"
    }
   ],
   "source": [
    "xj, yj = X\n",
    "xp = np.hstack([xj, xj[:, 0][:, None]])\n",
    "yp = np.hstack([yj, yj[:, 0][:, None]])\n",
    "up = u.backward()\n",
    "up = np.hstack([up, up[:, 0][:, None]])\n",
    "plt.contourf(xp, yp, up, 100)"
   ]
  },
  {
   "cell_type": "markdown",
   "metadata": {},
   "source": [
    "## Adaptive functions in multiple dimensions\n",
    "\n",
    "If you want to find a good resolution for a function in multiple\n",
    "dimensions, the procedure is exactly like in 1D. First create function\n",
    "spaces with 0 quadrature points, and then call `Function`"
   ]
  },
  {
   "cell_type": "code",
   "execution_count": 28,
   "metadata": {
    "collapsed": false
   },
   "outputs": [
    {
     "name": "stdout",
     "output_type": "stream",
     "text": [
      "(5, 12)\n"
     ]
    }
   ],
   "source": [
    "B0 = FunctionSpace(0, 'C', domain=(0, 1))\n",
    "F0 = FunctionSpace(0, 'F')\n",
    "T = TensorProductSpace(comm, (B0, F0), coordinates=(psi, rv))\n",
    "u = Function(T, buffer=((1-r)*r)**2*sp.sin(sp.cos(theta)))\n",
    "print(u.shape)"
   ]
  },
  {
   "cell_type": "markdown",
   "metadata": {},
   "source": [
    "The algorithm used to find the approximation in multiple dimensions\n",
    "simply treat the problem one direction at the time. So in this case\n",
    "we would first find a space in the first direction by using\n",
    "`fun ~ ((1-r)*r)**2`, and then along the second using\n",
    "`fun ~ sp.sin(sp.cos(theta))`.\n",
    "\n",
    "\n",
    "<!-- ======= Bibliography ======= -->"
   ]
  }
 ],
 "metadata": {
  "language_info": {
   "codemirror_mode": {
    "name": "ipython",
    "version": 3
   },
   "file_extension": ".py",
   "mimetype": "text/x-python",
   "name": "python",
   "nbconvert_exporter": "python",
   "pygments_lexer": "ipython3",
   "version": "3.7.6"
  }
 },
 "nbformat": 4,
 "nbformat_minor": 4
}
