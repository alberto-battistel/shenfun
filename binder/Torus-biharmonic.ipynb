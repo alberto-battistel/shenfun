{
 "cells": [
  {
   "cell_type": "markdown",
   "metadata": {},
   "source": [
    "# The biharmonic equation on the Torus\n",
    "\n",
    "The biharmonic equation is given as\n",
    "\n",
    "$$\n",
    "\\nabla^4 u = f.\n",
    "$$\n",
    "\n",
    "In this notebook we will solve this equation inside a torus, using curvilinear coordinates. \n",
    "\n",
    "<img src=\"https://cdn.jsdelivr.net/gh/spectralDNS/spectralutilities@master/figures/torus2.png\">\n",
    "\n",
    "The torus is parametrized by    \n",
    "\n",
    "\\begin{align*}\n",
    "x(r, \\theta, \\phi) &= (R + r \\cos \\theta) \\cos \\phi \\\\\n",
    "y(r, \\theta, \\phi) &= (R + r \\cos \\theta) \\sin \\phi \\\\\n",
    "z(r, \\theta, \\phi) &= r \\sin \\theta\n",
    "\\end{align*}\n",
    "\n",
    "where $(r, \\theta, \\phi) \\in \\Omega = [0, 1] \\times [0, 2\\pi] \\times [0, 2\\pi]$. Hence $\\theta$ and $\\phi$ are angles which make a full circle, so that their values start and end at the same point, $R$ is the distance from the center of the tube to the center of the torus,\n",
    "$r$ is the radius of the tube. Note that $\\theta$ is the angle in the small circle (around its center), whereas $\\phi$ is the angle of the large circle, around origo.\n",
    "\n",
    "We start the implementation by importing necessary functionality from shenfun and sympy and then defining the coordinates of the surface of the torus. Note that `rv` represents the position vector.\n",
    "    "
   ]
  },
  {
   "cell_type": "code",
   "execution_count": 1,
   "metadata": {},
   "outputs": [
    {
     "data": {
      "text/plain": [
       "array([1, x, x*cos(y) + 3], dtype=object)"
      ]
     },
     "execution_count": 1,
     "metadata": {},
     "output_type": "execute_result"
    }
   ],
   "source": [
    "from shenfun import *\n",
    "from shenfun.la import SolverGeneric2ND\n",
    "import sympy as sp\n",
    "from IPython.display import Math\n",
    "\n",
    "N = 20\n",
    "R = 3\n",
    "r, theta, phi = psi = sp.symbols('x,y,z', real=True, positive=True)\n",
    "rv = ((R + r*sp.cos(theta))*sp.cos(phi), (R + r*sp.cos(theta))*sp.sin(phi), r*sp.sin(theta)) \n",
    "\n",
    "B0 = Basis(N, 'L', bc='Biharmonic', domain=(0, 1))\n",
    "B1 = Basis(N, 'F', dtype='D', domain=(0, 2*np.pi))\n",
    "B2 = Basis(N, 'F', dtype='d', domain=(0, 2*np.pi))\n",
    "T = TensorProductSpace(comm, (B0, B1, B2), coordinates=(psi, rv, sp.Q.positive(r*sp.cos(theta)+R)))\n",
    "T.hi"
   ]
  },
  {
   "cell_type": "markdown",
   "metadata": {},
   "source": [
    "Note that `T.hi` now contains the 3 scaling factors for the torus coordinates:\n",
    "\n",
    "\\begin{align*}\n",
    "h_r &= \\left|\\frac{\\partial \\vec{r}}{\\partial r}\\right| = 1\\\\\n",
    "h_{\\theta} &= \\left|\\frac{\\partial \\vec{r}}{\\partial \\theta}\\right| = r\\\\\n",
    "h_{\\phi} &= \\left|\\frac{\\partial \\vec{r}}{\\partial \\phi}\\right| = r\\cos \\theta + R\\\\\n",
    "\\end{align*}\n",
    "\n",
    "The covariant basis vectors used by shenfun are"
   ]
  },
  {
   "cell_type": "code",
   "execution_count": 2,
   "metadata": {},
   "outputs": [
    {
     "data": {
      "text/latex": [
       "$\\displaystyle  \\mathbf{b}_{r} =\\cos{\\left(\\theta \\right)} \\cos{\\left(\\phi \\right)}\\,\\mathbf{i}+\\sin{\\left(\\phi \\right)} \\cos{\\left(\\theta \\right)}\\,\\mathbf{j}+\\sin{\\left(\\theta \\right)}\\,\\mathbf{k} \\\\ \\mathbf{b}_{\\theta} =- r \\sin{\\left(\\theta \\right)} \\cos{\\left(\\phi \\right)}\\,\\mathbf{i}- r \\sin{\\left(\\theta \\right)} \\sin{\\left(\\phi \\right)}\\,\\mathbf{j}+r \\cos{\\left(\\theta \\right)}\\,\\mathbf{k} \\\\ \\mathbf{b}_{\\phi} =- \\left(r \\cos{\\left(\\theta \\right)} + 3\\right) \\sin{\\left(\\phi \\right)}\\,\\mathbf{i}+\\left(r \\cos{\\left(\\theta \\right)} + 3\\right) \\cos{\\left(\\phi \\right)}\\,\\mathbf{j} \\\\  $"
      ],
      "text/plain": [
       "<IPython.core.display.Math object>"
      ]
     },
     "execution_count": 2,
     "metadata": {},
     "output_type": "execute_result"
    }
   ],
   "source": [
    "Math(T.coors.latex_basis_vectors(covariant=True, symbol_names={r: 'r', theta: '\\\\theta', phi: '\\\\phi'}))"
   ]
  },
  {
   "cell_type": "markdown",
   "metadata": {},
   "source": [
    "Now check what the biharmonic operator looks like for the torus"
   ]
  },
  {
   "cell_type": "code",
   "execution_count": 3,
   "metadata": {},
   "outputs": [
    {
     "data": {
      "text/latex": [
       "$\\displaystyle \\frac{\\partial^4 u}{\\partial^4r}+\\frac{2 \\left(2 r \\cos{\\left(\\theta \\right)} + 3\\right)}{r \\left(r \\cos{\\left(\\theta \\right)} + 3\\right)}\\frac{\\partial^3 u}{\\partial^3r}+\\frac{2}{r^{2}}\\frac{\\partial^4 u}{\\partial^2r\\partial^2\\theta}- \\frac{2 \\sin{\\left(\\theta \\right)}}{r \\left(r \\cos{\\left(\\theta \\right)} + 3\\right)}\\frac{\\partial^3 u}{\\partial^2r\\partial \\theta}+\\frac{2}{\\left(r \\cos{\\left(\\theta \\right)} + 3\\right)^{2}}\\frac{\\partial^4 u}{\\partial^2r\\partial^2\\phi}- \\frac{9}{r^{2} \\left(r \\cos{\\left(\\theta \\right)} + 3\\right)^{2}}\\frac{\\partial^2 u}{\\partial^2r}- \\frac{6}{r^{3} \\left(r \\cos{\\left(\\theta \\right)} + 3\\right)}\\frac{\\partial^3 u}{\\partial r\\partial^2\\theta}- \\frac{6 \\sin{\\left(\\theta \\right)}}{r^{2} \\left(r \\cos{\\left(\\theta \\right)} + 3\\right)^{2}}\\frac{\\partial^2 u}{\\partial r\\partial \\theta}+\\frac{6}{r \\left(r \\cos{\\left(\\theta \\right)} + 3\\right)^{3}}\\frac{\\partial^3 u}{\\partial r\\partial^2\\phi}+\\frac{3 \\left(- r^{2} + 3 r \\cos{\\left(\\theta \\right)} + 9\\right)}{r^{3} \\left(r \\cos{\\left(\\theta \\right)} + 3\\right)^{3}}\\frac{\\partial  u}{\\partial r}+\\frac{- r^{2} \\sin^{2}{\\left(\\theta \\right)} + 12 r \\cos{\\left(\\theta \\right)} + 36}{r^{4} \\left(r \\cos{\\left(\\theta \\right)} + 3\\right)^{2}}\\frac{\\partial^2 u}{\\partial^2\\theta}- \\frac{\\left(2 r \\cos^{2}{\\left(\\theta \\right)} + r + 6 \\cos{\\left(\\theta \\right)}\\right) \\sin{\\left(\\theta \\right)}}{r^{2} \\left(r \\cos{\\left(\\theta \\right)} + 3\\right)^{3}}\\frac{\\partial  u}{\\partial \\theta}+\\frac{4}{\\left(r \\cos{\\left(\\theta \\right)} + 3\\right)^{4}}\\frac{\\partial^2 u}{\\partial^2\\phi}+\\frac{1}{r^{4}}\\frac{\\partial^4 u}{\\partial^4\\theta}- \\frac{2 \\sin{\\left(\\theta \\right)}}{r^{3} \\left(r \\cos{\\left(\\theta \\right)} + 3\\right)}\\frac{\\partial^3 u}{\\partial^3\\theta}+\\frac{2}{r^{2} \\left(r \\cos{\\left(\\theta \\right)} + 3\\right)^{2}}\\frac{\\partial^4 u}{\\partial^2\\theta\\partial^2\\phi}+\\frac{2 \\sin{\\left(\\theta \\right)}}{r \\left(r \\cos{\\left(\\theta \\right)} + 3\\right)^{3}}\\frac{\\partial^3 u}{\\partial \\theta\\partial^2\\phi}+\\frac{1}{\\left(r \\cos{\\left(\\theta \\right)} + 3\\right)^{4}}\\frac{\\partial^4 u}{\\partial^4\\phi}$"
      ],
      "text/plain": [
       "<IPython.core.display.Math object>"
      ]
     },
     "execution_count": 3,
     "metadata": {},
     "output_type": "execute_result"
    }
   ],
   "source": [
    "u = TrialFunction(T)\n",
    "v = TestFunction(T)\n",
    "du = div(grad(div(grad(u))))\n",
    "Math((du).tolatex(symbol_names={r: 'r', theta: '\\\\theta', phi: '\\\\phi'}))"
   ]
  },
  {
   "cell_type": "markdown",
   "metadata": {},
   "source": [
    "Glad you're not doing this by hand? \n",
    "\n",
    "To solve this equation we need to get a variational form that is separable. To get a variational form we multiply the equation by a weight $\\omega$ and the complex conjugate of a test function $\\overline{v}$, and integrate over the domain\n",
    "\n",
    "\\begin{align*}\n",
    "\\int_{\\Omega} \\nabla^4 u\\, \\overline{v} \\omega dV &= \\int_{\\Omega} f \\, \\overline{v} \\omega dV \\\\ \n",
    "\\int_{\\Omega} \\nabla^4 u \\, \\overline{v} \\omega r (r\\cos \\theta + R) dr d\\theta d\\phi &= \\int_{\\Omega} f \\, \\overline{v} \\omega r (r\\cos \\theta + R) dr d\\theta d\\phi\n",
    "\\end{align*}"
   ]
  },
  {
   "cell_type": "markdown",
   "metadata": {},
   "source": [
    "For Legendre and Fourier test functions the weight $\\omega$ is normally a constant. However, we see that the denominator in some terms above contains $(r \\cos \\theta+3)^4$. This makes the variational form above inseparable. If, on the other hand, we change the weight $\\omega$ to $(r \\cos \\theta+3)^3$, then the denominator disappears and the variational form becomes separable. \n",
    "\n",
    "$$\n",
    "\\int_{\\Omega} \\nabla^4 u \\, \\overline{v} \\, r \\,(r\\cos \\theta + R)^4 dr d\\theta d\\phi = \\int_{\\Omega} f \\, \\overline{v} \\, r \\,(r\\cos \\theta + R)^4 dr d\\theta d\\phi\n",
    "$$\n",
    "\n",
    "Below we achieve this by using `T.hi[2]**3`, where `T.hi[2]` = $h_{\\phi} = (r\\cos \\theta + 3)$. We verify the implementation by using a manufactured solution that satisfies the boundary conditions. Note that a proper implementation should only consider a boundary condition on the surface of the torus, and not in the center. See, e.g., how this can be done for polar coordinates [here](https://shenfun.readthedocs.io/en/latest/polarhelmholtz.html)."
   ]
  },
  {
   "cell_type": "code",
   "execution_count": 4,
   "metadata": {},
   "outputs": [
    {
     "name": "stdout",
     "output_type": "stream",
     "text": [
      "Error = 5.211199484705211e-15\n"
     ]
    }
   ],
   "source": [
    "ue = sp.sin(theta*2)*sp.cos(4*phi)*(1-r)*r*sp.sin(sp.pi*r)\n",
    "f = div(grad(div(grad(u)))).tosympy(basis=ue, psi=psi)\n",
    "fj = Array(T, buffer=f*T.hi[2]**3)\n",
    "f_hat = Function(T)\n",
    "f_hat = inner(v, fj, output_array=f_hat)\n",
    "M = inner(v, div(grad(div(grad(u))))*T.hi[2]**3)\n",
    "u_hat = Function(T)\n",
    "sol = SolverGeneric2ND(M)\n",
    "u_hat = sol(f_hat, u_hat)\n",
    "uj = u_hat.backward()\n",
    "uq = Array(T, buffer=ue)\n",
    "print('Error =', np.linalg.norm(uj-uq))"
   ]
  },
  {
   "cell_type": "markdown",
   "metadata": {},
   "source": [
    "Note that the variational form contains"
   ]
  },
  {
   "cell_type": "code",
   "execution_count": 5,
   "metadata": {},
   "outputs": [
    {
     "data": {
      "text/plain": [
       "62"
      ]
     },
     "execution_count": 5,
     "metadata": {},
     "output_type": "execute_result"
    }
   ],
   "source": [
    "len(M)"
   ]
  },
  {
   "cell_type": "markdown",
   "metadata": {},
   "source": [
    "tensorproduct matrices.\n",
    "\n",
    "Finally, we look at the vector Laplacian and verify the following\n",
    "\n",
    "$$\n",
    "\\nabla^2 \\vec{u} = \\nabla \\nabla \\cdot \\vec{u} - \\nabla \\times \\nabla \\times \\vec{u}\n",
    "$$\n",
    "\n",
    "The vector Laplace $\\nabla^2 \\vec{u}$ looks like: "
   ]
  },
  {
   "cell_type": "code",
   "execution_count": 6,
   "metadata": {},
   "outputs": [
    {
     "data": {
      "text/latex": [
       "$\\displaystyle \\left( \\frac{\\partial^2 u^{r}}{\\partial^2r}+\\frac{2 r \\cos{\\left(\\theta \\right)} + 3}{r \\left(r \\cos{\\left(\\theta \\right)} + 3\\right)}\\frac{\\partial  u^{r}}{\\partial r}+\\frac{1}{r^{2}}\\frac{\\partial^2 u^{r}}{\\partial^2\\theta}- \\frac{2}{r}\\frac{\\partial  u^{\\theta}}{\\partial \\theta}- \\frac{2 r^{2} \\cos^{2}{\\left(\\theta \\right)} + 6 r \\cos{\\left(\\theta \\right)} + 9}{r^{2} \\left(r \\cos{\\left(\\theta \\right)} + 3\\right)^{2}}u^{r}- \\frac{\\sin{\\left(\\theta \\right)}}{r \\left(r \\cos{\\left(\\theta \\right)} + 3\\right)}\\frac{\\partial  u^{r}}{\\partial \\theta}+\\frac{\\left(2 r \\cos{\\left(\\theta \\right)} + 3\\right) \\sin{\\left(\\theta \\right)}}{\\left(r \\cos{\\left(\\theta \\right)} + 3\\right)^{2}}u^{\\theta}+\\frac{1}{\\left(r \\cos{\\left(\\theta \\right)} + 3\\right)^{2}}\\frac{\\partial^2 u^{r}}{\\partial^2\\phi}- \\frac{2 \\cos{\\left(\\theta \\right)}}{r \\cos{\\left(\\theta \\right)} + 3}\\frac{\\partial  u^{\\phi}}{\\partial \\phi}\\right) \\mathbf{b}_{r} \\\\+\\left( \\frac{\\partial^2 u^{\\theta}}{\\partial^2r}+\\frac{4 r \\cos{\\left(\\theta \\right)} + 9}{r \\left(r \\cos{\\left(\\theta \\right)} + 3\\right)}\\frac{\\partial  u^{\\theta}}{\\partial r}+\\frac{- 2 r \\sin^{2}{\\left(\\theta \\right)} + r + 3 \\cos{\\left(\\theta \\right)}}{r \\left(r \\cos{\\left(\\theta \\right)} + 3\\right)^{2}}u^{\\theta}+\\frac{2}{r^{3}}\\frac{\\partial  u^{r}}{\\partial \\theta}+\\frac{1}{r^{2}}\\frac{\\partial^2 u^{\\theta}}{\\partial^2\\theta}- \\frac{\\sin{\\left(\\theta \\right)}}{r \\left(r \\cos{\\left(\\theta \\right)} + 3\\right)}\\frac{\\partial  u^{\\theta}}{\\partial \\theta}- \\frac{3 \\sin{\\left(\\theta \\right)}}{r^{2} \\left(r \\cos{\\left(\\theta \\right)} + 3\\right)^{2}}u^{r}+\\frac{1}{\\left(r \\cos{\\left(\\theta \\right)} + 3\\right)^{2}}\\frac{\\partial^2 u^{\\theta}}{\\partial^2\\phi}+\\frac{2 \\sin{\\left(\\theta \\right)}}{r \\left(r \\cos{\\left(\\theta \\right)} + 3\\right)}\\frac{\\partial  u^{\\phi}}{\\partial \\phi}\\right) \\mathbf{b}_{\\theta} \\\\+\\left( \\frac{\\partial^2 u^{\\phi}}{\\partial^2r}+\\frac{4 r \\cos{\\left(\\theta \\right)} + 3}{r \\left(r \\cos{\\left(\\theta \\right)} + 3\\right)}\\frac{\\partial  u^{\\phi}}{\\partial r}+\\frac{2 \\cos{\\left(\\theta \\right)}}{\\left(r \\cos{\\left(\\theta \\right)} + 3\\right)^{3}}\\frac{\\partial  u^{r}}{\\partial \\phi}+\\frac{1}{r^{2}}\\frac{\\partial^2 u^{\\phi}}{\\partial^2\\theta}- \\frac{3 \\sin{\\left(\\theta \\right)}}{r \\left(r \\cos{\\left(\\theta \\right)} + 3\\right)}\\frac{\\partial  u^{\\phi}}{\\partial \\theta}- \\frac{2 r \\sin{\\left(\\theta \\right)}}{\\left(r \\cos{\\left(\\theta \\right)} + 3\\right)^{3}}\\frac{\\partial  u^{\\theta}}{\\partial \\phi}+\\frac{1}{\\left(r \\cos{\\left(\\theta \\right)} + 3\\right)^{2}}\\frac{\\partial^2 u^{\\phi}}{\\partial^2\\phi}\\right) \\mathbf{b}_{\\phi} \\\\$"
      ],
      "text/plain": [
       "<IPython.core.display.Math object>"
      ]
     },
     "execution_count": 6,
     "metadata": {},
     "output_type": "execute_result"
    }
   ],
   "source": [
    "V = VectorTensorProductSpace(T)\n",
    "p = TrialFunction(V)\n",
    "du = div(grad(p))\n",
    "Math(du.tolatex(symbol_names={r: 'r', theta: '\\\\theta', phi: '\\\\phi'}))"
   ]
  },
  {
   "cell_type": "markdown",
   "metadata": {},
   "source": [
    "And if we subtract $\\nabla \\nabla \\cdot \\vec{u} - \\nabla \\times \\nabla \\times \\vec{u}$ we should get the zero vector."
   ]
  },
  {
   "cell_type": "code",
   "execution_count": 7,
   "metadata": {},
   "outputs": [
    {
     "data": {
      "text/latex": [
       "$\\displaystyle 0 \\mathbf{b}_{r} \\\\ +0 \\mathbf{b}_{\\theta} \\\\ +0 \\mathbf{b}_{\\phi} \\\\ $"
      ],
      "text/plain": [
       "<IPython.core.display.Math object>"
      ]
     },
     "execution_count": 7,
     "metadata": {},
     "output_type": "execute_result"
    }
   ],
   "source": [
    "dv = grad(div(p)) - curl(curl(p))\n",
    "dw = du-dv\n",
    "dw.simplify()\n",
    "Math(dw.tolatex(symbol_names={r: 'r', theta: '\\\\theta', phi: '\\\\phi'}))"
   ]
  }
 ],
 "metadata": {
  "kernelspec": {
   "display_name": "Python 3",
   "language": "python",
   "name": "python3"
  },
  "language_info": {
   "codemirror_mode": {
    "name": "ipython",
    "version": 3
   },
   "file_extension": ".py",
   "mimetype": "text/x-python",
   "name": "python",
   "nbconvert_exporter": "python",
   "pygments_lexer": "ipython3",
   "version": "3.7.6"
  },
  "toc": {
   "base_numbering": 1,
   "nav_menu": {},
   "number_sections": false,
   "sideBar": true,
   "skip_h1_title": false,
   "title_cell": "Table of Contents",
   "title_sidebar": "Contents",
   "toc_cell": false,
   "toc_position": {},
   "toc_section_display": true,
   "toc_window_display": false
  }
 },
 "nbformat": 4,
 "nbformat_minor": 4
}
