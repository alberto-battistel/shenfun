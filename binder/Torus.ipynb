{
 "cells": [
  {
   "cell_type": "markdown",
   "metadata": {},
   "source": [
    "# The Helmholtz equation on the Torus\n",
    "\n",
    "Helmholtz equation is given as\n",
    "\n",
    "$$\n",
    "\\nabla^2 u + \\alpha u = f.\n",
    "$$\n",
    "\n",
    "In this notebook we will solve this equation (without boundary conditions) on the surface of a torus, using curvilinear coordinates. The surface of the torus is parametrized by    \n",
    "\n",
    "$$\n",
    "\\begin{align}\n",
    "x(\\theta, \\phi) &= (R + r \\cos \\theta) \\cos \\phi \\\\\n",
    "y(\\theta, \\phi) &= (R + r \\cos \\theta) \\sin \\phi \\\\\n",
    "z(\\theta, \\phi) &= r \\sin \\theta\n",
    "\\end{align}\n",
    "$$\n",
    "\n",
    "where $\\theta, \\phi$ are angles which make a full circle, so that their values start and end at the same point, $R$ is the distance from the center of the tube to the center of the torus,\n",
    "$r$ is the radius of the tube. Note that $\\theta$ is the angle in the small circle (around its center), whereas $\\phi$ is the angle of the large circle, around origo.\n",
    "\n",
    "We start the implementation by importing necessary functionality from shenfun and sympy and then defining the coordinates of the surface of the torus. Note that `rv` represents the position vector spanning the surface."
   ]
  },
  {
   "cell_type": "code",
   "execution_count": 1,
   "metadata": {},
   "outputs": [],
   "source": [
    "from shenfun import *\n",
    "from shenfun.la import SolverGeneric1ND\n",
    "import sympy as sp\n",
    "from IPython.display import Math\n",
    "\n",
    "N = 80\n",
    "R = 3\n",
    "r = 1\n",
    "theta, phi = psi = sp.symbols('x,y', real=True, positive=True)\n",
    "rv = ((R + r*sp.cos(theta))*sp.cos(phi), (R + r*sp.cos(theta))*sp.sin(phi), r*sp.sin(theta)) "
   ]
  },
  {
   "cell_type": "markdown",
   "metadata": {},
   "source": [
    "Now create necessary bases and function spaces. Due to the geometry of the problem, the solution will be periodic in both $\\theta$ and $\\phi$ directions, and we choose Fourier basis functions. The basis for the $\\phi$-direction can be either real to complex or complex to complex, depending on the type of the solution. Here we assume a real solution"
   ]
  },
  {
   "cell_type": "code",
   "execution_count": 2,
   "metadata": {},
   "outputs": [
    {
     "data": {
      "text/latex": [
       "$\\displaystyle \\cos{\\left(x \\right)} + 3$"
      ],
      "text/plain": [
       "cos(x) + 3"
      ]
     },
     "execution_count": 2,
     "metadata": {},
     "output_type": "execute_result"
    }
   ],
   "source": [
    "B1 = FunctionSpace(N, 'F', dtype='D', domain=(0, 2*np.pi))\n",
    "B2 = FunctionSpace(N, 'F', dtype='d', domain=(0, 2*np.pi))\n",
    "T = TensorProductSpace(comm, (B1, B2), coordinates=(psi, rv, sp.Q.positive(r*sp.cos(theta)+R)))\n",
    "V = VectorSpace(T)\n",
    "u = TrialFunction(T)\n",
    "v = TestFunction(T)\n",
    "T.coors.sg"
   ]
  },
  {
   "cell_type": "markdown",
   "metadata": {},
   "source": [
    "Note the assumption `sp.Q.positive(r*sp.cos(theta)+R))`, which is there to help sympy when computing basis vectors and scaling factors. It is not completely necessary, but try to omit it and look at what happens to the expanded Helmholtz equation below."
   ]
  },
  {
   "cell_type": "code",
   "execution_count": 3,
   "metadata": {},
   "outputs": [
    {
     "data": {
      "text/latex": [
       "$\\displaystyle \\frac{\\partial^2 u}{\\partial \\theta^2 }- \\frac{\\sin{\\left(\\theta \\right)}}{\\cos{\\left(\\theta \\right)} + 3}\\frac{\\partial  u}{\\partial \\theta  }+\\frac{1}{\\left(\\cos{\\left(\\theta \\right)} + 3\\right)^{2}}\\frac{\\partial^2 u}{\\partial \\phi^2 }+u$"
      ],
      "text/plain": [
       "<IPython.core.display.Math object>"
      ]
     },
     "execution_count": 3,
     "metadata": {},
     "output_type": "execute_result"
    }
   ],
   "source": [
    "alpha = 1\n",
    "du = div(grad(u))+alpha*u\n",
    "g = sp.Symbol('g', real=True, positive=True) # The Jacobian**2 (T.coors.sg**2)\n",
    "replace = [(3*sp.cos(theta)+5, g/2), (sp.cos(theta)**2+6*sp.cos(theta)+10, sp.cos(theta)**2+g), (3*sp.cos(theta)+10, g/2+5)] # to simplify the look\n",
    "Math(du.tolatex(symbol_names={r: 'r', theta: '\\\\theta', phi: '\\\\phi'}, replace=replace))"
   ]
  },
  {
   "cell_type": "markdown",
   "metadata": {},
   "source": [
    "We now create a manufactured solution that satisfies periodicity and compute the right hand side $f$."
   ]
  },
  {
   "cell_type": "code",
   "execution_count": 4,
   "metadata": {},
   "outputs": [],
   "source": [
    "ue = sp.sin(theta*2)*sp.cos(4*phi)\n",
    "f = (div(grad(u))+alpha*u).tosympy(basis=ue, psi=psi)\n",
    "fj = Array(T, buffer=f*T.sg)\n",
    "f_hat = Function(T)\n",
    "f_hat = inner(v, fj, output_array=f_hat)"
   ]
  },
  {
   "cell_type": "markdown",
   "metadata": {},
   "source": [
    "Assemble coefficient matrix and solve problem. Note that the tensorproduct matrices along axis 0 can be non-diagonal due to the measure $\\cos \\theta + 3$. The matrices along the second axis will all be diagonal, so we can choose to use `SolverGeneric1ND`"
   ]
  },
  {
   "cell_type": "code",
   "execution_count": 5,
   "metadata": {},
   "outputs": [
    {
     "name": "stdout",
     "output_type": "stream",
     "text": [
      "Error = 4.498676817086259e-14\n"
     ]
    },
    {
     "name": "stderr",
     "output_type": "stream",
     "text": [
      "/Users/mikaelmortensen/MySoftware/shenfun/shenfun/matrixbase.py:364: ComplexWarning: Casting complex values to real discards the imaginary part\n",
      "  u.real[:] = self._lu.solve(b.real)\n",
      "/Users/mikaelmortensen/MySoftware/shenfun/shenfun/matrixbase.py:365: ComplexWarning: Casting complex values to real discards the imaginary part\n",
      "  u.imag[:] = self._lu.solve(b.imag)\n"
     ]
    }
   ],
   "source": [
    "mats = inner(v*T.sg, (div(grad(u))+alpha*u))\n",
    "#mats = inner(grad(v), -grad(u)) + inner(v, alpha*u)\n",
    "u_hat = Function(T)\n",
    "sol = SolverGeneric1ND(mats)\n",
    "u_hat = sol(f_hat, u_hat)\n",
    "uj = u_hat.backward()\n",
    "uq = Array(T, buffer=ue)\n",
    "print('Error =', np.linalg.norm(uj-uq))"
   ]
  },
  {
   "cell_type": "code",
   "execution_count": 6,
   "metadata": {},
   "outputs": [],
   "source": [
    "mats = inner(v*T.sg, u, level=2)"
   ]
  },
  {
   "cell_type": "code",
   "execution_count": 7,
   "metadata": {},
   "outputs": [
    {
     "data": {
      "text/plain": [
       "{0: array([9.5+0.00000000e+00j, 9.5+1.37859974e-16j, 9.5+2.34551936e-16j,\n",
       "        9.5+5.99173866e-17j, 9.5+1.15554059e-16j, 9.5+1.10303098e-16j,\n",
       "        9.5-5.30357113e-18j, 9.5+4.24920009e-18j, 9.5-7.48218879e-17j,\n",
       "        9.5-1.94709549e-17j, 9.5+2.02952128e-18j, 9.5+6.70256712e-18j,\n",
       "        9.5+7.24952694e-17j, 9.5+6.11449729e-18j, 9.5+3.28119264e-17j,\n",
       "        9.5-6.18121888e-17j, 9.5+2.97603134e-17j, 9.5-5.73143327e-17j,\n",
       "        9.5+2.98491099e-17j, 9.5-5.97540404e-18j, 9.5-1.18329136e-30j,\n",
       "        9.5-3.87139095e-17j, 9.5+1.40842997e-17j, 9.5+1.41399053e-17j,\n",
       "        9.5+3.83750209e-17j, 9.5+4.71892148e-17j, 9.5+9.53825728e-18j,\n",
       "        9.5-4.13798647e-17j, 9.5-1.58793742e-17j, 9.5+1.65647284e-17j,\n",
       "        9.5+2.31592799e-17j, 9.5-5.50530416e-17j, 9.5-2.36235065e-18j,\n",
       "        9.5+2.98743716e-17j, 9.5-2.14338569e-17j, 9.5-1.72549854e-16j,\n",
       "        9.5-8.18086720e-17j, 9.5-4.39545939e-17j, 9.5+3.57735431e-16j,\n",
       "        9.5-2.08523833e-19j, 9.5+6.31088724e-30j, 9.5+2.08523833e-19j,\n",
       "        9.5-3.57735431e-16j, 9.5+4.39545939e-17j, 9.5+8.18086720e-17j,\n",
       "        9.5+1.72549854e-16j, 9.5+2.14338569e-17j, 9.5-2.98743716e-17j,\n",
       "        9.5+2.36235065e-18j, 9.5+5.50530416e-17j, 9.5-2.31592799e-17j,\n",
       "        9.5-1.65647284e-17j, 9.5+1.58793742e-17j, 9.5+4.13798647e-17j,\n",
       "        9.5-9.53825728e-18j, 9.5-4.71892148e-17j, 9.5-3.83750209e-17j,\n",
       "        9.5-1.41399053e-17j, 9.5-1.40842997e-17j, 9.5+3.87139095e-17j,\n",
       "        9.5+1.18329136e-30j, 9.5+5.97540404e-18j, 9.5-2.98491099e-17j,\n",
       "        9.5+5.73143327e-17j, 9.5-2.97603134e-17j, 9.5+6.18121888e-17j,\n",
       "        9.5-3.28119264e-17j, 9.5-6.11449729e-18j, 9.5-7.24952694e-17j,\n",
       "        9.5-6.70256712e-18j, 9.5-2.02952128e-18j, 9.5+1.94709549e-17j,\n",
       "        9.5+7.48218879e-17j, 9.5-4.24920009e-18j, 9.5+5.30357113e-18j,\n",
       "        9.5-1.10303098e-16j, 9.5-1.15554059e-16j, 9.5-5.99173866e-17j,\n",
       "        9.5-2.34551936e-16j, 9.5-1.37859974e-16j]),\n",
       " 1: array([3.-3.27428094e-16j, 3.+7.83009852e-16j, 3.+5.03759562e-16j,\n",
       "        3.-8.07028953e-16j, 3.+4.42776847e-16j, 3.-1.92552996e-16j,\n",
       "        3.-5.04930643e-16j, 3.+1.35322169e-15j, 3.+1.17600447e-15j,\n",
       "        3.-9.78775282e-16j, 3.+1.47111428e-15j, 3.-1.16224571e-15j,\n",
       "        3.-9.84806034e-16j, 3.-5.73038123e-16j, 3.+2.42836901e-15j,\n",
       "        3.-8.42008401e-16j, 3.+6.30952740e-16j, 3.+2.53063194e-15j,\n",
       "        3.+3.17503300e-16j, 3.-3.46870255e-15j, 3.+1.17051132e-15j,\n",
       "        3.-1.22796127e-15j, 3.-8.11314249e-15j, 3.+6.99415886e-15j,\n",
       "        3.-1.51971448e-15j, 3.-1.66164609e-15j, 3.+5.80364672e-15j,\n",
       "        3.-4.90358525e-15j, 3.+7.68201104e-16j, 3.+4.27298901e-15j,\n",
       "        3.-2.33337279e-15j, 3.+1.76028920e-15j, 3.+8.82944182e-16j,\n",
       "        3.-1.65679936e-15j, 3.+5.19189089e-15j, 3.-8.01655200e-16j,\n",
       "        3.-5.19877681e-15j, 3.+6.78259914e-15j, 3.-7.46367238e-16j,\n",
       "        3.+1.20149555e-14j, 3.-6.07677335e-15j, 3.-7.23195980e-16j,\n",
       "        3.+6.58114135e-15j, 3.-5.01700253e-15j, 3.-6.80679371e-16j,\n",
       "        3.+5.19135488e-15j, 3.-1.83017953e-15j, 3.+7.56975907e-16j,\n",
       "        3.+1.73470270e-15j, 3.-2.34285862e-15j, 3.+3.84408428e-15j,\n",
       "        3.+6.42753931e-16j, 3.-4.90200791e-15j, 3.+5.78046822e-15j,\n",
       "        3.-1.98240272e-15j, 3.-1.63916354e-15j, 3.+7.01092509e-15j,\n",
       "        3.-8.03044245e-15j, 3.-1.51108985e-15j, 3.+1.44601497e-15j,\n",
       "        3.-3.07559406e-15j, 3.+5.06015566e-16j, 3.+2.31488241e-15j,\n",
       "        3.+4.10504558e-16j, 3.-7.69481448e-16j, 3.+2.37390573e-15j,\n",
       "        3.-4.58629034e-16j, 3.-1.39596630e-15j, 3.-1.17315686e-15j,\n",
       "        3.+9.48849189e-16j, 3.-1.30706639e-15j, 3.+1.74201374e-15j,\n",
       "        3.+1.54768886e-15j, 3.-6.83448520e-16j, 3.-1.45377403e-16j,\n",
       "        3.+5.42712343e-16j, 3.-5.17691263e-16j, 3.+4.77615066e-16j,\n",
       "        3.+6.86940889e-16j]),\n",
       " 2: array([0.25+4.47841511e-16j, 0.25+3.82275709e-16j, 0.25-1.00409835e-16j,\n",
       "        0.25+4.33483042e-16j, 0.25-1.29868269e-16j, 0.25-1.48119867e-16j,\n",
       "        0.25-2.76378280e-16j, 0.25+1.41383648e-15j, 0.25-1.14265628e-16j,\n",
       "        0.25-8.13304200e-16j, 0.25-1.37583695e-16j, 0.25-2.02209008e-15j,\n",
       "        0.25-3.82890906e-16j, 0.25+1.88144484e-15j, 0.25+1.24829666e-15j,\n",
       "        0.25+2.46685894e-16j, 0.25+2.24062700e-15j, 0.25+3.04113450e-15j,\n",
       "        0.25-2.54326642e-15j, 0.25+2.04911861e-16j, 0.25+1.85102152e-15j,\n",
       "        0.25-8.92355500e-15j, 0.25+5.21169508e-16j, 0.25+6.54839920e-15j,\n",
       "        0.25-2.72110774e-15j, 0.25-9.83486385e-16j, 0.25+2.63513225e-15j,\n",
       "        0.25-2.15944782e-15j, 0.25+1.34995409e-15j, 0.25+1.24159166e-15j,\n",
       "        0.25-6.98764971e-16j, 0.25+2.82968637e-15j, 0.25+2.41300958e-16j,\n",
       "        0.25+2.07083344e-15j, 0.25+2.92411741e-15j, 0.25-3.56150532e-15j,\n",
       "        0.25+1.99828480e-15j, 0.25+4.01374895e-15j, 0.25-1.01637794e-14j,\n",
       "        0.25-1.27117655e-14j, 0.25-5.24977019e-15j, 0.25+4.24258585e-15j,\n",
       "        0.25+2.02425378e-15j, 0.25-3.38874204e-15j, 0.25+3.19039190e-15j,\n",
       "        0.25+2.14690666e-15j, 0.25+5.29250313e-16j, 0.25+3.38017855e-15j,\n",
       "        0.25-6.63065273e-16j, 0.25+1.22394908e-15j, 0.25+1.68870482e-15j,\n",
       "        0.25-1.71849166e-15j, 0.25+2.33692957e-15j, 0.25-4.06231233e-16j,\n",
       "        0.25-2.61548085e-15j, 0.25+6.22486743e-15j, 0.25+3.85011011e-16j,\n",
       "        0.25-8.73234322e-15j, 0.25+1.55794349e-15j, 0.25-1.32721934e-17j,\n",
       "        0.25-2.83486001e-15j, 0.25+3.26483128e-15j, 0.25+1.96881803e-15j,\n",
       "        0.25+6.44569006e-16j, 0.25+9.12526699e-16j, 0.25+2.25723143e-15j,\n",
       "        0.25-6.95041677e-17j, 0.25-2.03611993e-15j, 0.25-3.80914691e-16j,\n",
       "        0.25-3.47975183e-17j, 0.25-1.92176390e-16j, 0.25+1.09387445e-15j,\n",
       "        0.25-5.02014783e-16j, 0.25+2.93240991e-16j, 0.25-1.58474732e-16j,\n",
       "        0.25-3.60044241e-17j, 0.25-3.26965212e-16j, 0.25+3.11100936e-16j]),\n",
       " 78: array([0.25-4.47841511e-16j, 0.25-9.74123051e-16j]),\n",
       " 79: array([3.+3.27428094e-16j]),\n",
       " -1: array([3.+7.70217223e-16j, 3.-6.86940889e-16j, 3.-4.77615066e-16j,\n",
       "        3.+5.17691263e-16j, 3.-5.42712343e-16j, 3.+1.45377403e-16j,\n",
       "        3.+6.83448520e-16j, 3.-1.54768886e-15j, 3.-1.74201374e-15j,\n",
       "        3.+1.30706639e-15j, 3.-9.48849189e-16j, 3.+1.17315686e-15j,\n",
       "        3.+1.39596630e-15j, 3.+4.58629034e-16j, 3.-2.37390573e-15j,\n",
       "        3.+7.69481448e-16j, 3.-4.10504558e-16j, 3.-2.31488241e-15j,\n",
       "        3.-5.06015566e-16j, 3.+3.07559406e-15j, 3.-1.44601497e-15j,\n",
       "        3.+1.51108985e-15j, 3.+8.03044245e-15j, 3.-7.01092509e-15j,\n",
       "        3.+1.63916354e-15j, 3.+1.98240272e-15j, 3.-5.78046822e-15j,\n",
       "        3.+4.90200791e-15j, 3.-6.42753931e-16j, 3.-3.84408428e-15j,\n",
       "        3.+2.34285862e-15j, 3.-1.73470270e-15j, 3.-7.56975907e-16j,\n",
       "        3.+1.83017953e-15j, 3.-5.19135488e-15j, 3.+6.80679371e-16j,\n",
       "        3.+5.01700253e-15j, 3.-6.58114135e-15j, 3.+7.23195980e-16j,\n",
       "        3.-1.15693552e-14j, 3.+5.63117307e-15j, 3.+7.46367238e-16j,\n",
       "        3.-6.78259914e-15j, 3.+5.19877681e-15j, 3.+8.01655200e-16j,\n",
       "        3.-5.19189089e-15j, 3.+1.65679936e-15j, 3.-8.82944182e-16j,\n",
       "        3.-1.76028920e-15j, 3.+2.33337279e-15j, 3.-4.27298901e-15j,\n",
       "        3.-7.68201104e-16j, 3.+4.90358525e-15j, 3.-5.80364672e-15j,\n",
       "        3.+1.66164609e-15j, 3.+1.51971448e-15j, 3.-6.99415886e-15j,\n",
       "        3.+8.11314249e-15j, 3.+1.22796127e-15j, 3.-1.17051132e-15j,\n",
       "        3.+3.46870255e-15j, 3.-3.17503300e-16j, 3.-2.53063194e-15j,\n",
       "        3.-6.30952740e-16j, 3.+8.42008401e-16j, 3.-2.42836901e-15j,\n",
       "        3.+5.73038123e-16j, 3.+9.84806034e-16j, 3.+1.16224571e-15j,\n",
       "        3.-1.47111428e-15j, 3.+9.78775282e-16j, 3.-1.17600447e-15j,\n",
       "        3.-1.35322169e-15j, 3.+5.04930643e-16j, 3.+1.92552996e-16j,\n",
       "        3.-4.42776847e-16j, 3.+8.07028953e-16j, 3.-5.03759562e-16j,\n",
       "        3.-7.83009852e-16j]),\n",
       " -2: array([0.25-1.16920362e-15j, 0.25-3.11100936e-16j, 0.25+3.26965212e-16j,\n",
       "        0.25+3.60044241e-17j, 0.25+1.58474732e-16j, 0.25-2.93240991e-16j,\n",
       "        0.25+5.02014783e-16j, 0.25-1.09387445e-15j, 0.25+1.92176390e-16j,\n",
       "        0.25+3.47975183e-17j, 0.25+3.80914691e-16j, 0.25+2.03611993e-15j,\n",
       "        0.25+6.95041677e-17j, 0.25-2.25723143e-15j, 0.25-9.12526699e-16j,\n",
       "        0.25-6.44569006e-16j, 0.25-1.96881803e-15j, 0.25-3.26483128e-15j,\n",
       "        0.25+2.83486001e-15j, 0.25+1.32721934e-17j, 0.25-1.55794349e-15j,\n",
       "        0.25+8.73234322e-15j, 0.25-3.85011011e-16j, 0.25-6.22486743e-15j,\n",
       "        0.25+2.61548085e-15j, 0.25+4.06231233e-16j, 0.25-2.33692957e-15j,\n",
       "        0.25+1.71849166e-15j, 0.25-1.68870482e-15j, 0.25-1.22394908e-15j,\n",
       "        0.25+6.63065273e-16j, 0.25-3.38017855e-15j, 0.25-5.29250313e-16j,\n",
       "        0.25-2.14690666e-15j, 0.25-3.19039190e-15j, 0.25+3.38874204e-15j,\n",
       "        0.25-2.02425378e-15j, 0.25-4.24258585e-15j, 0.25+1.01035956e-14j,\n",
       "        0.25+1.27117655e-14j, 0.25+5.30995401e-15j, 0.25-4.01374895e-15j,\n",
       "        0.25-1.99828480e-15j, 0.25+3.56150532e-15j, 0.25-2.92411741e-15j,\n",
       "        0.25-2.07083344e-15j, 0.25-2.41300958e-16j, 0.25-2.82968637e-15j,\n",
       "        0.25+6.98764971e-16j, 0.25-1.24159166e-15j, 0.25-1.34995409e-15j,\n",
       "        0.25+2.15944782e-15j, 0.25-2.63513225e-15j, 0.25+9.83486385e-16j,\n",
       "        0.25+2.72110774e-15j, 0.25-6.54839920e-15j, 0.25-5.21169508e-16j,\n",
       "        0.25+8.92355500e-15j, 0.25-1.85102152e-15j, 0.25-2.04911861e-16j,\n",
       "        0.25+2.54326642e-15j, 0.25-3.04113450e-15j, 0.25-2.24062700e-15j,\n",
       "        0.25-2.46685894e-16j, 0.25-1.24829666e-15j, 0.25-1.88144484e-15j,\n",
       "        0.25+3.82890906e-16j, 0.25+2.02209008e-15j, 0.25+1.37583695e-16j,\n",
       "        0.25+8.13304200e-16j, 0.25+1.14265628e-16j, 0.25-1.41383648e-15j,\n",
       "        0.25+2.76378280e-16j, 0.25+1.48119867e-16j, 0.25+1.29868269e-16j,\n",
       "        0.25-4.33483042e-16j, 0.25+1.00409835e-16j, 0.25-3.82275709e-16j]),\n",
       " -78: array([0.25+1.16920362e-15j, 0.25+9.74123051e-16j]),\n",
       " -79: array([3.-7.70217223e-16j])}"
      ]
     },
     "execution_count": 7,
     "metadata": {},
     "output_type": "execute_result"
    }
   ],
   "source": [
    "K = T.local_wavenumbers()\n",
    "mats[0].mats[0]"
   ]
  },
  {
   "cell_type": "markdown",
   "metadata": {},
   "source": [
    "Finally, just plot the solution using mayavi. Wrap the periodic directions around and refine to get a nicer plot."
   ]
  },
  {
   "cell_type": "code",
   "execution_count": 8,
   "metadata": {},
   "outputs": [
    {
     "data": {
      "text/plain": [
       "<matplotlib.lines.Line2D at 0x7ffd607ae670>"
      ]
     },
     "execution_count": 8,
     "metadata": {},
     "output_type": "execute_result"
    },
    {
     "data": {
      "image/png": "[encoded data removed]",
      "text/plain": [
       "<Figure size 432x288 with 1 Axes>"
      ]
     },
     "metadata": {
      "needs_background": "light"
     },
     "output_type": "display_data"
    }
   ],
   "source": [
    "import matplotlib.pyplot as plt\n",
    "%matplotlib inline\n",
    "#B = sol.diags(4, 'csr')\n",
    "#print(np.linalg.cond(B.toarray()))\n",
    "#len(sol.MM)\n",
    "plt.spy(sol.MM[4].diags(), markersize=0.1)"
   ]
  },
  {
   "cell_type": "code",
   "execution_count": 9,
   "metadata": {},
   "outputs": [],
   "source": [
    "from mayavi import mlab\n",
    "u_hat2 = u_hat.refine([N*2, N*2])\n",
    "ur = u_hat2.backward()\n",
    "xx, yy, zz = u_hat2.function_space().local_cartesian_mesh()\n",
    "#xx = np.hstack([xx, xx[:, 0][:, None]])\n",
    "#yy = np.hstack([yy, yy[:, 0][:, None]])\n",
    "#zz = np.hstack([zz, zz[:, 0][:, None]])\n",
    "#ur = np.hstack([ur, ur[:, 0][:, None]])\n",
    "xx = np.vstack([xx, xx[0]])\n",
    "yy = np.vstack([yy, yy[0]])\n",
    "zz = np.vstack([zz, zz[0]])\n",
    "ur = np.vstack([ur, ur[0]])\n",
    "mlab.figure(bgcolor=(1, 1, 1))\n",
    "mlab.mesh(xx, yy, zz, scalars=ur.real, colormap='jet')\n",
    "mlab.savefig('torus.png')\n",
    "mlab.show()"
   ]
  },
  {
   "cell_type": "code",
   "execution_count": 10,
   "metadata": {},
   "outputs": [
    {
     "ename": "NameError",
     "evalue": "name 'plot3D' is not defined",
     "output_type": "error",
     "traceback": [
      "\u001b[0;31m---------------------------------------------------------------------------\u001b[0m",
      "\u001b[0;31mNameError\u001b[0m                                 Traceback (most recent call last)",
      "\u001b[0;32m<ipython-input-10-1686a8d3d4cd>\u001b[0m in \u001b[0;36m<module>\u001b[0;34m\u001b[0m\n\u001b[0;32m----> 1\u001b[0;31m \u001b[0mplot3D\u001b[0m\u001b[0;34m(\u001b[0m\u001b[0mu_hat2\u001b[0m\u001b[0;34m)\u001b[0m\u001b[0;34m\u001b[0m\u001b[0;34m\u001b[0m\u001b[0m\n\u001b[0m",
      "\u001b[0;31mNameError\u001b[0m: name 'plot3D' is not defined"
     ]
    }
   ],
   "source": [
    "plot3D(u_hat2)"
   ]
  }
 ],
 "metadata": {
  "kernelspec": {
   "display_name": "shenfun38",
   "language": "python",
   "name": "shenfun38"
  },
  "language_info": {
   "codemirror_mode": {
    "name": "ipython",
    "version": 3
   },
   "file_extension": ".py",
   "mimetype": "text/x-python",
   "name": "python",
   "nbconvert_exporter": "python",
   "pygments_lexer": "ipython3",
   "version": "3.8.6"
  },
  "toc": {
   "base_numbering": 1,
   "nav_menu": {},
   "number_sections": false,
   "sideBar": true,
   "skip_h1_title": false,
   "title_cell": "Table of Contents",
   "title_sidebar": "Contents",
   "toc_cell": false,
   "toc_position": {},
   "toc_section_display": true,
   "toc_window_display": false
  }
 },
 "nbformat": 4,
 "nbformat_minor": 4
}
