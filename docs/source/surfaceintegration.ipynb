{
 "cells": [
  {
   "cell_type": "markdown",
   "metadata": {},
   "source": [
    "<!-- dom:TITLE: Demo - Integration of functions -->\n",
    "# Demo - Integration of functions\n",
    "<!-- dom:AUTHOR: Mikael Mortensen Email:mikaem@math.uio.no at Department of Mathematics, University of Oslo. -->\n",
    "<!-- Author: -->  \n",
    "**Mikael Mortensen** (email: `mikaem@math.uio.no`), Department of Mathematics, University of Oslo.\n",
    "\n",
    "Date: **Oct 13, 2020**\n",
    "\n",
    "Copyright 2020, Mikael Mortensen. Released under CC Attribution 4.0 license\n",
    "\n",
    "**Summary.** This is a demonstration of how the Python module [shenfun](https://github.com/spectralDNS/shenfun) can be used to\n",
    "integrate over 1D curves and 2D surfaces in 3D space.\n",
    "We make use of\n",
    "curvilinear coordinates, and reproduce some integrals\n",
    "performed by Behnam Hashemi with [Chebfun](http://www.chebfun.org/examples/approx3/SurfaceIntegral3D.html).\n",
    "\n",
    "**Notice.**\n",
    "\n",
    "For all the examples below we could just as well\n",
    "use Legendre polynomials instead of Chebyshev.\n",
    "Just replace 'C' with 'L' when creating function spaces.\n",
    "The accuracy ought to be similar.\n",
    "\n",
    "\n",
    "\n",
    "\n",
    "\n",
    "\n",
    "\n",
    "\n",
    "\n",
    "\n",
    "\n",
    "\n",
    "\n",
    "\n",
    "## The inner product\n",
    "\n",
    "A lesser known fact about [shenfun](https://github.com/spectralDNS/shenfun) is\n",
    "that it can be used to perform regular, unweighted, integrals with\n",
    "spectral accuracy. With the newly added curvilinear coordinates\n",
    "feature, we can now also integrate over highly complex lines and surfaces\n",
    "embedded in a higher dimensional space.\n",
    "\n",
    "To integrate over a domain in shenfun we use the\n",
    "[inner()](https://shenfun.readthedocs.io/en/latest/shenfun.forms.html#shenfun.forms.inner.inner)\n",
    "function, with a constant test function. The [inner()](https://shenfun.readthedocs.io/en/latest/shenfun.forms.html#shenfun.forms.inner.inner)\n",
    "function in shenfun is defined as an integral over the\n",
    "entire domain $\\Omega$ in question"
   ]
  },
  {
   "cell_type": "markdown",
   "metadata": {},
   "source": [
    "$$\n",
    "(u, v)_w = \\int_{\\Omega} u \\overline{v} w d\\Omega,\n",
    "$$"
   ]
  },
  {
   "cell_type": "markdown",
   "metadata": {},
   "source": [
    "for trial function $u$, test function $v$ and weight $w$.\n",
    "Also, $\\overline{v}$ represents the complex conjugate of $v$, in case\n",
    "we are working with complex functions (like Fourier exponentials).\n",
    "\n",
    "The functions and weights take on different form, but if\n",
    "the test function $v$ is chosen to be a constant, e.g., $v=1$,\n",
    "then the weight is also constant, $w=1$, and the inner product becomes\n",
    "an unweighted integral of $u$ over the domain"
   ]
  },
  {
   "cell_type": "markdown",
   "metadata": {},
   "source": [
    "$$\n",
    "(u, 1)_w = \\int_{\\Omega} u d\\Omega\n",
    "$$"
   ]
  },
  {
   "cell_type": "markdown",
   "metadata": {},
   "source": [
    "### Curve integrals\n",
    "\n",
    "For example, if we create some function space on the line from\n",
    "0 to 1, then we can get the length of this domain using `inner`"
   ]
  },
  {
   "cell_type": "code",
   "execution_count": 1,
   "metadata": {
    "collapsed": false
   },
   "outputs": [
    {
     "name": "stdout",
     "output_type": "stream",
     "text": [
      "Length of domain = 1.0000000000000002\n"
     ]
    }
   ],
   "source": [
    "from shenfun import *\n",
    "B = FunctionSpace(10, 'C', domain=(0, 1))\n",
    "u = Array(B, val=1)\n",
    "length = inner(u, 1)\n",
    "print('Length of domain =', length)"
   ]
  },
  {
   "cell_type": "markdown",
   "metadata": {},
   "source": [
    "Note that we cannot simply do `inner(1, 1)`, because the\n",
    "`inner` function does not know about the domain, which is part\n",
    "of the [FunctionSpace](https://shenfun.readthedocs.io/en/latest/shenfun.forms.html#shenfun.forms.arguments.FunctionSpace). So to integrate `u=1`, we need to\n",
    "create `u` as an [Array](https://shenfun.readthedocs.io/en/latest/shenfun.forms.html#shenfun.forms.arguments.Array) with the constant value 1.\n",
    "\n",
    "Since the function space `B` is Cartesian the computed\n",
    "length is simply the domain length.\n",
    "Not very impressive, but the same goes for multidimensional\n",
    "tensor product domains"
   ]
  },
  {
   "cell_type": "code",
   "execution_count": 2,
   "metadata": {
    "collapsed": false
   },
   "outputs": [
    {
     "name": "stdout",
     "output_type": "stream",
     "text": [
      "Area of domain = 6.283185307179587\n"
     ]
    }
   ],
   "source": [
    "F = FunctionSpace(10, 'F', domain=(0, 2*np.pi))\n",
    "T = TensorProductSpace(comm, (B, F))\n",
    "area = inner(1, Array(T, val=1))\n",
    "print('Area of domain =', area)"
   ]
  },
  {
   "cell_type": "markdown",
   "metadata": {},
   "source": [
    "Still not very impressive, but moving to curvilinear coordinates\n",
    "it all starts to become more interesting. Lets\n",
    "look at a spiral $C$ embedded in $\\mathbb{R}^3$, parametrized\n",
    "by one single parameter $t$"
   ]
  },
  {
   "cell_type": "markdown",
   "metadata": {},
   "source": [
    "$$\n",
    "\\begin{align*}\n",
    "x(t) &= \\sin 2t \\\\ \n",
    "y(t) &= \\cos 2t \\\\ \n",
    "z(t) &= \\frac{t}{2} \\\\ \n",
    "0 \\le & t \\le 2\\pi\n",
    "\\end{align*}\n",
    "$$"
   ]
  },
  {
   "cell_type": "markdown",
   "metadata": {},
   "source": [
    "What is the length of this spiral? The spiral can be\n",
    "seen as the red curve in the figure a few cells below.\n",
    "\n",
    "The integral over the parametrized curve $C$ can\n",
    "be written as"
   ]
  },
  {
   "cell_type": "markdown",
   "metadata": {},
   "source": [
    "$$\n",
    "\\int_C ds = \\int_{t=0}^{2\\pi} \\sqrt{\\left(\\frac{d x}{d t}\\right)^2 + \\left(\\frac{d y}{d t}\\right)^2 + \\left(\\frac{d z}{d t}\\right)^2} dt.\n",
    "$$"
   ]
  },
  {
   "cell_type": "markdown",
   "metadata": {},
   "source": [
    "We can find this integral easily using shenfun. Create\n",
    "a function space in curvilinear coordinates, providing\n",
    "the position vector $\\mathbf{r} = x(t)\\mathbf{i} + y(t) \\mathbf{j} + z(t) \\mathbf{k}$\n",
    "as input"
   ]
  },
  {
   "cell_type": "code",
   "execution_count": 3,
   "metadata": {
    "collapsed": false
   },
   "outputs": [],
   "source": [
    "import sympy as sp\n",
    "from shenfun import *\n",
    "t = sp.Symbol('x', real=True, positive=True)\n",
    "rv = (sp.sin(2*t), sp.cos(2*t), 0.5*t)\n",
    "C = FunctionSpace(100, 'C', domain=(0, 2*np.pi), coordinates=((t,), rv))"
   ]
  },
  {
   "cell_type": "markdown",
   "metadata": {},
   "source": [
    "Then compute the arclength using [inner()](https://shenfun.readthedocs.io/en/latest/shenfun.forms.html#shenfun.forms.inner.inner), again by using a constant\n",
    "testfunction 1, and a constant [Array](https://shenfun.readthedocs.io/en/latest/shenfun.forms.html#shenfun.forms.arguments.Array) `u=1`"
   ]
  },
  {
   "cell_type": "code",
   "execution_count": 4,
   "metadata": {
    "collapsed": false
   },
   "outputs": [
    {
     "name": "stdout",
     "output_type": "stream",
     "text": [
      "Length of spiral = 12.95311834341519\n"
     ]
    }
   ],
   "source": [
    "length = inner(1, Array(C, val=1))\n",
    "print('Length of spiral =', length)"
   ]
  },
  {
   "cell_type": "markdown",
   "metadata": {},
   "source": [
    "The arclength is found to be slightly longer than $4 \\pi$. Looking at the\n",
    "spiral below, the result looks reasonable."
   ]
  },
  {
   "cell_type": "code",
   "execution_count": 5,
   "metadata": {
    "collapsed": false
   },
   "outputs": [
    {
     "data": {
      "image/png": "[encoded data removed]",
      "text/plain": [
       "<Figure size 288x216 with 1 Axes>"
      ]
     },
     "metadata": {
      "needs_background": "light"
     },
     "output_type": "display_data"
    }
   ],
   "source": [
    "%matplotlib inline\n",
    "\n",
    "import matplotlib.pyplot as plt\n",
    "fig = plt.figure(figsize=(4, 3))\n",
    "X = C.cartesian_mesh(uniform=True)\n",
    "ax = fig.add_subplot(111, projection='3d')\n",
    "p = ax.plot(X[0], X[1], X[2], 'r')\n",
    "hx = ax.set_xticks(np.linspace(-1, 1, 5))\n",
    "hy = ax.set_yticks(np.linspace(-1, 1, 5))"
   ]
  },
  {
   "cell_type": "markdown",
   "metadata": {},
   "source": [
    "The term $\\sqrt{\\left(\\frac{d x}{d t}\\right)^2 + \\left(\\frac{d y}{d t}\\right)^2 + \\left(\\frac{d z}{d t}\\right)^2}$\n",
    "is actually here a constant $\\sqrt{4.25}$, found in shenfun as"
   ]
  },
  {
   "cell_type": "code",
   "execution_count": 6,
   "metadata": {
    "collapsed": false
   },
   "outputs": [
    {
     "data": {
      "text/plain": [
       "2.0615528128088303"
      ]
     },
     "execution_count": 6,
     "metadata": {},
     "output_type": "execute_result"
    }
   ],
   "source": [
    "C.coors.sg"
   ]
  },
  {
   "cell_type": "markdown",
   "metadata": {},
   "source": [
    "We could also integrate a non-constant function over the spiral.\n",
    "For example, lets integrate the function $f(x, y, z)= \\sin^2 x$"
   ]
  },
  {
   "cell_type": "markdown",
   "metadata": {},
   "source": [
    "$$\n",
    "\\int_C \\sin^2 x ds = \\int_{t=0}^{2\\pi} \\sin^2 (\\sin 2t) \\sqrt{\\left(\\frac{d x}{d t}\\right)^2 + \\left(\\frac{d y}{d t}\\right)^2 + \\left(\\frac{d z}{d t}\\right)^2} dt\n",
    "$$"
   ]
  },
  {
   "cell_type": "code",
   "execution_count": 7,
   "metadata": {
    "collapsed": false
   },
   "outputs": [
    {
     "data": {
      "text/plain": [
       "5.026517292599667"
      ]
     },
     "execution_count": 7,
     "metadata": {},
     "output_type": "execute_result"
    }
   ],
   "source": [
    "inner(1, Array(C, buffer=sp.sin(rv[0])**2))"
   ]
  },
  {
   "cell_type": "markdown",
   "metadata": {},
   "source": [
    "which can be easily verified using, e.g., Wolfram Alpha"
   ]
  },
  {
   "cell_type": "code",
   "execution_count": 8,
   "metadata": {
    "collapsed": false
   },
   "outputs": [
    {
     "data": {
      "text/html": [
       "\n",
       "        <iframe\n",
       "            width=\"500px\"\n",
       "            height=\"350px\"\n",
       "            src=\"https://www.wolframalpha.com/input/?i=integrate+sin%5E2%28sin%282t%29%29+sqrt%284.25%29+from+t%3D0+to+2pi\"\n",
       "            frameborder=\"0\"\n",
       "            allowfullscreen\n",
       "        ></iframe>\n",
       "        "
      ],
      "text/plain": [
       "<IPython.lib.display.IFrame at 0x7f8b080d4978>"
      ]
     },
     "execution_count": 8,
     "metadata": {},
     "output_type": "execute_result"
    }
   ],
   "source": [
    "from IPython.display import IFrame\n",
    "IFrame(\"https://www.wolframalpha.com/input/?i=integrate+sin%5E2%28sin%282t%29%29+sqrt%284.25%29+from+t%3D0+to+2pi\", width=\"500px\", height=\"350px\")"
   ]
  },
  {
   "cell_type": "markdown",
   "metadata": {},
   "source": [
    "### Surface integrals\n",
    "\n",
    "Consider a 3D function $f(x,y,z) \\in \\mathbb{R}^3$ and\n",
    "a 2D surface (not neccessarily plane) $S(u, v)$,\n",
    "parametrized in two new coordinates $u$ and $v$. A position\n",
    "vector $\\mathbf{r}$ can be used to parametrize $S$"
   ]
  },
  {
   "cell_type": "markdown",
   "metadata": {},
   "source": [
    "$$\n",
    "\\mathbf{r} = x(u, v) \\,\\mathbf{i} + y(u, v) \\,\\mathbf{j} + z(u, v) \\,\\mathbf{k},\n",
    "$$"
   ]
  },
  {
   "cell_type": "markdown",
   "metadata": {},
   "source": [
    "where $\\mathbf{i}, \\mathbf{j}, \\mathbf{k}$ are the Cartesian unit vectors.\n",
    "The two new coordinates $u$ and $v$ are functions of $x, y, z$,\n",
    "and they each have a one-dimensional domain"
   ]
  },
  {
   "cell_type": "markdown",
   "metadata": {},
   "source": [
    "$$\n",
    "u \\in D_u \\quad v \\in D_v.\n",
    "$$"
   ]
  },
  {
   "cell_type": "markdown",
   "metadata": {},
   "source": [
    "The exact size of the domain depends on the problem at hand. The computational\n",
    "domain of the surface $S$ is $D=D_u \\times D_v$.\n",
    "\n",
    "A surface integral of $f$ over $S$ can now be written"
   ]
  },
  {
   "cell_type": "markdown",
   "metadata": {},
   "source": [
    "$$\n",
    "\\int_S f(x, y, z) dS = \\int_D f(x(u, v), y(u, v), z(u, v)) \\left|\\frac{\\partial \\mathbf{r}}{\\partial u} \\times \\frac{\\partial \\mathbf{r}}{\\partial v} \\right| dudv,\n",
    "$$"
   ]
  },
  {
   "cell_type": "markdown",
   "metadata": {},
   "source": [
    "where $dS$ is a surface area element. With shenfun such integrals\n",
    "are trivial, even for highly complex domains.\n",
    "\n",
    "## Example 1\n",
    "\n",
    "Consider first the surface integral of $f(x,y,z)=x^2$\n",
    "over the unit sphere. We use regular spherical coordinates,"
   ]
  },
  {
   "cell_type": "markdown",
   "metadata": {},
   "source": [
    "$$\n",
    "\\begin{align*}\n",
    "0 &\\le \\theta \\le \\pi \\\\ \n",
    "0 &\\le \\phi \\le 2\\pi \\\\ \n",
    "x(\\theta, \\phi) &= \\sin \\theta \\cos \\phi \\\\ \n",
    "y(\\theta, \\phi) &= \\sin \\theta \\sin \\phi \\\\ \n",
    "z(\\theta, \\phi) &= \\cos \\theta\n",
    "\\end{align*}\n",
    "$$"
   ]
  },
  {
   "cell_type": "markdown",
   "metadata": {},
   "source": [
    "The straight forward implementation of a function space for\n",
    "the unit sphere reads"
   ]
  },
  {
   "cell_type": "code",
   "execution_count": 9,
   "metadata": {
    "collapsed": false
   },
   "outputs": [],
   "source": [
    "import sympy as sp\n",
    "\n",
    "theta, phi = psi =sp.symbols('x,y', real=True, positive=True)\n",
    "rv = (sp.sin(theta)*sp.cos(phi), sp.sin(theta)*sp.sin(phi), sp.cos(theta))\n",
    "\n",
    "B0 = FunctionSpace(0, 'C', domain=(0, np.pi))\n",
    "B1 = FunctionSpace(0, 'F', dtype='d')\n",
    "T = TensorProductSpace(comm, (B0, B1), coordinates=(psi, rv, sp.Q.positive(sp.sin(theta))))"
   ]
  },
  {
   "cell_type": "markdown",
   "metadata": {},
   "source": [
    "where `sp.Q.positive(sp.sin(theta))` is a restriction that\n",
    "helps `Sympy` in computing the Jacobian required for the integral.\n",
    "We can now approximate the function $f$ on this surface"
   ]
  },
  {
   "cell_type": "code",
   "execution_count": 10,
   "metadata": {
    "collapsed": false
   },
   "outputs": [],
   "source": [
    "f = Array(T, buffer=rv[0]**2)"
   ]
  },
  {
   "cell_type": "markdown",
   "metadata": {},
   "source": [
    "and we can integrate over $S$"
   ]
  },
  {
   "cell_type": "code",
   "execution_count": 11,
   "metadata": {
    "collapsed": false
   },
   "outputs": [],
   "source": [
    "I = inner(1, f)"
   ]
  },
  {
   "cell_type": "markdown",
   "metadata": {},
   "source": [
    "and finally compare to the exact result, which is $4 \\pi / 3$"
   ]
  },
  {
   "cell_type": "code",
   "execution_count": 12,
   "metadata": {
    "collapsed": false
   },
   "outputs": [
    {
     "name": "stdout",
     "output_type": "stream",
     "text": [
      "Error = 7.459207029825166e-08\n"
     ]
    }
   ],
   "source": [
    "print('Error =', abs(I-4*np.pi/3))"
   ]
  },
  {
   "cell_type": "markdown",
   "metadata": {},
   "source": [
    "Note that we can here achieve better accuracy by using\n",
    "more quadrature points. For example by refining `f`"
   ]
  },
  {
   "cell_type": "code",
   "execution_count": 13,
   "metadata": {
    "collapsed": false
   },
   "outputs": [
    {
     "name": "stdout",
     "output_type": "stream",
     "text": [
      "Error = 0.0\n"
     ]
    }
   ],
   "source": [
    "T = T.get_refined(2*np.array(f.global_shape))\n",
    "f = Array(T, buffer=rv[0]**2)\n",
    "print('Error =', abs(inner(1, f)-4*np.pi/3))"
   ]
  },
  {
   "cell_type": "markdown",
   "metadata": {},
   "source": [
    "Not bad at all:-)\n",
    "\n",
    "To go a little deeper into the integral, we can get the\n",
    "term $\\left|\\frac{\\partial \\mathbf{r}}{\\partial u} \\times \\frac{\\partial \\mathbf{r}}{\\partial v} \\right|$\n",
    "as"
   ]
  },
  {
   "cell_type": "code",
   "execution_count": 14,
   "metadata": {
    "collapsed": false
   },
   "outputs": [
    {
     "name": "stdout",
     "output_type": "stream",
     "text": [
      "sin(x)\n"
     ]
    }
   ],
   "source": [
    "print(T.coors.sg)"
   ]
  },
  {
   "cell_type": "markdown",
   "metadata": {},
   "source": [
    "Here the printed variable is `x`, but this is because `theta`\n",
    "is named `x` internally by `Sympy`. This is because of the definition\n",
    "used above: `theta, phi = sp.symbols('x,y', real=True, positive=True)`.\n",
    "\n",
    "Note that $\\mathbf{b}_u = \\frac{\\partial \\mathbf{r}}{\\partial u}$ and\n",
    "$\\mathbf{b}_v = \\frac{\\partial \\mathbf{r}}{\\partial v}$ are the two\n",
    "basis vectors used by shenfun for the surface $S$. The basis\n",
    "vectors are obtainable as `T.coors.b`, and can also be printed\n",
    "in latex using:"
   ]
  },
  {
   "cell_type": "code",
   "execution_count": 15,
   "metadata": {
    "collapsed": false
   },
   "outputs": [
    {
     "data": {
      "text/latex": [
       "$$ \\mathbf{b}_{\\theta} =\\cos{\\left(\\theta \\right)} \\cos{\\left(\\phi \\right)}\\,\\mathbf{i}+\\sin{\\left(\\phi \\right)} \\cos{\\left(\\theta \\right)}\\,\\mathbf{j}- \\sin{\\left(\\theta \\right)}\\,\\mathbf{k} \\\\ \\mathbf{b}_{\\phi} =- \\sin{\\left(\\theta \\right)} \\sin{\\left(\\phi \\right)}\\,\\mathbf{i}+\\sin{\\left(\\theta \\right)} \\cos{\\left(\\phi \\right)}\\,\\mathbf{j} \\\\  $$"
      ],
      "text/plain": [
       "<IPython.core.display.Math object>"
      ]
     },
     "execution_count": 15,
     "metadata": {},
     "output_type": "execute_result"
    }
   ],
   "source": [
    "from IPython.display import Math\n",
    "Math(T.coors.latex_basis_vectors(covariant=True, symbol_names={theta: '\\\\theta', phi: '\\\\phi'}))"
   ]
  },
  {
   "cell_type": "markdown",
   "metadata": {},
   "source": [
    "where we tell latex to print `theta` as $\\theta$, and not `x`:-)\n",
    "\n",
    "From the basis vectors it should be easy to see that $\\left| \\mathbf{b}_{\\theta} \\times \\mathbf{b}_{\\phi} \\right| = \\sin \\theta$.\n",
    "\n",
    "## Example 2\n",
    "\n",
    "Next, we solve [Example 5](http://www.math24.net/surface-integrals-of-first-kind.html)\n",
    "from the online resources at math24.net. Here"
   ]
  },
  {
   "cell_type": "markdown",
   "metadata": {},
   "source": [
    "$$\n",
    "f = \\sqrt{1+x^2+y^2}\n",
    "$$"
   ]
  },
  {
   "cell_type": "markdown",
   "metadata": {},
   "source": [
    "and the surface is defined by"
   ]
  },
  {
   "cell_type": "markdown",
   "metadata": {},
   "source": [
    "$$\n",
    "\\mathbf{r} = u \\cos v \\mathbf{i} + u \\sin v \\mathbf{j} + v \\mathbf{k}\n",
    "$$"
   ]
  },
  {
   "cell_type": "markdown",
   "metadata": {},
   "source": [
    "with $0 \\le u \\le 2, 0 \\le v \\le 2\\pi$.\n",
    "\n",
    "The implementation is only a few lines, and we end by comparing\n",
    "to the exact solution $14 \\pi /3$"
   ]
  },
  {
   "cell_type": "code",
   "execution_count": 16,
   "metadata": {
    "collapsed": false
   },
   "outputs": [
    {
     "name": "stdout",
     "output_type": "stream",
     "text": [
      "Error = 1.7763568394002505e-15\n"
     ]
    }
   ],
   "source": [
    "u, v = psi =sp.symbols('x,y', real=True, positive=True)\n",
    "rv = (u*sp.cos(v), u*sp.sin(v), v)\n",
    "B0 = FunctionSpace(0, 'C', domain=(0, 2))\n",
    "B1 = FunctionSpace(0, 'C', domain=(0, np.pi))\n",
    "T = TensorProductSpace(comm, (B0, B1), coordinates=(psi, rv))\n",
    "f = Array(T, buffer=sp.sqrt(1+rv[0]**2+rv[1]**2))\n",
    "print('Error =', abs(inner(1, f)-14*np.pi/3))"
   ]
  },
  {
   "cell_type": "markdown",
   "metadata": {},
   "source": [
    "In this case the integral measure is"
   ]
  },
  {
   "cell_type": "code",
   "execution_count": 17,
   "metadata": {
    "collapsed": false
   },
   "outputs": [
    {
     "name": "stdout",
     "output_type": "stream",
     "text": [
      "sqrt(x**2 + 1)\n"
     ]
    }
   ],
   "source": [
    "print(T.coors.sg)"
   ]
  },
  {
   "cell_type": "markdown",
   "metadata": {},
   "source": [
    "## Example 3\n",
    "\n",
    "In this third example we use a surface that\n",
    "looks like a seashell. Again, the example is taken from\n",
    "[chebfun](http://www.chebfun.org/examples/approx3/SurfaceIntegral3D.html).\n",
    "\n",
    "The surface of the seashell is parametrized with position\n",
    "vector"
   ]
  },
  {
   "cell_type": "markdown",
   "metadata": {},
   "source": [
    "$$\n",
    "\\begin{align*}\n",
    "\\mathbf{r} &= \\left(\\left(\\frac{5}{4}-\\frac{5 v}{8 \\pi}\\right)  \\cos 2v(1+\\cos u) + \\cos 2v \\right) \\mathbf{i} \\\\ \n",
    "  &+\\left(\\left(\\frac{5}{4}-\\frac{5 v}{8 \\pi}\\right) \\sin 2v (1+\\cos u) + \\sin 2v \\right) \\mathbf{j},\\\\ \n",
    "  &+\\left(\\frac{10 v}{2 \\pi} + \\left(\\frac{5}{4}-\\frac{5 v}{8 \\pi}\\right) \\sin u + 15\\right) \\mathbf{k}\n",
    "\\end{align*}\n",
    "$$"
   ]
  },
  {
   "cell_type": "markdown",
   "metadata": {},
   "source": [
    "for $0 \\le u \\le 2 \\pi, -2 \\pi \\le v \\le 2 \\pi$.\n",
    "\n",
    "The function $f$ is now defined as"
   ]
  },
  {
   "cell_type": "markdown",
   "metadata": {},
   "source": [
    "$$\n",
    "f(x,y,z) = x+y+z\n",
    "$$"
   ]
  },
  {
   "cell_type": "markdown",
   "metadata": {},
   "source": [
    "The implementation is"
   ]
  },
  {
   "cell_type": "code",
   "execution_count": 18,
   "metadata": {
    "collapsed": false
   },
   "outputs": [
    {
     "name": "stdout",
     "output_type": "stream",
     "text": [
      "-6030.7881470861\n"
     ]
    }
   ],
   "source": [
    "rv = (5*(1-v/(2*sp.pi))*sp.cos(2*v)*(1+sp.cos(u))/4 + sp.cos(2*v),\n",
    "      5*(1-v/(2*sp.pi))*sp.sin(2*v)*(1+sp.cos(u))/4 + sp.sin(2*v),\n",
    "      10*v/(2*sp.pi) + 5*(1-v/(2*sp.pi))*sp.sin(u)/4 + 15)\n",
    "\n",
    "B0 = FunctionSpace(100, 'C', domain=(0, 2*np.pi))\n",
    "B1 = FunctionSpace(100, 'C', domain=(-2*np.pi, 2*np.pi))\n",
    "T = TensorProductSpace(comm, (B0, B1), coordinates=(psi, rv, sp.Q.positive(v-2*sp.pi)))\n",
    "\n",
    "f = rv[0]+rv[1]+rv[2]\n",
    "fb = Array(T, buffer=f)\n",
    "I = inner(1, fb)\n",
    "print(I)"
   ]
  },
  {
   "cell_type": "markdown",
   "metadata": {},
   "source": [
    "which agrees very well with chebfun's result. The basis vectors\n",
    "for the surface of the seashell are"
   ]
  },
  {
   "cell_type": "code",
   "execution_count": 19,
   "metadata": {
    "collapsed": false
   },
   "outputs": [
    {
     "data": {
      "text/latex": [
       "$$ \\mathbf{b}_{u} =\\frac{5 \\left(v - 2 \\pi\\right) \\sin{\\left(u \\right)} \\cos{\\left(2 v \\right)}}{8 \\pi}\\,\\mathbf{i}+\\frac{5 \\left(v - 2 \\pi\\right) \\sin{\\left(u \\right)} \\sin{\\left(2 v \\right)}}{8 \\pi}\\,\\mathbf{j}- \\frac{5 \\left(v - 2 \\pi\\right) \\cos{\\left(u \\right)}}{8 \\pi}\\,\\mathbf{k} \\\\ \\mathbf{b}_{v} =\\frac{\\left(10 v - 20 \\pi\\right) \\left(\\cos{\\left(u \\right)} + 1\\right) \\sin{\\left(2 v \\right)} - 5 \\left(\\cos{\\left(u \\right)} + 1\\right) \\cos{\\left(2 v \\right)} - 16 \\pi \\sin{\\left(2 v \\right)}}{8 \\pi}\\,\\mathbf{i}+\\frac{\\left(- 10 v + 20 \\pi\\right) \\left(\\cos{\\left(u \\right)} + 1\\right) \\cos{\\left(2 v \\right)} - 5 \\left(\\cos{\\left(u \\right)} + 1\\right) \\sin{\\left(2 v \\right)} + 16 \\pi \\cos{\\left(2 v \\right)}}{8 \\pi}\\,\\mathbf{j}+\\frac{5 \\left(8 - \\sin{\\left(u \\right)}\\right)}{8 \\pi}\\,\\mathbf{k} \\\\  $$"
      ],
      "text/plain": [
       "<IPython.core.display.Math object>"
      ]
     },
     "execution_count": 19,
     "metadata": {},
     "output_type": "execute_result"
    }
   ],
   "source": [
    "Math(T.coors.latex_basis_vectors(covariant=True, symbol_names={u: 'u', v: 'v'}))"
   ]
  },
  {
   "cell_type": "markdown",
   "metadata": {},
   "source": [
    "which, if nothing else, shows the power of symbolic\n",
    "computing in Sympy.\n",
    "\n",
    "We can plot the\n",
    "seashell using mayavi. Unfortunately mayavi is a little tricky\n",
    "to use with readthedocs, so instead of generating the plot\n",
    "with the code below, we link here instead to a previously\n",
    "generated image."
   ]
  },
  {
   "cell_type": "markdown",
   "metadata": {},
   "source": [
    "        from mayavi import mlab\n",
    "        xx, yy, zz = T.local_cartesian_mesh()\n",
    "        mlab.figure(bgcolor=(1, 1, 1), size=(400, 400))\n",
    "        mlab.mesh(xx, yy, zz, scalars=fb, colormap='jet')\n",
    "        mlab.show()\n"
   ]
  },
  {
   "cell_type": "markdown",
   "metadata": {},
   "source": [
    "<!-- dom:FIGURE: [https://cdn.jsdelivr.net/gh/spectralDNS/spectralutilities@master/figures/seashell3.png] -->\n",
    "<!-- begin figure -->\n",
    "\n",
    "<p></p>\n",
    "<img src=\"https://cdn.jsdelivr.net/gh/spectralDNS/spectralutilities@master/figures/seashell3.png\" >\n",
    "\n",
    "<!-- end figure -->\n",
    "\n",
    "\n",
    "<!-- ======= Bibliography ======= -->"
   ]
  }
 ],
 "metadata": {
  "language_info": {
   "codemirror_mode": {
    "name": "ipython",
    "version": 3
   },
   "file_extension": ".py",
   "mimetype": "text/x-python",
   "name": "python",
   "nbconvert_exporter": "python",
   "pygments_lexer": "ipython3",
   "version": "3.6.11"
  }
 },
 "nbformat": 4,
 "nbformat_minor": 4
}
