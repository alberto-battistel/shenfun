{
 "cells": [
  {
   "cell_type": "markdown",
   "metadata": {},
   "source": [
    "# Vector Laplacian in Cylinder coordinates\n",
    "\n",
    "The vector Laplacian is\n",
    "\n",
    "$$\n",
    "\\nabla^2 \\vec{u} = \\nabla \\cdot \\nabla \\vec{u}\n",
    "$$\n",
    "\n",
    "It can be found in cylinder coordinates [here](https://en.wikipedia.org/wiki/Del_in_cylindrical_and_spherical_coordinates). Here we will use shenfun to derive the vector Laplacian operator.\n",
    "\n",
    "Cylinder coordinates are mapped to Cartesian through\n",
    "\n",
    "$$\n",
    "\\begin{align}\n",
    "x &= r \\cos \\theta \\\\\n",
    "y &= r \\sin \\theta \\\\\n",
    "z &= z\n",
    "\\end{align}\n",
    "$$\n",
    "\n",
    "This is all we need for the derivation."
   ]
  },
  {
   "cell_type": "code",
   "execution_count": 1,
   "metadata": {},
   "outputs": [],
   "source": [
    "from shenfun import *\n",
    "import sympy as sp\n",
    "\n",
    "r, theta, z = psi = sp.symbols('x,y,z', real=True, positive=True)\n",
    "rv = (r*sp.cos(theta), r*sp.sin(theta), z)\n",
    "\n",
    "N = 10\n",
    "F0 = Basis(N, 'F', dtype='d')\n",
    "F1 = Basis(N, 'F', dtype='D')\n",
    "L = Basis(N, 'L', domain=(0, 1))\n",
    "T = TensorProductSpace(comm, (L, F1, F0), coordinates=(psi, rv))\n",
    "V = VectorTensorProductSpace(T)\n",
    "u = TrialFunction(V)"
   ]
  },
  {
   "cell_type": "markdown",
   "metadata": {},
   "source": [
    "The vector Laplacian can now be found as"
   ]
  },
  {
   "cell_type": "code",
   "execution_count": 2,
   "metadata": {},
   "outputs": [],
   "source": [
    "du = div(grad(u))"
   ]
  },
  {
   "cell_type": "markdown",
   "metadata": {},
   "source": [
    "We can look at `du` using the following"
   ]
  },
  {
   "cell_type": "code",
   "execution_count": 3,
   "metadata": {},
   "outputs": [
    {
     "data": {
      "text/latex": [
       "$\\displaystyle \\left( \\frac{\\partial^2u_{r}}{\\partial^2r}+\\frac{1}{r}\\frac{\\partial u_{r}}{\\partial r}+\\frac{1}{r^{2}}\\frac{\\partial^2u_{r}}{\\partial^2\\theta}- \\frac{2}{r}\\frac{\\partial u_{\\theta}}{\\partial \\theta}- \\frac{1}{r^{2}}u_{r}+\\frac{\\partial^2u_{r}}{\\partial^2z}\\right) \\mathbf{b}_{r}+\\left( \\frac{\\partial^2u_{\\theta}}{\\partial^2r}+\\frac{3}{r}\\frac{\\partial u_{\\theta}}{\\partial r}+\\frac{2}{r^{3}}\\frac{\\partial u_{r}}{\\partial \\theta}+\\frac{1}{r^{2}}\\frac{\\partial^2u_{\\theta}}{\\partial^2\\theta}+\\frac{\\partial^2u_{\\theta}}{\\partial^2z}\\right) \\mathbf{b}_{\\theta}+\\left( \\frac{\\partial^2u_{z}}{\\partial^2r}+\\frac{1}{r}\\frac{\\partial u_{z}}{\\partial r}+\\frac{1}{r^{2}}\\frac{\\partial^2u_{z}}{\\partial^2\\theta}+\\frac{\\partial^2u_{z}}{\\partial^2z}\\right) \\mathbf{b}_{z}$"
      ],
      "text/plain": [
       "<IPython.core.display.Math object>"
      ]
     },
     "execution_count": 3,
     "metadata": {},
     "output_type": "execute_result"
    }
   ],
   "source": [
    "from IPython.display import Math\n",
    "Math((du).latexprint(funcname='u', symbol_names={r: 'r', theta: '\\\\theta', z: 'z'}))"
   ]
  },
  {
   "cell_type": "markdown",
   "metadata": {},
   "source": [
    "Note that the basis vectors $\\mathbf{b}_i$ are not unit vectors. For this reason the equation does not look exactly like the one [here](https://en.wikipedia.org/wiki/Del_in_cylindrical_and_spherical_coordinates). The basis vectors are"
   ]
  },
  {
   "cell_type": "code",
   "execution_count": 4,
   "metadata": {},
   "outputs": [
    {
     "data": {
      "text/latex": [
       "$\\displaystyle \\begin{matrix}\\mathbf{b}_{r}=&\\cos{\\left(\\theta \\right)}\\mathbf{i}+\\sin{\\left(\\theta \\right)}\\mathbf{j}+0\\mathbf{k} \\\\ \\mathbf{b}_{\\theta}=&- r \\sin{\\left(\\theta \\right)}\\mathbf{i}+r \\cos{\\left(\\theta \\right)}\\mathbf{j}+0\\mathbf{k} \\\\ \\mathbf{b}_{z}=&0\\mathbf{i}+0\\mathbf{j}+1\\mathbf{k} \\\\ \\end{matrix}$"
      ],
      "text/plain": [
       "<IPython.core.display.Math object>"
      ]
     },
     "execution_count": 4,
     "metadata": {},
     "output_type": "execute_result"
    }
   ],
   "source": [
    "b = T.coors.get_covariant_basis()\n",
    "k = {0: '\\\\mathbf{i}', 1: '\\\\mathbf{j}', 2: '\\\\mathbf{k}'}\n",
    "t = {0: 'r', 1: '\\\\theta', 2: 'z'}\n",
    "n = {r: 'r', theta: '\\\\theta', z: 'z'}\n",
    "m = '\\\\begin{matrix}'\n",
    "for i in range(3):\n",
    "    m += '\\\\mathbf{b}_{%s}=&'%(t[i])\n",
    "    for j in range(3):\n",
    "        m += (sp.latex(b[i, j], symbol_names=n)+k[j]+'+')\n",
    "    m = m.rstrip('+')\n",
    "    m += ' \\\\\\ '\n",
    "m += '\\\\end{matrix}'\n",
    "\n",
    "Math(m)"
   ]
  },
  {
   "cell_type": "markdown",
   "metadata": {},
   "source": [
    "Notice that $|\\mathbf{b}_{\\theta}|=r$. Shenfun uses non-normalized covariant basis vectors for describing all vectors and higher order tensors."
   ]
  }
 ],
 "metadata": {
  "kernelspec": {
   "display_name": "Python 3",
   "language": "python",
   "name": "python3"
  },
  "language_info": {
   "codemirror_mode": {
    "name": "ipython",
    "version": 3
   },
   "file_extension": ".py",
   "mimetype": "text/x-python",
   "name": "python",
   "nbconvert_exporter": "python",
   "pygments_lexer": "ipython3",
   "version": "3.7.6"
  }
 },
 "nbformat": 4,
 "nbformat_minor": 4
}
